{
  "nbformat": 4,
  "nbformat_minor": 0,
  "metadata": {
    "colab": {
      "name": "Moringa_School_Tom_Kinyanjui_Njoroge_Independent_Project_Week_6",
      "provenance": [],
      "toc_visible": true,
      "authorship_tag": "ABX9TyPtJC8wY8+AxzLtgxri6z5F",
      "include_colab_link": true
    },
    "kernelspec": {
      "name": "python3",
      "display_name": "Python 3"
    }
  },
  "cells": [
    {
      "cell_type": "markdown",
      "metadata": {
        "id": "view-in-github",
        "colab_type": "text"
      },
      "source": [
        "<a href=\"https://colab.research.google.com/github/tomeliud/test_project/blob/master/Moringa_School_Tom_Kinyanjui_Njoroge_Independent_Project_Week_6.ipynb\" target=\"_parent\"><img src=\"https://colab.research.google.com/assets/colab-badge.svg\" alt=\"Open In Colab\"/></a>"
      ]
    },
    {
      "cell_type": "markdown",
      "metadata": {
        "id": "9mgwZYtJa-i_",
        "colab_type": "text"
      },
      "source": [
        "# Defining our reserach question "
      ]
    },
    {
      "cell_type": "markdown",
      "metadata": {
        "id": "0GyXH8t5bK9-",
        "colab_type": "text"
      },
      "source": [
        "## **Research Question **"
      ]
    },
    {
      "cell_type": "markdown",
      "metadata": {
        "id": "xHN2QTgabLah",
        "colab_type": "text"
      },
      "source": [
        "## **Importing our libraries **"
      ]
    },
    {
      "cell_type": "code",
      "metadata": {
        "id": "dqoEJT3cbiLV",
        "colab_type": "code",
        "colab": {}
      },
      "source": [
        "import pandas as pd \n",
        "import numpy as np\n",
        "import matplotlib.pyplot as plt\n",
        "import seaborn as sns\n",
        "%matplotlib inline "
      ],
      "execution_count": 0,
      "outputs": []
    },
    {
      "cell_type": "markdown",
      "metadata": {
        "id": "JmTI2LTgcibV",
        "colab_type": "text"
      },
      "source": [
        "# Loading, viewing, and Cleaning our datasets "
      ]
    },
    {
      "cell_type": "markdown",
      "metadata": {
        "id": "JfO4uW0mcrIs",
        "colab_type": "text"
      },
      "source": [
        "## **Fifa ranking dataset **"
      ]
    },
    {
      "cell_type": "code",
      "metadata": {
        "id": "7nfL6f-Vc1cj",
        "colab_type": "code",
        "colab": {}
      },
      "source": [
        "fifa = pd.read_csv('fifa_ranking.csv')"
      ],
      "execution_count": 0,
      "outputs": []
    },
    {
      "cell_type": "markdown",
      "metadata": {
        "id": "vMWoymyzdXDl",
        "colab_type": "text"
      },
      "source": [
        "### **Description **"
      ]
    },
    {
      "cell_type": "code",
      "metadata": {
        "id": "6WRjEXkmdYan",
        "colab_type": "code",
        "outputId": "62d09617-0638-4e88-e9e8-55fd743be8ee",
        "colab": {
          "base_uri": "https://localhost:8080/",
          "height": 213
        }
      },
      "source": [
        "fifa.head(3)"
      ],
      "execution_count": 3,
      "outputs": [
        {
          "output_type": "execute_result",
          "data": {
            "text/html": [
              "<div>\n",
              "<style scoped>\n",
              "    .dataframe tbody tr th:only-of-type {\n",
              "        vertical-align: middle;\n",
              "    }\n",
              "\n",
              "    .dataframe tbody tr th {\n",
              "        vertical-align: top;\n",
              "    }\n",
              "\n",
              "    .dataframe thead th {\n",
              "        text-align: right;\n",
              "    }\n",
              "</style>\n",
              "<table border=\"1\" class=\"dataframe\">\n",
              "  <thead>\n",
              "    <tr style=\"text-align: right;\">\n",
              "      <th></th>\n",
              "      <th>rank</th>\n",
              "      <th>country_full</th>\n",
              "      <th>country_abrv</th>\n",
              "      <th>total_points</th>\n",
              "      <th>previous_points</th>\n",
              "      <th>rank_change</th>\n",
              "      <th>cur_year_avg</th>\n",
              "      <th>cur_year_avg_weighted</th>\n",
              "      <th>last_year_avg</th>\n",
              "      <th>last_year_avg_weighted</th>\n",
              "      <th>two_year_ago_avg</th>\n",
              "      <th>two_year_ago_weighted</th>\n",
              "      <th>three_year_ago_avg</th>\n",
              "      <th>three_year_ago_weighted</th>\n",
              "      <th>confederation</th>\n",
              "      <th>rank_date</th>\n",
              "    </tr>\n",
              "  </thead>\n",
              "  <tbody>\n",
              "    <tr>\n",
              "      <th>0</th>\n",
              "      <td>1</td>\n",
              "      <td>Germany</td>\n",
              "      <td>GER</td>\n",
              "      <td>0.0</td>\n",
              "      <td>57</td>\n",
              "      <td>0</td>\n",
              "      <td>0.0</td>\n",
              "      <td>0.0</td>\n",
              "      <td>0.0</td>\n",
              "      <td>0.0</td>\n",
              "      <td>0.0</td>\n",
              "      <td>0.0</td>\n",
              "      <td>0.0</td>\n",
              "      <td>0.0</td>\n",
              "      <td>UEFA</td>\n",
              "      <td>1993-08-08</td>\n",
              "    </tr>\n",
              "    <tr>\n",
              "      <th>1</th>\n",
              "      <td>2</td>\n",
              "      <td>Italy</td>\n",
              "      <td>ITA</td>\n",
              "      <td>0.0</td>\n",
              "      <td>57</td>\n",
              "      <td>0</td>\n",
              "      <td>0.0</td>\n",
              "      <td>0.0</td>\n",
              "      <td>0.0</td>\n",
              "      <td>0.0</td>\n",
              "      <td>0.0</td>\n",
              "      <td>0.0</td>\n",
              "      <td>0.0</td>\n",
              "      <td>0.0</td>\n",
              "      <td>UEFA</td>\n",
              "      <td>1993-08-08</td>\n",
              "    </tr>\n",
              "    <tr>\n",
              "      <th>2</th>\n",
              "      <td>3</td>\n",
              "      <td>Switzerland</td>\n",
              "      <td>SUI</td>\n",
              "      <td>0.0</td>\n",
              "      <td>50</td>\n",
              "      <td>9</td>\n",
              "      <td>0.0</td>\n",
              "      <td>0.0</td>\n",
              "      <td>0.0</td>\n",
              "      <td>0.0</td>\n",
              "      <td>0.0</td>\n",
              "      <td>0.0</td>\n",
              "      <td>0.0</td>\n",
              "      <td>0.0</td>\n",
              "      <td>UEFA</td>\n",
              "      <td>1993-08-08</td>\n",
              "    </tr>\n",
              "  </tbody>\n",
              "</table>\n",
              "</div>"
            ],
            "text/plain": [
              "   rank country_full  ... confederation   rank_date\n",
              "0     1      Germany  ...          UEFA  1993-08-08\n",
              "1     2        Italy  ...          UEFA  1993-08-08\n",
              "2     3  Switzerland  ...          UEFA  1993-08-08\n",
              "\n",
              "[3 rows x 16 columns]"
            ]
          },
          "metadata": {
            "tags": []
          },
          "execution_count": 3
        }
      ]
    },
    {
      "cell_type": "code",
      "metadata": {
        "id": "NCtjdclpdi0H",
        "colab_type": "code",
        "outputId": "f49c3ac3-0eeb-4901-ae3d-dfeabf82b384",
        "colab": {
          "base_uri": "https://localhost:8080/",
          "height": 213
        }
      },
      "source": [
        "fifa.tail(3)"
      ],
      "execution_count": 4,
      "outputs": [
        {
          "output_type": "execute_result",
          "data": {
            "text/html": [
              "<div>\n",
              "<style scoped>\n",
              "    .dataframe tbody tr th:only-of-type {\n",
              "        vertical-align: middle;\n",
              "    }\n",
              "\n",
              "    .dataframe tbody tr th {\n",
              "        vertical-align: top;\n",
              "    }\n",
              "\n",
              "    .dataframe thead th {\n",
              "        text-align: right;\n",
              "    }\n",
              "</style>\n",
              "<table border=\"1\" class=\"dataframe\">\n",
              "  <thead>\n",
              "    <tr style=\"text-align: right;\">\n",
              "      <th></th>\n",
              "      <th>rank</th>\n",
              "      <th>country_full</th>\n",
              "      <th>country_abrv</th>\n",
              "      <th>total_points</th>\n",
              "      <th>previous_points</th>\n",
              "      <th>rank_change</th>\n",
              "      <th>cur_year_avg</th>\n",
              "      <th>cur_year_avg_weighted</th>\n",
              "      <th>last_year_avg</th>\n",
              "      <th>last_year_avg_weighted</th>\n",
              "      <th>two_year_ago_avg</th>\n",
              "      <th>two_year_ago_weighted</th>\n",
              "      <th>three_year_ago_avg</th>\n",
              "      <th>three_year_ago_weighted</th>\n",
              "      <th>confederation</th>\n",
              "      <th>rank_date</th>\n",
              "    </tr>\n",
              "  </thead>\n",
              "  <tbody>\n",
              "    <tr>\n",
              "      <th>57790</th>\n",
              "      <td>206</td>\n",
              "      <td>Eritrea</td>\n",
              "      <td>ERI</td>\n",
              "      <td>0.0</td>\n",
              "      <td>0</td>\n",
              "      <td>1</td>\n",
              "      <td>0.0</td>\n",
              "      <td>0.0</td>\n",
              "      <td>0.0</td>\n",
              "      <td>0.0</td>\n",
              "      <td>0.0</td>\n",
              "      <td>0.0</td>\n",
              "      <td>0.0</td>\n",
              "      <td>0.0</td>\n",
              "      <td>CAF</td>\n",
              "      <td>2018-06-07</td>\n",
              "    </tr>\n",
              "    <tr>\n",
              "      <th>57791</th>\n",
              "      <td>206</td>\n",
              "      <td>Somalia</td>\n",
              "      <td>SOM</td>\n",
              "      <td>0.0</td>\n",
              "      <td>0</td>\n",
              "      <td>1</td>\n",
              "      <td>0.0</td>\n",
              "      <td>0.0</td>\n",
              "      <td>0.0</td>\n",
              "      <td>0.0</td>\n",
              "      <td>0.0</td>\n",
              "      <td>0.0</td>\n",
              "      <td>0.0</td>\n",
              "      <td>0.0</td>\n",
              "      <td>CAF</td>\n",
              "      <td>2018-06-07</td>\n",
              "    </tr>\n",
              "    <tr>\n",
              "      <th>57792</th>\n",
              "      <td>206</td>\n",
              "      <td>Tonga</td>\n",
              "      <td>TGA</td>\n",
              "      <td>0.0</td>\n",
              "      <td>0</td>\n",
              "      <td>1</td>\n",
              "      <td>0.0</td>\n",
              "      <td>0.0</td>\n",
              "      <td>0.0</td>\n",
              "      <td>0.0</td>\n",
              "      <td>0.0</td>\n",
              "      <td>0.0</td>\n",
              "      <td>0.0</td>\n",
              "      <td>0.0</td>\n",
              "      <td>OFC</td>\n",
              "      <td>2018-06-07</td>\n",
              "    </tr>\n",
              "  </tbody>\n",
              "</table>\n",
              "</div>"
            ],
            "text/plain": [
              "       rank country_full  ... confederation   rank_date\n",
              "57790   206      Eritrea  ...           CAF  2018-06-07\n",
              "57791   206      Somalia  ...           CAF  2018-06-07\n",
              "57792   206        Tonga  ...           OFC  2018-06-07\n",
              "\n",
              "[3 rows x 16 columns]"
            ]
          },
          "metadata": {
            "tags": []
          },
          "execution_count": 4
        }
      ]
    },
    {
      "cell_type": "markdown",
      "metadata": {
        "id": "52K7Q8R9d9Jr",
        "colab_type": "text"
      },
      "source": [
        "### **Checking the data**"
      ]
    },
    {
      "cell_type": "code",
      "metadata": {
        "id": "-kjwZPk7eDNy",
        "colab_type": "code",
        "outputId": "6f58905c-cf0e-41ae-8bbc-77db628be303",
        "colab": {
          "base_uri": "https://localhost:8080/",
          "height": 35
        }
      },
      "source": [
        "#size\n",
        "print(\"The dataset has \" + str(fifa.shape[0]) + \"rows, and \" + str(fifa.shape[1]) + \" columns\")"
      ],
      "execution_count": 5,
      "outputs": [
        {
          "output_type": "stream",
          "text": [
            "The dataset has 57793rows, and 16 columns\n"
          ],
          "name": "stdout"
        }
      ]
    },
    {
      "cell_type": "code",
      "metadata": {
        "id": "OLakB_yfe_2s",
        "colab_type": "code",
        "outputId": "bef76a61-e671-4650-ee17-56756d8d4703",
        "colab": {
          "base_uri": "https://localhost:8080/",
          "height": 35
        }
      },
      "source": [
        "#getting dementions \n",
        "fifa.ndim"
      ],
      "execution_count": 6,
      "outputs": [
        {
          "output_type": "execute_result",
          "data": {
            "text/plain": [
              "2"
            ]
          },
          "metadata": {
            "tags": []
          },
          "execution_count": 6
        }
      ]
    },
    {
      "cell_type": "code",
      "metadata": {
        "id": "nsep9TnHfLqE",
        "colab_type": "code",
        "outputId": "a5c0c43a-780a-4c14-ca03-a13c71296fe1",
        "colab": {
          "base_uri": "https://localhost:8080/",
          "height": 312
        }
      },
      "source": [
        "print(fifa.nunique())"
      ],
      "execution_count": 7,
      "outputs": [
        {
          "output_type": "stream",
          "text": [
            "rank                         209\n",
            "country_full                 216\n",
            "country_abrv                 216\n",
            "total_points               11114\n",
            "previous_points             1557\n",
            "rank_change                  121\n",
            "cur_year_avg                7419\n",
            "cur_year_avg_weighted       7419\n",
            "last_year_avg               7473\n",
            "last_year_avg_weighted      7001\n",
            "two_year_ago_avg            7575\n",
            "two_year_ago_weighted       6513\n",
            "three_year_ago_avg          7628\n",
            "three_year_ago_weighted     5849\n",
            "confederation                  6\n",
            "rank_date                    286\n",
            "dtype: int64\n"
          ],
          "name": "stdout"
        }
      ]
    },
    {
      "cell_type": "code",
      "metadata": {
        "id": "pn6_SdeXfb4t",
        "colab_type": "code",
        "outputId": "6b4189b1-a0cd-4d36-88a9-822ffc35b24c",
        "colab": {
          "base_uri": "https://localhost:8080/",
          "height": 416
        }
      },
      "source": [
        "#checking whether each column has appropraite datatype\n",
        "fifa.info()"
      ],
      "execution_count": 8,
      "outputs": [
        {
          "output_type": "stream",
          "text": [
            "<class 'pandas.core.frame.DataFrame'>\n",
            "RangeIndex: 57793 entries, 0 to 57792\n",
            "Data columns (total 16 columns):\n",
            " #   Column                   Non-Null Count  Dtype  \n",
            "---  ------                   --------------  -----  \n",
            " 0   rank                     57793 non-null  int64  \n",
            " 1   country_full             57793 non-null  object \n",
            " 2   country_abrv             57793 non-null  object \n",
            " 3   total_points             57793 non-null  float64\n",
            " 4   previous_points          57793 non-null  int64  \n",
            " 5   rank_change              57793 non-null  int64  \n",
            " 6   cur_year_avg             57793 non-null  float64\n",
            " 7   cur_year_avg_weighted    57793 non-null  float64\n",
            " 8   last_year_avg            57793 non-null  float64\n",
            " 9   last_year_avg_weighted   57793 non-null  float64\n",
            " 10  two_year_ago_avg         57793 non-null  float64\n",
            " 11  two_year_ago_weighted    57793 non-null  float64\n",
            " 12  three_year_ago_avg       57793 non-null  float64\n",
            " 13  three_year_ago_weighted  57793 non-null  float64\n",
            " 14  confederation            57793 non-null  object \n",
            " 15  rank_date                57793 non-null  object \n",
            "dtypes: float64(9), int64(3), object(4)\n",
            "memory usage: 7.1+ MB\n"
          ],
          "name": "stdout"
        }
      ]
    },
    {
      "cell_type": "markdown",
      "metadata": {
        "id": "mMiEMGMsh8YT",
        "colab_type": "text"
      },
      "source": [
        "### Tydying the dataset "
      ]
    },
    {
      "cell_type": "code",
      "metadata": {
        "id": "j1b7S2n0iAXx",
        "colab_type": "code",
        "outputId": "401561f7-c20d-4463-e85e-bbf07b577cd6",
        "colab": {
          "base_uri": "https://localhost:8080/",
          "height": 312
        }
      },
      "source": [
        "# checking for null values in any column\n",
        "fifa.isnull().any()"
      ],
      "execution_count": 9,
      "outputs": [
        {
          "output_type": "execute_result",
          "data": {
            "text/plain": [
              "rank                       False\n",
              "country_full               False\n",
              "country_abrv               False\n",
              "total_points               False\n",
              "previous_points            False\n",
              "rank_change                False\n",
              "cur_year_avg               False\n",
              "cur_year_avg_weighted      False\n",
              "last_year_avg              False\n",
              "last_year_avg_weighted     False\n",
              "two_year_ago_avg           False\n",
              "two_year_ago_weighted      False\n",
              "three_year_ago_avg         False\n",
              "three_year_ago_weighted    False\n",
              "confederation              False\n",
              "rank_date                  False\n",
              "dtype: bool"
            ]
          },
          "metadata": {
            "tags": []
          },
          "execution_count": 9
        }
      ]
    },
    {
      "cell_type": "code",
      "metadata": {
        "id": "V29EhuzHiVxp",
        "colab_type": "code",
        "outputId": "d939e397-5620-415f-f2d8-5a7266eb2b50",
        "colab": {
          "base_uri": "https://localhost:8080/",
          "height": 35
        }
      },
      "source": [
        "#duplicates \n",
        "fifa.duplicated().any()"
      ],
      "execution_count": 10,
      "outputs": [
        {
          "output_type": "execute_result",
          "data": {
            "text/plain": [
              "True"
            ]
          },
          "metadata": {
            "tags": []
          },
          "execution_count": 10
        }
      ]
    },
    {
      "cell_type": "code",
      "metadata": {
        "id": "uQzDtdWdjCRf",
        "colab_type": "code",
        "outputId": "e5e78e59-39e1-477e-f445-d91380d6a5dc",
        "colab": {
          "base_uri": "https://localhost:8080/",
          "height": 609
        }
      },
      "source": [
        "#droping duplicates \n",
        "fifa.drop_duplicates()"
      ],
      "execution_count": 11,
      "outputs": [
        {
          "output_type": "execute_result",
          "data": {
            "text/html": [
              "<div>\n",
              "<style scoped>\n",
              "    .dataframe tbody tr th:only-of-type {\n",
              "        vertical-align: middle;\n",
              "    }\n",
              "\n",
              "    .dataframe tbody tr th {\n",
              "        vertical-align: top;\n",
              "    }\n",
              "\n",
              "    .dataframe thead th {\n",
              "        text-align: right;\n",
              "    }\n",
              "</style>\n",
              "<table border=\"1\" class=\"dataframe\">\n",
              "  <thead>\n",
              "    <tr style=\"text-align: right;\">\n",
              "      <th></th>\n",
              "      <th>rank</th>\n",
              "      <th>country_full</th>\n",
              "      <th>country_abrv</th>\n",
              "      <th>total_points</th>\n",
              "      <th>previous_points</th>\n",
              "      <th>rank_change</th>\n",
              "      <th>cur_year_avg</th>\n",
              "      <th>cur_year_avg_weighted</th>\n",
              "      <th>last_year_avg</th>\n",
              "      <th>last_year_avg_weighted</th>\n",
              "      <th>two_year_ago_avg</th>\n",
              "      <th>two_year_ago_weighted</th>\n",
              "      <th>three_year_ago_avg</th>\n",
              "      <th>three_year_ago_weighted</th>\n",
              "      <th>confederation</th>\n",
              "      <th>rank_date</th>\n",
              "    </tr>\n",
              "  </thead>\n",
              "  <tbody>\n",
              "    <tr>\n",
              "      <th>0</th>\n",
              "      <td>1</td>\n",
              "      <td>Germany</td>\n",
              "      <td>GER</td>\n",
              "      <td>0.0</td>\n",
              "      <td>57</td>\n",
              "      <td>0</td>\n",
              "      <td>0.0</td>\n",
              "      <td>0.0</td>\n",
              "      <td>0.0</td>\n",
              "      <td>0.0</td>\n",
              "      <td>0.0</td>\n",
              "      <td>0.0</td>\n",
              "      <td>0.0</td>\n",
              "      <td>0.0</td>\n",
              "      <td>UEFA</td>\n",
              "      <td>1993-08-08</td>\n",
              "    </tr>\n",
              "    <tr>\n",
              "      <th>1</th>\n",
              "      <td>2</td>\n",
              "      <td>Italy</td>\n",
              "      <td>ITA</td>\n",
              "      <td>0.0</td>\n",
              "      <td>57</td>\n",
              "      <td>0</td>\n",
              "      <td>0.0</td>\n",
              "      <td>0.0</td>\n",
              "      <td>0.0</td>\n",
              "      <td>0.0</td>\n",
              "      <td>0.0</td>\n",
              "      <td>0.0</td>\n",
              "      <td>0.0</td>\n",
              "      <td>0.0</td>\n",
              "      <td>UEFA</td>\n",
              "      <td>1993-08-08</td>\n",
              "    </tr>\n",
              "    <tr>\n",
              "      <th>2</th>\n",
              "      <td>3</td>\n",
              "      <td>Switzerland</td>\n",
              "      <td>SUI</td>\n",
              "      <td>0.0</td>\n",
              "      <td>50</td>\n",
              "      <td>9</td>\n",
              "      <td>0.0</td>\n",
              "      <td>0.0</td>\n",
              "      <td>0.0</td>\n",
              "      <td>0.0</td>\n",
              "      <td>0.0</td>\n",
              "      <td>0.0</td>\n",
              "      <td>0.0</td>\n",
              "      <td>0.0</td>\n",
              "      <td>UEFA</td>\n",
              "      <td>1993-08-08</td>\n",
              "    </tr>\n",
              "    <tr>\n",
              "      <th>3</th>\n",
              "      <td>4</td>\n",
              "      <td>Sweden</td>\n",
              "      <td>SWE</td>\n",
              "      <td>0.0</td>\n",
              "      <td>55</td>\n",
              "      <td>0</td>\n",
              "      <td>0.0</td>\n",
              "      <td>0.0</td>\n",
              "      <td>0.0</td>\n",
              "      <td>0.0</td>\n",
              "      <td>0.0</td>\n",
              "      <td>0.0</td>\n",
              "      <td>0.0</td>\n",
              "      <td>0.0</td>\n",
              "      <td>UEFA</td>\n",
              "      <td>1993-08-08</td>\n",
              "    </tr>\n",
              "    <tr>\n",
              "      <th>4</th>\n",
              "      <td>5</td>\n",
              "      <td>Argentina</td>\n",
              "      <td>ARG</td>\n",
              "      <td>0.0</td>\n",
              "      <td>51</td>\n",
              "      <td>5</td>\n",
              "      <td>0.0</td>\n",
              "      <td>0.0</td>\n",
              "      <td>0.0</td>\n",
              "      <td>0.0</td>\n",
              "      <td>0.0</td>\n",
              "      <td>0.0</td>\n",
              "      <td>0.0</td>\n",
              "      <td>0.0</td>\n",
              "      <td>CONMEBOL</td>\n",
              "      <td>1993-08-08</td>\n",
              "    </tr>\n",
              "    <tr>\n",
              "      <th>...</th>\n",
              "      <td>...</td>\n",
              "      <td>...</td>\n",
              "      <td>...</td>\n",
              "      <td>...</td>\n",
              "      <td>...</td>\n",
              "      <td>...</td>\n",
              "      <td>...</td>\n",
              "      <td>...</td>\n",
              "      <td>...</td>\n",
              "      <td>...</td>\n",
              "      <td>...</td>\n",
              "      <td>...</td>\n",
              "      <td>...</td>\n",
              "      <td>...</td>\n",
              "      <td>...</td>\n",
              "      <td>...</td>\n",
              "    </tr>\n",
              "    <tr>\n",
              "      <th>57788</th>\n",
              "      <td>206</td>\n",
              "      <td>Anguilla</td>\n",
              "      <td>AIA</td>\n",
              "      <td>0.0</td>\n",
              "      <td>0</td>\n",
              "      <td>1</td>\n",
              "      <td>0.0</td>\n",
              "      <td>0.0</td>\n",
              "      <td>0.0</td>\n",
              "      <td>0.0</td>\n",
              "      <td>0.0</td>\n",
              "      <td>0.0</td>\n",
              "      <td>0.0</td>\n",
              "      <td>0.0</td>\n",
              "      <td>CONCACAF</td>\n",
              "      <td>2018-06-07</td>\n",
              "    </tr>\n",
              "    <tr>\n",
              "      <th>57789</th>\n",
              "      <td>206</td>\n",
              "      <td>Bahamas</td>\n",
              "      <td>BAH</td>\n",
              "      <td>0.0</td>\n",
              "      <td>0</td>\n",
              "      <td>1</td>\n",
              "      <td>0.0</td>\n",
              "      <td>0.0</td>\n",
              "      <td>0.0</td>\n",
              "      <td>0.0</td>\n",
              "      <td>0.0</td>\n",
              "      <td>0.0</td>\n",
              "      <td>0.0</td>\n",
              "      <td>0.0</td>\n",
              "      <td>CONCACAF</td>\n",
              "      <td>2018-06-07</td>\n",
              "    </tr>\n",
              "    <tr>\n",
              "      <th>57790</th>\n",
              "      <td>206</td>\n",
              "      <td>Eritrea</td>\n",
              "      <td>ERI</td>\n",
              "      <td>0.0</td>\n",
              "      <td>0</td>\n",
              "      <td>1</td>\n",
              "      <td>0.0</td>\n",
              "      <td>0.0</td>\n",
              "      <td>0.0</td>\n",
              "      <td>0.0</td>\n",
              "      <td>0.0</td>\n",
              "      <td>0.0</td>\n",
              "      <td>0.0</td>\n",
              "      <td>0.0</td>\n",
              "      <td>CAF</td>\n",
              "      <td>2018-06-07</td>\n",
              "    </tr>\n",
              "    <tr>\n",
              "      <th>57791</th>\n",
              "      <td>206</td>\n",
              "      <td>Somalia</td>\n",
              "      <td>SOM</td>\n",
              "      <td>0.0</td>\n",
              "      <td>0</td>\n",
              "      <td>1</td>\n",
              "      <td>0.0</td>\n",
              "      <td>0.0</td>\n",
              "      <td>0.0</td>\n",
              "      <td>0.0</td>\n",
              "      <td>0.0</td>\n",
              "      <td>0.0</td>\n",
              "      <td>0.0</td>\n",
              "      <td>0.0</td>\n",
              "      <td>CAF</td>\n",
              "      <td>2018-06-07</td>\n",
              "    </tr>\n",
              "    <tr>\n",
              "      <th>57792</th>\n",
              "      <td>206</td>\n",
              "      <td>Tonga</td>\n",
              "      <td>TGA</td>\n",
              "      <td>0.0</td>\n",
              "      <td>0</td>\n",
              "      <td>1</td>\n",
              "      <td>0.0</td>\n",
              "      <td>0.0</td>\n",
              "      <td>0.0</td>\n",
              "      <td>0.0</td>\n",
              "      <td>0.0</td>\n",
              "      <td>0.0</td>\n",
              "      <td>0.0</td>\n",
              "      <td>0.0</td>\n",
              "      <td>OFC</td>\n",
              "      <td>2018-06-07</td>\n",
              "    </tr>\n",
              "  </tbody>\n",
              "</table>\n",
              "<p>57756 rows × 16 columns</p>\n",
              "</div>"
            ],
            "text/plain": [
              "       rank country_full  ... confederation   rank_date\n",
              "0         1      Germany  ...          UEFA  1993-08-08\n",
              "1         2        Italy  ...          UEFA  1993-08-08\n",
              "2         3  Switzerland  ...          UEFA  1993-08-08\n",
              "3         4       Sweden  ...          UEFA  1993-08-08\n",
              "4         5    Argentina  ...      CONMEBOL  1993-08-08\n",
              "...     ...          ...  ...           ...         ...\n",
              "57788   206     Anguilla  ...      CONCACAF  2018-06-07\n",
              "57789   206      Bahamas  ...      CONCACAF  2018-06-07\n",
              "57790   206      Eritrea  ...           CAF  2018-06-07\n",
              "57791   206      Somalia  ...           CAF  2018-06-07\n",
              "57792   206        Tonga  ...           OFC  2018-06-07\n",
              "\n",
              "[57756 rows x 16 columns]"
            ]
          },
          "metadata": {
            "tags": []
          },
          "execution_count": 11
        }
      ]
    },
    {
      "cell_type": "code",
      "metadata": {
        "id": "5ozegLfvjWgW",
        "colab_type": "code",
        "outputId": "bc0369de-de4f-42ca-a786-0d8162b33449",
        "colab": {
          "base_uri": "https://localhost:8080/",
          "height": 314
        }
      },
      "source": [
        "#stastical description of our dataset \n",
        "pd.options.display.float_format = \"{:.3f}\".format # supress the scientific format\n",
        "fifa.describe()"
      ],
      "execution_count": 12,
      "outputs": [
        {
          "output_type": "execute_result",
          "data": {
            "text/html": [
              "<div>\n",
              "<style scoped>\n",
              "    .dataframe tbody tr th:only-of-type {\n",
              "        vertical-align: middle;\n",
              "    }\n",
              "\n",
              "    .dataframe tbody tr th {\n",
              "        vertical-align: top;\n",
              "    }\n",
              "\n",
              "    .dataframe thead th {\n",
              "        text-align: right;\n",
              "    }\n",
              "</style>\n",
              "<table border=\"1\" class=\"dataframe\">\n",
              "  <thead>\n",
              "    <tr style=\"text-align: right;\">\n",
              "      <th></th>\n",
              "      <th>rank</th>\n",
              "      <th>total_points</th>\n",
              "      <th>previous_points</th>\n",
              "      <th>rank_change</th>\n",
              "      <th>cur_year_avg</th>\n",
              "      <th>cur_year_avg_weighted</th>\n",
              "      <th>last_year_avg</th>\n",
              "      <th>last_year_avg_weighted</th>\n",
              "      <th>two_year_ago_avg</th>\n",
              "      <th>two_year_ago_weighted</th>\n",
              "      <th>three_year_ago_avg</th>\n",
              "      <th>three_year_ago_weighted</th>\n",
              "    </tr>\n",
              "  </thead>\n",
              "  <tbody>\n",
              "    <tr>\n",
              "      <th>count</th>\n",
              "      <td>57793.000</td>\n",
              "      <td>57793.000</td>\n",
              "      <td>57793.000</td>\n",
              "      <td>57793.000</td>\n",
              "      <td>57793.000</td>\n",
              "      <td>57793.000</td>\n",
              "      <td>57793.000</td>\n",
              "      <td>57793.000</td>\n",
              "      <td>57793.000</td>\n",
              "      <td>57793.000</td>\n",
              "      <td>57793.000</td>\n",
              "      <td>57793.000</td>\n",
              "    </tr>\n",
              "    <tr>\n",
              "      <th>mean</th>\n",
              "      <td>101.628</td>\n",
              "      <td>122.069</td>\n",
              "      <td>332.303</td>\n",
              "      <td>-0.010</td>\n",
              "      <td>61.799</td>\n",
              "      <td>61.799</td>\n",
              "      <td>61.005</td>\n",
              "      <td>30.502</td>\n",
              "      <td>59.777</td>\n",
              "      <td>17.933</td>\n",
              "      <td>59.174</td>\n",
              "      <td>11.835</td>\n",
              "    </tr>\n",
              "    <tr>\n",
              "      <th>std</th>\n",
              "      <td>58.618</td>\n",
              "      <td>260.427</td>\n",
              "      <td>302.873</td>\n",
              "      <td>5.804</td>\n",
              "      <td>138.015</td>\n",
              "      <td>138.015</td>\n",
              "      <td>137.688</td>\n",
              "      <td>68.844</td>\n",
              "      <td>136.296</td>\n",
              "      <td>40.889</td>\n",
              "      <td>135.533</td>\n",
              "      <td>27.107</td>\n",
              "    </tr>\n",
              "    <tr>\n",
              "      <th>min</th>\n",
              "      <td>1.000</td>\n",
              "      <td>0.000</td>\n",
              "      <td>0.000</td>\n",
              "      <td>-72.000</td>\n",
              "      <td>0.000</td>\n",
              "      <td>0.000</td>\n",
              "      <td>0.000</td>\n",
              "      <td>0.000</td>\n",
              "      <td>0.000</td>\n",
              "      <td>0.000</td>\n",
              "      <td>0.000</td>\n",
              "      <td>0.000</td>\n",
              "    </tr>\n",
              "    <tr>\n",
              "      <th>25%</th>\n",
              "      <td>51.000</td>\n",
              "      <td>0.000</td>\n",
              "      <td>56.000</td>\n",
              "      <td>-2.000</td>\n",
              "      <td>0.000</td>\n",
              "      <td>0.000</td>\n",
              "      <td>0.000</td>\n",
              "      <td>0.000</td>\n",
              "      <td>0.000</td>\n",
              "      <td>0.000</td>\n",
              "      <td>0.000</td>\n",
              "      <td>0.000</td>\n",
              "    </tr>\n",
              "    <tr>\n",
              "      <th>50%</th>\n",
              "      <td>101.000</td>\n",
              "      <td>0.000</td>\n",
              "      <td>272.000</td>\n",
              "      <td>0.000</td>\n",
              "      <td>0.000</td>\n",
              "      <td>0.000</td>\n",
              "      <td>0.000</td>\n",
              "      <td>0.000</td>\n",
              "      <td>0.000</td>\n",
              "      <td>0.000</td>\n",
              "      <td>0.000</td>\n",
              "      <td>0.000</td>\n",
              "    </tr>\n",
              "    <tr>\n",
              "      <th>75%</th>\n",
              "      <td>152.000</td>\n",
              "      <td>92.790</td>\n",
              "      <td>525.000</td>\n",
              "      <td>1.000</td>\n",
              "      <td>32.250</td>\n",
              "      <td>32.250</td>\n",
              "      <td>26.660</td>\n",
              "      <td>13.330</td>\n",
              "      <td>21.500</td>\n",
              "      <td>6.450</td>\n",
              "      <td>21.250</td>\n",
              "      <td>4.250</td>\n",
              "    </tr>\n",
              "    <tr>\n",
              "      <th>max</th>\n",
              "      <td>209.000</td>\n",
              "      <td>1775.030</td>\n",
              "      <td>1920.000</td>\n",
              "      <td>92.000</td>\n",
              "      <td>1158.660</td>\n",
              "      <td>1158.660</td>\n",
              "      <td>1169.570</td>\n",
              "      <td>584.790</td>\n",
              "      <td>1159.710</td>\n",
              "      <td>347.910</td>\n",
              "      <td>1200.770</td>\n",
              "      <td>240.150</td>\n",
              "    </tr>\n",
              "  </tbody>\n",
              "</table>\n",
              "</div>"
            ],
            "text/plain": [
              "           rank  total_points  ...  three_year_ago_avg  three_year_ago_weighted\n",
              "count 57793.000     57793.000  ...           57793.000                57793.000\n",
              "mean    101.628       122.069  ...              59.174                   11.835\n",
              "std      58.618       260.427  ...             135.533                   27.107\n",
              "min       1.000         0.000  ...               0.000                    0.000\n",
              "25%      51.000         0.000  ...               0.000                    0.000\n",
              "50%     101.000         0.000  ...               0.000                    0.000\n",
              "75%     152.000        92.790  ...              21.250                    4.250\n",
              "max     209.000      1775.030  ...            1200.770                  240.150\n",
              "\n",
              "[8 rows x 12 columns]"
            ]
          },
          "metadata": {
            "tags": []
          },
          "execution_count": 12
        }
      ]
    },
    {
      "cell_type": "code",
      "metadata": {
        "id": "2oDfqNSgkrR3",
        "colab_type": "code",
        "outputId": "01d5f0a8-e8c0-4cd4-fec2-42da4730506e",
        "colab": {
          "base_uri": "https://localhost:8080/",
          "height": 1000
        }
      },
      "source": [
        "#checking for outliers within the dataset\n",
        "select = [ 'rank'\t,'total_points'\t,'previous_points'\t,'rank_change'\t,'cur_year_avg'\t,'cur_year_avg_weighted'\t,'last_year_avg'\t,'last_year_avg_weighted'\t,'two_year_ago_avg'\t,'two_year_ago_weighted'\t,'three_year_ago_avg',\t'three_year_ago_weighted'] \n",
        "fig, ax = plt.subplots(len(select), figsize=(8,40))\n",
        "for i, values in enumerate(select):\n",
        "  sns.boxplot(y=fifa[values], ax=ax[i])\n",
        "  ax[i].set_title(f'plot for - {values}')\n",
        "  ax[i].set_xlabel(values)\n",
        "plt.show()"
      ],
      "execution_count": 13,
      "outputs": [
        {
          "output_type": "display_data",
          "data": {
            "image/png": "[encoded data removed]",
            "text/plain": [
              "<Figure size 576x2880 with 12 Axes>"
            ]
          },
          "metadata": {
            "tags": [],
            "needs_background": "light"
          }
        }
      ]
    },
    {
      "cell_type": "code",
      "metadata": {
        "id": "yNq1rn55r6kH",
        "colab_type": "code",
        "outputId": "093b5633-81a7-4554-dcc4-3f064d0ae4f1",
        "colab": {
          "base_uri": "https://localhost:8080/",
          "height": 139
        }
      },
      "source": [
        "#dealing with outliers \n",
        "col_names_new = fifa[['rank'\t,'total_points'\t,'previous_points'\t,'rank_change'\t,'cur_year_avg'\t,'cur_year_avg_weighted'\t,'last_year_avg'\t,'last_year_avg_weighted'\t,'two_year_ago_avg'\t,'two_year_ago_weighted'\t,'three_year_ago_avg',\t'three_year_ago_weighted']]\n",
        "from scipy import stats \n",
        "x = np.abs(stats.zscore(col_names_new))\n",
        "print(x)"
      ],
      "execution_count": 14,
      "outputs": [
        {
          "output_type": "stream",
          "text": [
            "[[1.71667796 0.46872927 0.90897952 ... 0.43858981 0.43660421 0.43660514]\n",
            " [1.69961833 0.46872927 0.90897952 ... 0.43858981 0.43660421 0.43660514]\n",
            " [1.6825587  0.46872927 0.93209173 ... 0.43858981 0.43660421 0.43660514]\n",
            " ...\n",
            " [1.78054627 0.46872927 1.09717888 ... 0.43858981 0.43660421 0.43660514]\n",
            " [1.78054627 0.46872927 1.09717888 ... 0.43858981 0.43660421 0.43660514]\n",
            " [1.78054627 0.46872927 1.09717888 ... 0.43858981 0.43660421 0.43660514]]\n"
          ],
          "name": "stdout"
        }
      ]
    },
    {
      "cell_type": "code",
      "metadata": {
        "id": "NGxNuVffs7hX",
        "colab_type": "code",
        "outputId": "ffd96e93-cb08-459c-891f-e2f583f7eab8",
        "colab": {
          "base_uri": "https://localhost:8080/",
          "height": 52
        }
      },
      "source": [
        "#confirming that outliers have been dropped from our dataset \n",
        "fifa_new = col_names_new[(x < 3).all(axis=1)]\n",
        "print(f\"Previous dataframe size : {col_names_new.shape[0]}\")\n",
        "print(f\"New dataframe size: {fifa_new.shape[0]}\")"
      ],
      "execution_count": 15,
      "outputs": [
        {
          "output_type": "stream",
          "text": [
            "Previous dataframe size : 57793\n",
            "New dataframe size: 52792\n"
          ],
          "name": "stdout"
        }
      ]
    },
    {
      "cell_type": "code",
      "metadata": {
        "id": "_Zpi0GPhtsut",
        "colab_type": "code",
        "outputId": "d4862904-1702-423e-9afb-e7b11ba1fea8",
        "colab": {
          "base_uri": "https://localhost:8080/",
          "height": 1000
        }
      },
      "source": [
        "#checking if outliers have been removed \n",
        "col = ['rank'\t,'total_points'\t,'previous_points'\t,'rank_change'\t,'cur_year_avg'\t,'cur_year_avg_weighted'\t,'last_year_avg'\t,'last_year_avg_weighted'\t,'two_year_ago_avg'\t,'two_year_ago_weighted'\t,'three_year_ago_avg',\t'three_year_ago_weighted']\n",
        "fig, ax = plt.subplots(len(col), figsize=(8,40))\n",
        "for i, values in enumerate(col):\n",
        "  sns.boxplot(y=fifa_new[values], ax=ax[i])\n",
        "  ax[i].set_title(f'Box plot - {values}')\n",
        "  ax[i].set_xlabel(values)\n",
        "plt.show()"
      ],
      "execution_count": 16,
      "outputs": [
        {
          "output_type": "display_data",
          "data": {
            "image/png": "[encoded data removed]",
            "text/plain": [
              "<Figure size 576x2880 with 12 Axes>"
            ]
          },
          "metadata": {
            "tags": [],
            "needs_background": "light"
          }
        }
      ]
    },
    {
      "cell_type": "code",
      "metadata": {
        "id": "VlRC2skAxI2s",
        "colab_type": "code",
        "colab": {}
      },
      "source": [
        "#saving our cleaned dataset\n",
        "fifa.to_csv('Cleaned_fifa.csv')"
      ],
      "execution_count": 0,
      "outputs": []
    },
    {
      "cell_type": "markdown",
      "metadata": {
        "id": "R8i21ib5UIWv",
        "colab_type": "text"
      },
      "source": [
        "## **Results Dataset**"
      ]
    },
    {
      "cell_type": "code",
      "metadata": {
        "id": "cDZnfq1XUHuk",
        "colab_type": "code",
        "colab": {}
      },
      "source": [
        "results = pd.read_csv('results.csv')"
      ],
      "execution_count": 0,
      "outputs": []
    },
    {
      "cell_type": "markdown",
      "metadata": {
        "id": "cPAJz4kKUjtv",
        "colab_type": "text"
      },
      "source": [
        "### Description"
      ]
    },
    {
      "cell_type": "code",
      "metadata": {
        "id": "Zvu9gUOaUnvL",
        "colab_type": "code",
        "outputId": "e067de01-dc5a-4e71-c5b6-059ea8f8f026",
        "colab": {
          "base_uri": "https://localhost:8080/",
          "height": 202
        }
      },
      "source": [
        "results.head(5)"
      ],
      "execution_count": 18,
      "outputs": [
        {
          "output_type": "execute_result",
          "data": {
            "text/html": [
              "<div>\n",
              "<style scoped>\n",
              "    .dataframe tbody tr th:only-of-type {\n",
              "        vertical-align: middle;\n",
              "    }\n",
              "\n",
              "    .dataframe tbody tr th {\n",
              "        vertical-align: top;\n",
              "    }\n",
              "\n",
              "    .dataframe thead th {\n",
              "        text-align: right;\n",
              "    }\n",
              "</style>\n",
              "<table border=\"1\" class=\"dataframe\">\n",
              "  <thead>\n",
              "    <tr style=\"text-align: right;\">\n",
              "      <th></th>\n",
              "      <th>date</th>\n",
              "      <th>home_team</th>\n",
              "      <th>away_team</th>\n",
              "      <th>home_score</th>\n",
              "      <th>away_score</th>\n",
              "      <th>tournament</th>\n",
              "      <th>city</th>\n",
              "      <th>country</th>\n",
              "      <th>neutral</th>\n",
              "    </tr>\n",
              "  </thead>\n",
              "  <tbody>\n",
              "    <tr>\n",
              "      <th>0</th>\n",
              "      <td>1872-11-30</td>\n",
              "      <td>Scotland</td>\n",
              "      <td>England</td>\n",
              "      <td>0</td>\n",
              "      <td>0</td>\n",
              "      <td>Friendly</td>\n",
              "      <td>Glasgow</td>\n",
              "      <td>Scotland</td>\n",
              "      <td>False</td>\n",
              "    </tr>\n",
              "    <tr>\n",
              "      <th>1</th>\n",
              "      <td>1873-03-08</td>\n",
              "      <td>England</td>\n",
              "      <td>Scotland</td>\n",
              "      <td>4</td>\n",
              "      <td>2</td>\n",
              "      <td>Friendly</td>\n",
              "      <td>London</td>\n",
              "      <td>England</td>\n",
              "      <td>False</td>\n",
              "    </tr>\n",
              "    <tr>\n",
              "      <th>2</th>\n",
              "      <td>1874-03-07</td>\n",
              "      <td>Scotland</td>\n",
              "      <td>England</td>\n",
              "      <td>2</td>\n",
              "      <td>1</td>\n",
              "      <td>Friendly</td>\n",
              "      <td>Glasgow</td>\n",
              "      <td>Scotland</td>\n",
              "      <td>False</td>\n",
              "    </tr>\n",
              "    <tr>\n",
              "      <th>3</th>\n",
              "      <td>1875-03-06</td>\n",
              "      <td>England</td>\n",
              "      <td>Scotland</td>\n",
              "      <td>2</td>\n",
              "      <td>2</td>\n",
              "      <td>Friendly</td>\n",
              "      <td>London</td>\n",
              "      <td>England</td>\n",
              "      <td>False</td>\n",
              "    </tr>\n",
              "    <tr>\n",
              "      <th>4</th>\n",
              "      <td>1876-03-04</td>\n",
              "      <td>Scotland</td>\n",
              "      <td>England</td>\n",
              "      <td>3</td>\n",
              "      <td>0</td>\n",
              "      <td>Friendly</td>\n",
              "      <td>Glasgow</td>\n",
              "      <td>Scotland</td>\n",
              "      <td>False</td>\n",
              "    </tr>\n",
              "  </tbody>\n",
              "</table>\n",
              "</div>"
            ],
            "text/plain": [
              "         date home_team away_team  ...     city   country neutral\n",
              "0  1872-11-30  Scotland   England  ...  Glasgow  Scotland   False\n",
              "1  1873-03-08   England  Scotland  ...   London   England   False\n",
              "2  1874-03-07  Scotland   England  ...  Glasgow  Scotland   False\n",
              "3  1875-03-06   England  Scotland  ...   London   England   False\n",
              "4  1876-03-04  Scotland   England  ...  Glasgow  Scotland   False\n",
              "\n",
              "[5 rows x 9 columns]"
            ]
          },
          "metadata": {
            "tags": []
          },
          "execution_count": 18
        }
      ]
    },
    {
      "cell_type": "code",
      "metadata": {
        "id": "NanIB-AfUvVN",
        "colab_type": "code",
        "outputId": "93adedb5-10c7-449d-a327-e2cefea0c335",
        "colab": {
          "base_uri": "https://localhost:8080/",
          "height": 289
        }
      },
      "source": [
        "results.tail(5)"
      ],
      "execution_count": 19,
      "outputs": [
        {
          "output_type": "execute_result",
          "data": {
            "text/html": [
              "<div>\n",
              "<style scoped>\n",
              "    .dataframe tbody tr th:only-of-type {\n",
              "        vertical-align: middle;\n",
              "    }\n",
              "\n",
              "    .dataframe tbody tr th {\n",
              "        vertical-align: top;\n",
              "    }\n",
              "\n",
              "    .dataframe thead th {\n",
              "        text-align: right;\n",
              "    }\n",
              "</style>\n",
              "<table border=\"1\" class=\"dataframe\">\n",
              "  <thead>\n",
              "    <tr style=\"text-align: right;\">\n",
              "      <th></th>\n",
              "      <th>date</th>\n",
              "      <th>home_team</th>\n",
              "      <th>away_team</th>\n",
              "      <th>home_score</th>\n",
              "      <th>away_score</th>\n",
              "      <th>tournament</th>\n",
              "      <th>city</th>\n",
              "      <th>country</th>\n",
              "      <th>neutral</th>\n",
              "    </tr>\n",
              "  </thead>\n",
              "  <tbody>\n",
              "    <tr>\n",
              "      <th>40834</th>\n",
              "      <td>2019-07-18</td>\n",
              "      <td>American Samoa</td>\n",
              "      <td>Tahiti</td>\n",
              "      <td>8</td>\n",
              "      <td>1</td>\n",
              "      <td>Pacific Games</td>\n",
              "      <td>Apia</td>\n",
              "      <td>Samoa</td>\n",
              "      <td>True</td>\n",
              "    </tr>\n",
              "    <tr>\n",
              "      <th>40835</th>\n",
              "      <td>2019-07-18</td>\n",
              "      <td>Fiji</td>\n",
              "      <td>Solomon Islands</td>\n",
              "      <td>4</td>\n",
              "      <td>4</td>\n",
              "      <td>Pacific Games</td>\n",
              "      <td>Apia</td>\n",
              "      <td>Samoa</td>\n",
              "      <td>True</td>\n",
              "    </tr>\n",
              "    <tr>\n",
              "      <th>40836</th>\n",
              "      <td>2019-07-19</td>\n",
              "      <td>Senegal</td>\n",
              "      <td>Algeria</td>\n",
              "      <td>0</td>\n",
              "      <td>1</td>\n",
              "      <td>African Cup of Nations</td>\n",
              "      <td>Cairo</td>\n",
              "      <td>Egypt</td>\n",
              "      <td>True</td>\n",
              "    </tr>\n",
              "    <tr>\n",
              "      <th>40837</th>\n",
              "      <td>2019-07-19</td>\n",
              "      <td>Tajikistan</td>\n",
              "      <td>North Korea</td>\n",
              "      <td>0</td>\n",
              "      <td>1</td>\n",
              "      <td>Intercontinental Cup</td>\n",
              "      <td>Ahmedabad</td>\n",
              "      <td>India</td>\n",
              "      <td>True</td>\n",
              "    </tr>\n",
              "    <tr>\n",
              "      <th>40838</th>\n",
              "      <td>2019-07-20</td>\n",
              "      <td>Papua New Guinea</td>\n",
              "      <td>Fiji</td>\n",
              "      <td>1</td>\n",
              "      <td>1</td>\n",
              "      <td>Pacific Games</td>\n",
              "      <td>Apia</td>\n",
              "      <td>Samoa</td>\n",
              "      <td>True</td>\n",
              "    </tr>\n",
              "  </tbody>\n",
              "</table>\n",
              "</div>"
            ],
            "text/plain": [
              "             date         home_team  ... country  neutral\n",
              "40834  2019-07-18    American Samoa  ...   Samoa     True\n",
              "40835  2019-07-18              Fiji  ...   Samoa     True\n",
              "40836  2019-07-19           Senegal  ...   Egypt     True\n",
              "40837  2019-07-19        Tajikistan  ...   India     True\n",
              "40838  2019-07-20  Papua New Guinea  ...   Samoa     True\n",
              "\n",
              "[5 rows x 9 columns]"
            ]
          },
          "metadata": {
            "tags": []
          },
          "execution_count": 19
        }
      ]
    },
    {
      "cell_type": "markdown",
      "metadata": {
        "id": "6FGCpxgBU2yP",
        "colab_type": "text"
      },
      "source": [
        "### Checking the data"
      ]
    },
    {
      "cell_type": "code",
      "metadata": {
        "id": "Sy7dolUVU6-L",
        "colab_type": "code",
        "outputId": "fc0d5867-9c91-48e0-d868-4dd14306ced1",
        "colab": {
          "base_uri": "https://localhost:8080/",
          "height": 35
        }
      },
      "source": [
        "#size\n",
        "print('The dataset has ' + str(results.shape[0]) + 'rows and ' + str(results.shape[1]) + 'columns')"
      ],
      "execution_count": 20,
      "outputs": [
        {
          "output_type": "stream",
          "text": [
            "The dataset has 40839rows and 9columns\n"
          ],
          "name": "stdout"
        }
      ]
    },
    {
      "cell_type": "code",
      "metadata": {
        "id": "6DoDbPwnVgGd",
        "colab_type": "code",
        "outputId": "c13b05b3-f7ba-41e4-ab3c-c7ea9e24d9f2",
        "colab": {
          "base_uri": "https://localhost:8080/",
          "height": 35
        }
      },
      "source": [
        "#getting dimentions \n",
        "results.ndim "
      ],
      "execution_count": 21,
      "outputs": [
        {
          "output_type": "execute_result",
          "data": {
            "text/plain": [
              "2"
            ]
          },
          "metadata": {
            "tags": []
          },
          "execution_count": 21
        }
      ]
    },
    {
      "cell_type": "code",
      "metadata": {
        "id": "z1DenrU3WM7I",
        "colab_type": "code",
        "outputId": "ec6e6378-504c-41bd-8ec7-e4e7572edddf",
        "colab": {
          "base_uri": "https://localhost:8080/",
          "height": 191
        }
      },
      "source": [
        "results.nunique()"
      ],
      "execution_count": 22,
      "outputs": [
        {
          "output_type": "execute_result",
          "data": {
            "text/plain": [
              "date          15115\n",
              "home_team       309\n",
              "away_team       306\n",
              "home_score       26\n",
              "away_score       22\n",
              "tournament      109\n",
              "city           1960\n",
              "country         266\n",
              "neutral           2\n",
              "dtype: int64"
            ]
          },
          "metadata": {
            "tags": []
          },
          "execution_count": 22
        }
      ]
    },
    {
      "cell_type": "code",
      "metadata": {
        "id": "2XgNH1smWXT7",
        "colab_type": "code",
        "outputId": "e185d248-f0a0-4111-997a-0512136db730",
        "colab": {
          "base_uri": "https://localhost:8080/",
          "height": 295
        }
      },
      "source": [
        "#checking whether each column has appropriate datatypes \n",
        "results.info()"
      ],
      "execution_count": 23,
      "outputs": [
        {
          "output_type": "stream",
          "text": [
            "<class 'pandas.core.frame.DataFrame'>\n",
            "RangeIndex: 40839 entries, 0 to 40838\n",
            "Data columns (total 9 columns):\n",
            " #   Column      Non-Null Count  Dtype \n",
            "---  ------      --------------  ----- \n",
            " 0   date        40839 non-null  object\n",
            " 1   home_team   40839 non-null  object\n",
            " 2   away_team   40839 non-null  object\n",
            " 3   home_score  40839 non-null  int64 \n",
            " 4   away_score  40839 non-null  int64 \n",
            " 5   tournament  40839 non-null  object\n",
            " 6   city        40839 non-null  object\n",
            " 7   country     40839 non-null  object\n",
            " 8   neutral     40839 non-null  bool  \n",
            "dtypes: bool(1), int64(2), object(6)\n",
            "memory usage: 2.5+ MB\n"
          ],
          "name": "stdout"
        }
      ]
    },
    {
      "cell_type": "markdown",
      "metadata": {
        "id": "VGkTJILTWn8J",
        "colab_type": "text"
      },
      "source": [
        "### Tydying the dataset"
      ]
    },
    {
      "cell_type": "code",
      "metadata": {
        "id": "iRqktkBGWsOW",
        "colab_type": "code",
        "outputId": "cc37f37d-1020-45c1-df1e-d893c79fd658",
        "colab": {
          "base_uri": "https://localhost:8080/",
          "height": 191
        }
      },
      "source": [
        "#checking for null values in any column\n",
        "results.isnull().any()"
      ],
      "execution_count": 24,
      "outputs": [
        {
          "output_type": "execute_result",
          "data": {
            "text/plain": [
              "date          False\n",
              "home_team     False\n",
              "away_team     False\n",
              "home_score    False\n",
              "away_score    False\n",
              "tournament    False\n",
              "city          False\n",
              "country       False\n",
              "neutral       False\n",
              "dtype: bool"
            ]
          },
          "metadata": {
            "tags": []
          },
          "execution_count": 24
        }
      ]
    },
    {
      "cell_type": "code",
      "metadata": {
        "id": "_nMpAsCKW4_Q",
        "colab_type": "code",
        "outputId": "83364715-e774-4269-94b0-bd40dcf5d6a6",
        "colab": {
          "base_uri": "https://localhost:8080/",
          "height": 35
        }
      },
      "source": [
        "#checking for duplicates \n",
        "results.duplicated().any()"
      ],
      "execution_count": 25,
      "outputs": [
        {
          "output_type": "execute_result",
          "data": {
            "text/plain": [
              "False"
            ]
          },
          "metadata": {
            "tags": []
          },
          "execution_count": 25
        }
      ]
    },
    {
      "cell_type": "code",
      "metadata": {
        "id": "jzu0wGZDXKmN",
        "colab_type": "code",
        "outputId": "4e754539-70ce-4fba-f85e-e9639eecd2d4",
        "colab": {
          "base_uri": "https://localhost:8080/",
          "height": 294
        }
      },
      "source": [
        "#statistical despription of our dataset\n",
        "pd.options.display.float_format =  \"{:.3f}\".format\n",
        "results.describe() "
      ],
      "execution_count": 26,
      "outputs": [
        {
          "output_type": "execute_result",
          "data": {
            "text/html": [
              "<div>\n",
              "<style scoped>\n",
              "    .dataframe tbody tr th:only-of-type {\n",
              "        vertical-align: middle;\n",
              "    }\n",
              "\n",
              "    .dataframe tbody tr th {\n",
              "        vertical-align: top;\n",
              "    }\n",
              "\n",
              "    .dataframe thead th {\n",
              "        text-align: right;\n",
              "    }\n",
              "</style>\n",
              "<table border=\"1\" class=\"dataframe\">\n",
              "  <thead>\n",
              "    <tr style=\"text-align: right;\">\n",
              "      <th></th>\n",
              "      <th>home_score</th>\n",
              "      <th>away_score</th>\n",
              "    </tr>\n",
              "  </thead>\n",
              "  <tbody>\n",
              "    <tr>\n",
              "      <th>count</th>\n",
              "      <td>40839.000</td>\n",
              "      <td>40839.000</td>\n",
              "    </tr>\n",
              "    <tr>\n",
              "      <th>mean</th>\n",
              "      <td>1.746</td>\n",
              "      <td>1.188</td>\n",
              "    </tr>\n",
              "    <tr>\n",
              "      <th>std</th>\n",
              "      <td>1.749</td>\n",
              "      <td>1.405</td>\n",
              "    </tr>\n",
              "    <tr>\n",
              "      <th>min</th>\n",
              "      <td>0.000</td>\n",
              "      <td>0.000</td>\n",
              "    </tr>\n",
              "    <tr>\n",
              "      <th>25%</th>\n",
              "      <td>1.000</td>\n",
              "      <td>0.000</td>\n",
              "    </tr>\n",
              "    <tr>\n",
              "      <th>50%</th>\n",
              "      <td>1.000</td>\n",
              "      <td>1.000</td>\n",
              "    </tr>\n",
              "    <tr>\n",
              "      <th>75%</th>\n",
              "      <td>2.000</td>\n",
              "      <td>2.000</td>\n",
              "    </tr>\n",
              "    <tr>\n",
              "      <th>max</th>\n",
              "      <td>31.000</td>\n",
              "      <td>21.000</td>\n",
              "    </tr>\n",
              "  </tbody>\n",
              "</table>\n",
              "</div>"
            ],
            "text/plain": [
              "       home_score  away_score\n",
              "count   40839.000   40839.000\n",
              "mean        1.746       1.188\n",
              "std         1.749       1.405\n",
              "min         0.000       0.000\n",
              "25%         1.000       0.000\n",
              "50%         1.000       1.000\n",
              "75%         2.000       2.000\n",
              "max        31.000      21.000"
            ]
          },
          "metadata": {
            "tags": []
          },
          "execution_count": 26
        }
      ]
    },
    {
      "cell_type": "code",
      "metadata": {
        "id": "1NiX1DkHh8Tw",
        "colab_type": "code",
        "outputId": "e027174e-d354-4dad-bdf8-f0ad40728b96",
        "colab": {
          "base_uri": "https://localhost:8080/",
          "height": 321
        }
      },
      "source": [
        "# Checking for Outliers\n",
        "n1 = results[['home_score', 'away_score']]\n",
        "# Plotting ourliters for the numeric columns\n",
        "_t, n_columns = pd.DataFrame.boxplot(n1, return_type='both', widths=0.5)\n",
        "outliers = [flier.get_ydata() for flier in n_columns['fliers']]\n",
        "out_list = [i.tolist() for i in outliers]\n",
        "print(f\" Outlier ranges are:\\n { out_list}\")"
      ],
      "execution_count": 27,
      "outputs": [
        {
          "output_type": "stream",
          "text": [
            " Outlier ranges are:\n",
            " [[4, 4, 7, 9, 5, 5, 5, 7, 5, 5, 5, 5, 7, 6, 4, 4, 8, 5, 4, 7, 4, 4, 4, 5, 11, 5, 4, 4, 6, 7, 5, 5, 7, 4, 6, 6, 6, 6, 6, 5, 4, 5, 9, 6, 4, 6, 4, 5, 4, 5, 13, 4, 9, 5, 4, 11, 6, 5, 5, 4, 4, 7, 4, 4, 5, 4, 5, 5, 4, 5, 5, 4, 4, 11, 5, 5, 4, 5, 4, 5, 7, 4, 4, 6, 6, 5, 4, 6, 5, 7, 4, 9, 7, 4, 9, 5, 4, 4, 7, 4, 4, 4, 8, 8, 9, 4, 4, 6, 4, 5, 4, 4, 4, 4, 5, 7, 6, 8, 4, 5, 6, 5, 6, 6, 4, 7, 4, 8, 6, 4, 4, 12, 4, 5, 5, 4, 6, 4, 5, 4, 4, 4, 6, 4, 9, 5, 4, 4, 6, 4, 4, 7, 6, 4, 4, 4, 4, 7, 7, 4, 10, 4, 5, 4, 4, 6, 8, 5, 4, 5, 5, 4, 4, 4, 6, 4, 7, 5, 4, 4, 6, 4, 10, 4, 5, 5, 5, 4, 4, 4, 4, 6, 5, 4, 7, 5, 4, 5, 4, 5, 6, 4, 7, 6, 5, 4, 4, 5, 4, 4, 4, 6, 4, 4, 4, 4, 5, 4, 7, 4, 6, 7, 7, 5, 8, 5, 6, 6, 4, 4, 6, 4, 4, 4, 12, 13, 6, 4, 6, 5, 7, 5, 4, 6, 5, 7, 4, 4, 4, 4, 4, 4, 5, 6, 6, 6, 6, 5, 4, 7, 5, 7, 4, 5, 8, 4, 4, 9, 4, 4, 6, 4, 4, 4, 10, 5, 4, 5, 8, 4, 4, 4, 5, 6, 6, 7, 4, 5, 6, 5, 8, 5, 6, 6, 6, 6, 4, 6, 4, 6, 6, 4, 4, 4, 4, 6, 4, 5, 5, 5, 6, 6, 4, 6, 5, 9, 7, 4, 6, 4, 5, 5, 5, 4, 7, 5, 8, 6, 4, 4, 5, 5, 4, 6, 4, 7, 4, 5, 8, 5, 7, 6, 7, 13, 4, 4, 4, 8, 4, 4, 4, 4, 4, 13, 7, 4, 4, 4, 5, 6, 6, 6, 4, 5, 9, 4, 8, 8, 6, 5, 4, 4, 5, 9, 9, 7, 4, 4, 5, 5, 6, 4, 4, 4, 4, 7, 8, 4, 4, 5, 4, 4, 4, 5, 4, 4, 6, 5, 6, 4, 6, 5, 4, 6, 4, 7, 5, 4, 5, 4, 4, 6, 5, 4, 4, 8, 5, 5, 4, 4, 5, 9, 7, 5, 5, 5, 4, 6, 4, 6, 8, 6, 5, 5, 4, 4, 8, 9, 5, 4, 7, 4, 4, 7, 4, 8, 7, 5, 4, 4, 5, 5, 4, 5, 5, 4, 4, 5, 7, 5, 6, 11, 4, 6, 6, 4, 6, 6, 6, 5, 9, 4, 9, 5, 4, 5, 5, 4, 4, 4, 5, 4, 8, 4, 4, 7, 6, 5, 4, 4, 4, 5, 4, 5, 7, 5, 6, 4, 7, 4, 8, 5, 4, 4, 4, 5, 5, 4, 4, 6, 5, 7, 4, 4, 4, 5, 7, 6, 9, 5, 13, 5, 4, 7, 4, 5, 6, 4, 5, 7, 7, 7, 6, 8, 9, 4, 5, 5, 5, 4, 4, 6, 4, 6, 7, 12, 5, 4, 4, 4, 4, 4, 4, 12, 7, 6, 5, 7, 8, 4, 6, 10, 4, 5, 5, 7, 6, 4, 5, 6, 5, 5, 6, 4, 5, 4, 9, 9, 4, 4, 4, 5, 6, 5, 7, 4, 7, 4, 6, 7, 4, 10, 4, 4, 6, 4, 7, 4, 5, 7, 7, 7, 7, 5, 5, 4, 7, 4, 10, 4, 6, 8, 6, 12, 7, 5, 7, 8, 4, 4, 9, 5, 5, 4, 4, 4, 5, 4, 6, 5, 5, 5, 9, 7, 6, 4, 4, 5, 6, 4, 4, 7, 4, 6, 5, 4, 6, 7, 4, 4, 6, 4, 4, 4, 4, 4, 7, 4, 9, 8, 4, 5, 11, 5, 4, 5, 6, 4, 4, 6, 7, 4, 4, 9, 10, 5, 5, 4, 7, 5, 5, 6, 4, 4, 6, 7, 4, 4, 5, 8, 5, 5, 6, 6, 6, 5, 8, 5, 9, 5, 7, 5, 8, 4, 5, 4, 5, 15, 5, 5, 5, 6, 5, 4, 4, 4, 4, 4, 5, 7, 6, 4, 4, 12, 7, 6, 4, 4, 7, 4, 5, 4, 6, 5, 4, 7, 4, 4, 5, 5, 5, 6, 8, 4, 6, 5, 5, 4, 6, 5, 4, 7, 4, 7, 10, 6, 5, 4, 4, 9, 4, 5, 4, 8, 6, 4, 4, 4, 6, 4, 4, 4, 5, 4, 6, 6, 5, 6, 4, 4, 4, 4, 5, 7, 4, 4, 7, 6, 5, 5, 5, 5, 5, 5, 4, 8, 4, 4, 4, 4, 6, 5, 9, 6, 8, 5, 4, 4, 9, 5, 5, 4, 9, 4, 4, 7, 6, 6, 4, 4, 5, 8, 4, 4, 5, 4, 4, 10, 6, 7, 5, 6, 5, 4, 4, 9, 5, 7, 4, 5, 4, 4, 11, 4, 4, 7, 5, 5, 5, 5, 4, 4, 7, 4, 7, 4, 5, 5, 4, 5, 6, 7, 4, 4, 9, 6, 4, 4, 4, 11, 4, 5, 8, 6, 7, 4, 4, 5, 4, 4, 4, 4, 7, 4, 9, 4, 4, 5, 5, 8, 4, 4, 4, 5, 4, 4, 4, 5, 5, 7, 5, 5, 5, 6, 7, 5, 5, 4, 4, 5, 4, 4, 8, 4, 4, 4, 7, 9, 4, 6, 4, 6, 4, 6, 5, 4, 6, 5, 4, 4, 8, 4, 8, 5, 5, 4, 5, 4, 4, 5, 5, 6, 5, 5, 5, 4, 5, 4, 4, 4, 7, 4, 5, 4, 5, 4, 5, 5, 8, 5, 4, 4, 5, 4, 4, 4, 7, 4, 4, 5, 6, 6, 4, 5, 4, 4, 7, 4, 4, 5, 6, 5, 4, 4, 9, 5, 6, 6, 5, 4, 4, 4, 4, 4, 4, 4, 4, 4, 4, 7, 4, 4, 4, 4, 7, 5, 4, 4, 9, 5, 5, 6, 7, 5, 8, 7, 4, 5, 4, 5, 6, 10, 4, 5, 6, 4, 4, 6, 4, 6, 4, 4, 9, 4, 6, 4, 5, 4, 4, 7, 4, 5, 4, 4, 4, 4, 4, 4, 7, 4, 5, 7, 7, 5, 4, 4, 4, 5, 4, 4, 6, 5, 5, 4, 6, 4, 5, 6, 5, 4, 5, 4, 4, 5, 5, 4, 5, 6, 5, 4, 4, 4, 5, 6, 6, 6, 7, 4, 9, 4, 8, 4, 4, 4, 4, 5, 4, 5, 5, 4, 5, 10, 4, 4, 5, 5, 9, 4, 7, 6, 5, 4, 4, 4, 5, 5, 4, 4, 6, 4, 4, 4, 6, 4, 6, 4, 5, 4, 4, 4, 4, 4, 6, 6, 5, 5, 4, 4, 4, 4, 8, 9, 5, 4, 6, 4, 4, 4, 4, 4, 7, 6, 4, 5, 4, 6, 6, 6, 5, 6, 4, 8, 4, 5, 5, 4, 4, 4, 4, 5, 4, 6, 4, 5, 6, 4, 5, 5, 5, 4, 6, 4, 4, 4, 4, 5, 4, 5, 5, 6, 4, 5, 4, 9, 6, 6, 4, 6, 14, 4, 15, 7, 8, 6, 4, 6, 5, 4, 4, 5, 7, 4, 5, 11, 5, 4, 4, 4, 5, 6, 5, 4, 4, 5, 4, 7, 7, 4, 6, 4, 8, 4, 5, 4, 4, 4, 4, 6, 4, 6, 5, 4, 4, 5, 5, 4, 4, 8, 4, 4, 7, 7, 5, 4, 5, 4, 4, 6, 4, 7, 5, 7, 4, 4, 4, 4, 4, 4, 4, 4, 4, 5, 4, 5, 4, 7, 5, 4, 6, 4, 4, 4, 4, 5, 6, 4, 4, 5, 4, 4, 4, 7, 7, 14, 10, 6, 7, 4, 6, 4, 4, 4, 6, 4, 4, 10, 5, 4, 5, 5, 5, 6, 4, 4, 5, 5, 6, 4, 5, 6, 5, 6, 4, 4, 4, 4, 4, 6, 7, 5, 4, 5, 4, 5, 7, 9, 8, 5, 14, 4, 6, 5, 5, 8, 9, 4, 4, 4, 4, 4, 4, 4, 5, 4, 4, 5, 5, 4, 4, 4, 6, 7, 6, 6, 7, 4, 4, 7, 6, 4, 5, 5, 14, 5, 4, 5, 4, 6, 4, 5, 5, 5, 5, 4, 5, 5, 5, 4, 4, 4, 4, 4, 4, 4, 4, 4, 4, 4, 8, 5, 4, 4, 7, 4, 5, 8, 4, 4, 4, 4, 4, 4, 4, 10, 4, 4, 5, 9, 4, 7, 6, 5, 6, 5, 7, 4, 4, 7, 6, 4, 7, 4, 4, 5, 4, 6, 7, 4, 6, 4, 6, 6, 4, 4, 7, 4, 4, 4, 5, 5, 9, 4, 8, 4, 8, 12, 6, 4, 4, 4, 4, 6, 7, 4, 4, 5, 5, 4, 6, 7, 6, 6, 6, 4, 5, 7, 5, 4, 4, 4, 4, 7, 4, 4, 6, 4, 4, 4, 6, 4, 5, 4, 4, 9, 9, 6, 4, 7, 10, 6, 4, 5, 5, 4, 5, 5, 4, 4, 4, 4, 4, 4, 4, 5, 4, 8, 5, 4, 4, 4, 4, 6, 4, 6, 5, 5, 5, 7, 5, 4, 5, 5, 4, 4, 4, 4, 5, 6, 4, 4, 6, 7, 5, 8, 5, 5, 4, 9, 5, 4, 6, 5, 5, 4, 4, 8, 10, 9, 4, 5, 6, 6, 5, 8, 6, 4, 4, 4, 5, 4, 4, 9, 4, 6, 5, 5, 4, 30, 4, 5, 8, 7, 5, 4, 4, 4, 6, 4, 5, 4, 8, 7, 5, 4, 4, 5, 4, 4, 4, 7, 4, 4, 4, 4, 5, 5, 4, 6, 7, 4, 5, 4, 7, 6, 4, 4, 4, 4, 4, 6, 4, 6, 4, 5, 4, 4, 6, 5, 4, 4, 5, 4, 5, 4, 4, 6, 6, 6, 4, 4, 4, 4, 4, 5, 6, 7, 4, 9, 11, 5, 4, 4, 4, 5, 4, 4, 10, 4, 5, 4, 5, 4, 4, 6, 4, 5, 4, 9, 4, 4, 5, 4, 4, 4, 6, 5, 4, 6, 7, 7, 4, 4, 5, 10, 5, 6, 10, 4, 7, 15, 4, 5, 8, 4, 6, 6, 5, 7, 4, 4, 9, 4, 4, 4, 5, 4, 8, 6, 5, 4, 5, 4, 4, 5, 6, 4, 5, 4, 4, 5, 6, 6, 4, 4, 9, 4, 4, 4, 4, 5, 6, 7, 4, 4, 5, 5, 4, 9, 4, 4, 6, 9, 6, 7, 4, 5, 6, 4, 4, 4, 4, 4, 7, 4, 10, 4, 6, 5, 4, 5, 8, 6, 4, 4, 6, 5, 4, 5, 5, 10, 6, 6, 5, 5, 6, 4, 11, 4, 6, 4, 7, 6, 4, 4, 4, 4, 6, 8, 4, 4, 4, 4, 5, 5, 6, 4, 5, 4, 4, 4, 4, 8, 4, 5, 4, 4, 4, 8, 7, 4, 4, 4, 5, 5, 6, 4, 4, 4, 4, 8, 4, 5, 4, 6, 7, 6, 4, 4, 7, 4, 7, 7, 7, 4, 5, 6, 5, 4, 4, 6, 4, 4, 5, 7, 5, 4, 4, 6, 4, 6, 4, 6, 4, 4, 8, 4, 5, 5, 7, 5, 9, 4, 8, 4, 5, 4, 5, 4, 4, 5, 4, 5, 4, 6, 4, 4, 4, 6, 8, 9, 6, 4, 4, 6, 4, 4, 4, 5, 4, 4, 7, 6, 5, 11, 5, 4, 4, 5, 10, 4, 5, 4, 5, 4, 6, 6, 5, 4, 4, 4, 4, 8, 7, 4, 4, 5, 5, 4, 4, 4, 4, 4, 4, 7, 4, 4, 4, 4, 6, 5, 4, 4, 4, 4, 4, 4, 4, 4, 4, 4, 4, 5, 5, 4, 4, 4, 7, 6, 8, 24, 18, 12, 5, 11, 4, 7, 7, 8, 6, 5, 9, 4, 4, 4, 5, 5, 5, 4, 5, 4, 5, 4, 5, 5, 4, 4, 4, 4, 11, 4, 5, 4, 5, 8, 8, 6, 4, 4, 5, 4, 5, 6, 4, 4, 7, 5, 6, 4, 5, 5, 6, 4, 6, 4, 4, 5, 4, 4, 4, 6, 4, 5, 4, 4, 5, 4, 6, 5, 5, 5, 4, 4, 6, 5, 6, 4, 5, 8, 5, 5, 4, 4, 4, 4, 4, 4, 5, 4, 5, 4, 6, 5, 4, 6, 5, 4, 4, 5, 5, 6, 5, 4, 5, 4, 10, 5, 13, 4, 7, 5, 7, 4, 7, 4, 5, 4, 4, 4, 4, 5, 6, 8, 4, 5, 4, 4, 5, 4, 5, 4, 5, 4, 4, 4, 4, 5, 4, 7, 10, 5, 4, 4, 4, 4, 5, 4, 4, 4, 5, 5, 7, 5, 7, 4, 4, 9, 4, 8, 4, 6, 4, 5, 6, 6, 4, 4, 5, 5, 7, 4, 4, 4, 4, 4, 6, 5, 10, 4, 6, 5, 5, 6, 5, 4, 7, 5, 4, 4, 6, 5, 5, 8, 4, 5, 4, 5, 12, 4, 4, 5, 4, 4, 4, 6, 4, 6, 4, 6, 5, 5, 4, 4, 4, 5, 4, 4, 4, 5, 5, 7, 5, 5, 8, 6, 6, 6, 6, 5, 5, 4, 5, 6, 5, 4, 6, 4, 4, 5, 4, 7, 4, 4, 5, 8, 6, 11, 8, 5, 4, 4, 4, 4, 5, 5, 4, 5, 8, 8, 7, 4, 4, 6, 6, 6, 7, 4, 6, 8, 6, 5, 5, 4, 4, 4, 4, 4, 8, 4, 4, 4, 6, 4, 5, 5, 4, 4, 4, 4, 9, 6, 4, 5, 5, 7, 4, 4, 6, 4, 6, 4, 4, 5, 5, 4, 4, 5, 6, 4, 4, 6, 4, 4, 4, 4, 4, 4, 5, 4, 4, 4, 5, 5, 4, 5, 4, 5, 4, 4, 4, 4, 5, 4, 5, 4, 4, 5, 4, 4, 8, 8, 5, 5, 5, 4, 10, 6, 4, 4, 4, 5, 6, 4, 4, 5, 4, 4, 4, 8, 4, 4, 4, 4, 4, 4, 4, 4, 4, 7, 5, 5, 4, 5, 4, 6, 8, 5, 5, 7, 5, 4, 5, 4, 4, 5, 4, 4, 4, 4, 5, 4, 6, 6, 4, 11, 5, 4, 4, 4, 7, 9, 4, 4, 7, 10, 4, 4, 5, 6, 4, 5, 4, 6, 4, 4, 4, 7, 4, 5, 6, 5, 4, 6, 4, 5, 6, 5, 4, 5, 4, 5, 6, 4, 4, 4, 4, 5, 5, 4, 4, 6, 4, 5, 4, 4, 4, 6, 5, 4, 4, 4, 6, 5, 4, 4, 6, 4, 4, 6, 6, 4, 9, 4, 4, 4, 5, 4, 4, 5, 5, 4, 6, 4, 6, 7, 6, 7, 4, 7, 5, 6, 4, 4, 5, 5, 5, 4, 4, 5, 4, 5, 5, 4, 5, 7, 4, 4, 5, 14, 5, 5, 8, 5, 4, 4, 4, 4, 5, 4, 5, 5, 4, 4, 4, 4, 5, 4, 5, 4, 5, 4, 10, 4, 4, 7, 5, 4, 5, 7, 5, 5, 4, 4, 4, 6, 7, 6, 4, 4, 4, 8, 5, 5, 4, 5, 5, 4, 4, 10, 6, 6, 5, 4, 4, 7, 6, 4, 4, 4, 6, 5, 5, 4, 4, 5, 5, 4, 5, 4, 4, 4, 4, 4, 4, 8, 4, 4, 5, 4, 4, 6, 4, 5, 6, 6, 5, 4, 6, 6, 4, 4, 5, 8, 4, 4, 6, 5, 4, 4, 4, 4, 5, 7, 9, 8, 8, 4, 5, 5, 4, 4, 5, 4, 5, 6, 4, 5, 7, 4, 6, 4, 4, 4, 6, 8, 4, 4, 5, 5, 5, 9, 8, 6, 6, 4, 7, 4, 5, 4, 7, 4, 6, 4, 4, 4, 4, 4, 4, 4, 4, 4, 5, 4, 4, 8, 4, 4, 7, 5, 9, 8, 5, 5, 9, 12, 4, 4, 4, 4, 4, 4, 7, 5, 4, 4, 5, 4, 5, 5, 5, 7, 4, 5, 4, 4, 6, 4, 4, 4, 4, 4, 6, 4, 4, 4, 5, 4, 5, 5, 4, 4, 5, 4, 4, 5, 5, 4, 4, 4, 4, 5, 5, 8, 4, 4, 4, 4, 5, 4, 4, 4, 4, 5, 4, 4, 4, 7, 5, 4, 6, 5, 4, 7, 4, 4, 5, 4, 9, 5, 4, 5, 4, 4, 4, 7, 4, 4, 4, 4, 4, 4, 4, 4, 4, 5, 4, 6, 4, 12, 13, 4, 8, 10, 11, 7, 10, 4, 6, 6, 4, 5, 4, 4, 4, 4, 5, 4, 5, 5, 4, 7, 5, 6, 5, 4, 4, 7, 8, 4, 5, 5, 4, 4, 5, 5, 4, 4, 7, 5, 8, 4, 8, 4, 4, 6, 4, 4, 5, 6, 4, 5, 4, 6, 5, 4, 5, 5, 4, 5, 6, 4, 9, 4, 6, 8, 7, 4, 10, 5, 4, 4, 8, 8, 5, 4, 6, 5, 4, 4, 9, 9, 4, 4, 4, 5, 4, 5, 6, 7, 6, 4, 4, 7, 5, 6, 5, 6, 4, 6, 4, 6, 5, 6, 4, 4, 4, 5, 4, 7, 4, 7, 4, 7, 4, 4, 4, 4, 4, 4, 6, 4, 4, 4, 4, 7, 4, 4, 4, 4, 5, 4, 4, 9, 4, 5, 6, 4, 4, 8, 7, 6, 4, 4, 6, 4, 5, 5, 8, 4, 6, 5, 5, 4, 6, 5, 6, 4, 4, 5, 7, 4, 4, 7, 5, 6, 4, 4, 4, 12, 4, 6, 4, 4, 13, 9, 7, 5, 5, 4, 4, 4, 6, 5, 6, 4, 4, 10, 5, 4, 7, 4, 4, 8, 4, 5, 4, 4, 4, 4, 4, 4, 8, 4, 5, 4, 4, 6, 4, 5, 6, 6, 4, 4, 4, 4, 5, 4, 4, 5, 4, 5, 5, 5, 4, 4, 4, 4, 5, 4, 4, 4, 5, 5, 5, 4, 6, 4, 7, 6, 4, 4, 4, 4, 4, 5, 4, 4, 4, 6, 5, 4, 4, 4, 5, 4, 4, 4, 4, 14, 14, 5, 4, 5, 5, 6, 4, 5, 6, 4, 5, 7, 5, 7, 5, 4, 5, 4, 5, 5, 6, 4, 4, 4, 5, 5, 8, 4, 5, 9, 4, 4, 4, 4, 6, 4, 5, 7, 4, 5, 5, 4, 12, 4, 8, 4, 5, 4, 4, 4, 16, 8, 5, 4, 4, 5, 4, 5, 4, 4, 6, 5, 5, 5, 4, 4, 7, 4, 9, 4, 5, 7, 5, 4, 5, 6, 7, 5, 9, 4, 6, 5, 4, 4, 4, 7, 6, 4, 4, 7, 4, 6, 4, 6, 4, 4, 5, 9, 7, 4, 5, 4, 8, 4, 4, 6, 12, 6, 4, 4, 4, 7, 7, 4, 7, 4, 5, 6, 7, 4, 6, 4, 4, 5, 8, 4, 5, 4, 4, 5, 5, 6, 5, 4, 4, 4, 8, 4, 8, 4, 4, 4, 4, 4, 4, 4, 5, 4, 4, 9, 4, 6, 7, 5, 7, 8, 4, 11, 19, 4, 4, 5, 5, 6, 4, 20, 5, 4, 9, 4, 5, 11, 4, 4, 5, 5, 8, 5, 9, 4, 5, 9, 4, 4, 4, 8, 9, 6, 5, 4, 4, 4, 9, 4, 5, 5, 9, 4, 6, 5, 4, 4, 4, 4, 6, 4, 6, 4, 4, 4, 7, 9, 4, 4, 4, 4, 4, 4, 4, 4, 8, 4, 4, 8, 17, 5, 5, 6, 4, 5, 5, 4, 4, 5, 5, 4, 8, 4, 6, 5, 6, 4, 5, 6, 7, 4, 5, 5, 4, 5, 4, 4, 7, 4, 4, 4, 6, 4, 5, 4, 7, 4, 8, 5, 4, 4, 4, 4, 4, 5, 5, 4, 6, 19, 4, 16, 7, 5, 5, 5, 4, 5, 4, 4, 5, 4, 4, 6, 5, 4, 6, 6, 4, 4, 4, 5, 6, 10, 4, 5, 4, 5, 8, 4, 4, 5, 5, 4, 4, 5, 4, 4, 4, 4, 4, 5, 6, 5, 4, 6, 13, 5, 5, 22, 12, 31, 11, 8, 9, 14, 11, 4, 4, 4, 10, 6, 4, 5, 7, 4, 4, 12, 12, 6, 7, 5, 4, 4, 7, 11, 5, 9, 5, 6, 4, 4, 5, 4, 7, 5, 5, 4, 4, 10, 6, 6, 4, 4, 5, 4, 9, 4, 5, 6, 6, 4, 5, 7, 4, 4, 6, 6, 4, 4, 12, 9, 4, 8, 4, 4, 5, 5, 4, 5, 4, 4, 4, 5, 4, 4, 5, 5, 5, 4, 5, 6, 6, 4, 4, 4, 5, 4, 6, 5, 4, 4, 4, 4, 4, 5, 5, 5, 10, 5, 4, 7, 4, 4, 4, 6, 4, 4, 7, 6, 4, 6, 4, 5, 5, 9, 4, 5, 4, 4, 4, 7, 4, 4, 7, 4, 4, 5, 6, 8, 4, 4, 5, 4, 4, 8, 4, 9, 11, 6, 8, 8, 5, 4, 6, 6, 5, 4, 5, 4, 4, 5, 4, 4, 4, 5, 6, 4, 4, 5, 4, 5, 4, 5, 4, 4, 4, 5, 9, 4, 5, 5, 4, 4, 13, 4, 6, 4, 5, 5, 5, 10, 11, 4, 4, 4, 6, 5, 4, 5, 5, 4, 6, 4, 4, 4, 4, 4, 5, 4, 4, 6, 4, 5, 5, 4, 9, 4, 4, 4, 4, 4, 7, 6, 5, 4, 5, 5, 6, 5, 7, 19, 17, 4, 5, 10, 4, 16, 7, 15, 12, 6, 7, 5, 10, 4, 5, 5, 5, 4, 4, 4, 5, 4, 4, 4, 5, 5, 4, 4, 4, 4, 5, 4, 8, 5, 16, 5, 7, 5, 4, 4, 6, 5, 4, 4, 5, 5, 4, 5, 6, 4, 8, 6, 4, 5, 5, 4, 6, 5, 4, 5, 8, 4, 4, 6, 8, 11, 4, 4, 4, 12, 4, 5, 4, 5, 6, 5, 5, 5, 4, 4, 4, 4, 5, 5, 5, 5, 8, 4, 4, 4, 6, 4, 5, 13, 4, 6, 8, 9, 7, 4, 4, 4, 4, 5, 4, 6, 4, 5, 11, 8, 8, 7, 4, 4, 9, 5, 6, 4, 4, 5, 10, 6, 4, 4, 4, 5, 5, 4, 6, 7, 4, 7, 5, 4, 4, 4, 5, 4, 4, 4, 4, 7, 4, 8, 6, 6, 4, 4, 5, 4, 4, 4, 4, 4, 5, 4, 4, 6, 4, 5, 4, 4, 4, 7, 4, 4, 5, 4, 4, 5, 6, 4, 4, 7, 5, 6, 6, 4, 5, 4, 7, 4, 4, 7, 7, 6, 8, 4, 4, 6, 11, 12, 5, 11, 5, 4, 5, 5, 9, 4, 4, 8, 6, 4, 4, 4, 5, 4, 4, 4, 5, 5, 5, 4, 6, 6, 4, 4, 4, 4, 4, 5, 8, 4, 6, 7, 5, 4, 4, 4, 4, 4, 4, 8, 5, 8, 4, 6, 4, 4, 6, 4, 4, 6, 4, 4, 4, 4, 4, 4, 4, 4, 4, 5, 4, 5, 4, 4, 4, 7, 4, 6, 4, 5, 4, 8, 4, 6, 5, 4, 5, 5, 4, 5, 5, 5, 5, 4, 4, 5, 4, 4, 6, 5, 4, 4, 5, 9, 4, 4, 4, 4, 5, 4, 4, 4, 4, 6, 5, 6, 4, 4, 4, 5, 11, 4, 5, 7, 4, 5, 4, 7, 4, 4, 7, 5, 5, 6, 4, 4, 4, 4, 6, 4, 4, 6, 4, 4, 6, 4, 5, 4, 6, 6, 4, 6, 7, 4, 8, 5, 7, 5, 7, 4, 4, 8, 7, 5, 7, 4, 5, 4, 5, 4, 5, 5, 4, 10, 7, 4, 4, 4, 5, 6, 4, 5, 10, 14, 5, 6, 21, 4, 4, 4, 4, 6, 4, 4, 4, 4, 4, 4, 11, 5, 9, 4, 4, 4, 4, 4, 4, 4, 5, 4, 4, 6, 4, 4, 5, 9, 5, 6, 4, 4, 4, 4, 4, 4, 5, 4, 5, 4, 4, 6, 6, 7, 15, 5, 4, 5, 5, 4, 8, 6, 4, 4, 6, 5, 4, 6, 4, 4, 16, 12, 4, 7, 4, 4, 4, 5, 4, 5, 4, 5, 4, 4, 6, 7, 5, 9, 6, 5, 4, 5, 4, 7, 8, 5, 5, 5, 4, 5, 4, 5, 4, 5, 7, 5, 5, 4, 4, 4, 6, 7, 4, 4, 4, 6, 4, 4, 5, 4, 5, 12, 4, 4, 4, 4, 10, 7, 4, 5, 4, 9, 4, 5, 4, 6, 7, 6, 4, 5, 8, 4, 4, 4, 4, 4, 4, 4, 4, 4, 4, 4, 4, 6, 7, 8, 6, 4, 6, 4, 4, 4, 7, 5, 4, 6, 4, 4, 4, 5, 4, 4, 6, 4, 5, 5, 4, 4, 4, 7, 4, 6, 7, 4, 4, 4, 4, 4, 4, 9, 4, 5, 5, 7, 4, 4, 4, 6, 5, 6, 4, 4, 4, 4, 4, 4, 4, 4, 6, 7, 4, 6, 4, 4, 6, 5, 6, 4, 4, 5, 4, 4, 6, 4, 4, 5, 4, 4, 6, 5, 6, 5, 6, 4, 5, 5, 6, 5, 4, 5, 4, 4, 5, 4, 4, 4, 5, 4, 4, 10, 5, 5, 5, 4, 4, 4, 4, 4, 5, 4, 7, 4, 6, 4, 4, 4, 4, 7, 4, 4, 4, 6, 5, 5, 8, 4, 7, 4, 4, 4, 4, 4, 4, 4, 4, 4, 6, 4, 4, 4, 5, 4, 9, 4, 12, 4, 4, 4, 5, 5, 4, 5, 7, 5, 4, 7, 4, 5, 4, 4, 6, 4, 4, 4, 5, 5, 4, 5, 6, 5, 4, 4, 4, 4, 5, 5, 5, 4, 4, 5, 4, 4, 6, 7, 4, 5, 4, 4, 6, 4, 4, 4, 6, 5, 5, 5, 4, 5, 4, 4, 4, 4, 5, 4, 4, 4, 4, 5, 5, 4, 4, 6, 4, 6, 4, 4, 7, 4, 4, 4, 6, 5, 4, 4, 5, 4, 6, 5, 6, 4, 11, 5, 4, 7, 10, 4, 8, 5, 4, 6, 4, 7, 4, 4, 4, 4, 5, 4, 17, 4, 6, 4, 4, 4, 4, 8, 4, 5, 6, 4, 5, 7, 6, 6, 5, 4, 4, 5, 5, 5, 4, 4, 4, 4, 4, 4, 4, 4, 4, 4, 4, 5, 4, 5, 4, 4, 4, 5, 4, 5, 5, 4, 5, 6, 4, 9, 4, 4, 4, 5, 4, 6, 6, 4, 6, 5, 4, 5, 6, 4, 4, 4, 6, 4, 4, 4, 6, 7, 4, 9, 4, 4, 5, 4, 4, 4, 4, 5, 4, 5, 4, 4, 5, 4, 7, 4, 9, 9, 7, 5, 8, 5, 4, 5, 4, 6, 6, 6, 11, 6, 8, 6, 4, 4, 4, 6, 5, 7, 4, 4, 5, 4, 5, 5, 4, 4, 10, 4, 4, 6, 8, 4, 5, 4, 6, 4, 4, 5, 4, 4, 4, 4, 4, 5, 6, 4, 4, 4, 4, 6, 5, 4, 5, 5, 4, 4, 5, 4, 4, 5, 4, 10, 5, 7, 5, 4, 4, 4, 4, 6, 4, 4, 5, 5, 5, 4, 4, 7, 5, 5, 4, 4, 6, 4, 4, 5, 6, 6, 15, 4, 9, 4, 5, 7, 6, 4, 4, 4, 4, 4, 4, 4, 4, 4, 4, 4, 4, 8, 5, 4, 4, 16, 4, 7, 5, 5, 4, 4, 5, 9, 8, 4, 4, 6, 4, 6, 13, 4, 10, 11, 5, 6, 5, 4, 10, 4, 4, 7, 4, 8, 4, 5, 6, 5, 4, 4, 4, 6, 4, 5, 4, 5, 5, 4, 4, 8, 5, 4, 4, 4, 4, 4, 5, 8, 6, 4, 4, 4, 5, 4, 5, 4, 5, 6, 4, 4, 5, 6, 6, 5, 10, 5, 7, 4, 4, 8, 4, 4, 4, 4, 5, 4, 4, 4, 4, 4, 6, 4, 4, 4, 5, 4, 10, 4, 8, 4, 4, 6, 4, 4, 8, 12, 4, 8, 6, 6, 5, 6, 4, 4, 10, 6, 4, 4, 4, 4, 5, 4, 5, 9, 4, 6, 4, 4, 5, 4, 4, 4, 6, 8, 6, 6, 6, 5, 4, 4, 4, 4, 4, 5, 4, 6, 4, 4, 4, 4, 4, 4, 5, 5, 4, 5, 4, 4, 6, 7, 4, 4, 4, 6, 4, 10, 8, 4, 4, 4, 4, 6, 4, 5, 4, 4, 4, 5, 4, 6, 7, 5, 4, 7, 4, 5, 4, 4, 6, 5, 4, 5, 6, 7, 4, 5, 4, 6, 4, 4, 6, 4, 4, 5, 6, 4, 4, 5, 6, 4, 4, 4, 4, 4, 4, 5, 4, 4, 4, 5, 4, 4, 4, 5, 4, 4, 6, 4, 6, 5, 5, 6, 5, 6, 4, 4, 4, 5, 5, 4, 4, 4, 4, 7, 4, 8, 4, 4, 7, 4, 7, 4, 5, 5, 5, 6, 7, 6, 5, 6, 4, 6, 5, 6, 4, 5, 6, 5, 4, 8, 9, 15, 7, 10, 4, 8, 4, 4, 4, 7, 4, 4, 4, 4, 5, 6, 5, 5, 4, 12, 4, 7, 4, 6, 5, 4, 8, 4, 4, 7, 4, 5, 4, 4, 4, 5, 4, 4, 4, 4, 4, 6, 7, 4, 4, 5, 8, 6, 4, 7, 5, 4, 4, 5, 4, 4, 5, 5, 4, 7, 5, 4, 6, 4, 9, 5, 7, 5, 7, 6, 5, 7, 4, 7, 5, 7, 10, 8, 4, 7, 6, 6, 4, 7, 7, 5, 4, 4, 4, 5, 4, 5, 5, 4, 5, 5, 4, 4, 5, 5, 4, 6, 4, 4, 4, 8, 4, 5, 4, 4, 4, 4, 4, 5, 5, 4, 4, 4, 4, 6, 4, 5, 4, 4, 4, 4, 4, 4, 4, 4, 8, 5, 4, 4, 4, 4, 4, 8, 4, 4, 4, 4, 4, 6, 7, 4, 4, 6, 5, 4, 5, 4, 7, 14, 4, 6, 4, 8, 5, 4, 5, 5, 8, 8, 4, 5, 5, 7, 4, 5, 5, 7, 4, 5, 8, 6, 4, 4, 4, 6, 4, 4, 4, 5, 7, 4, 9, 4, 5, 4, 6, 6, 4, 5, 6, 4, 5, 4, 5, 4, 4, 4, 4, 5, 8, 5, 5, 5, 4, 4, 4, 4, 4, 5, 10, 4, 5, 4, 4, 4, 4, 5, 6, 4, 4, 8, 8, 4, 5, 4, 5, 6, 4, 10, 4, 4, 4, 4, 4, 4, 4, 4, 4, 5, 4, 4, 4, 6, 5, 4, 4, 7, 6, 6, 7, 4, 4, 4, 4, 4, 6, 8, 6, 5, 5, 8, 5, 4, 4, 6, 5, 4, 4, 4, 5, 4, 4, 4, 5, 5, 6, 4, 4, 4, 4, 9, 4, 4, 6, 5, 4, 6, 5, 6, 5, 4, 4, 4, 4, 4, 4, 4, 4, 4, 4, 4, 4, 4, 4, 7, 4, 4, 5, 5, 4, 4, 4, 4, 4, 4, 6, 5, 4, 5, 5, 4, 4, 4, 5, 6, 4, 5, 5, 4, 4, 4, 4, 4, 6, 6, 5, 6, 4, 9, 4, 5, 5, 4, 5, 5, 4, 9, 4, 7, 4, 5, 4, 8, 4, 4, 7, 4, 7, 5, 4, 4, 7, 7, 6, 9, 4, 6, 7, 4, 4, 5, 10, 13, 8, 11, 8, 4], [6, 13, 8, 8, 8, 6, 7, 10, 9, 8, 9, 6, 6, 7, 6, 11, 7, 8, 8, 6, 6, 6, 9, 12, 10, 15, 6, 6, 6, 6, 7, 7, 7, 6, 6, 7, 6, 6, 6, 9, 6, 9, 6, 6, 7, 7, 6, 6, 7, 6, 6, 8, 6, 6, 9, 6, 6, 7, 6, 6, 6, 6, 7, 10, 6, 8, 11, 6, 6, 8, 6, 9, 6, 6, 6, 6, 6, 6, 6, 8, 7, 7, 7, 6, 6, 7, 7, 7, 6, 6, 10, 6, 6, 8, 6, 6, 6, 6, 6, 7, 8, 6, 6, 6, 7, 8, 7, 8, 6, 8, 6, 6, 8, 7, 9, 7, 6, 6, 6, 7, 9, 8, 8, 6, 6, 6, 6, 6, 6, 7, 7, 8, 7, 7, 6, 6, 10, 7, 6, 9, 6, 8, 6, 6, 6, 9, 7, 10, 6, 7, 6, 10, 6, 6, 7, 6, 7, 7, 7, 7, 8, 6, 10, 9, 6, 6, 8, 6, 6, 6, 6, 6, 6, 6, 12, 6, 6, 7, 8, 6, 8, 6, 18, 8, 9, 7, 12, 9, 6, 10, 8, 6, 6, 6, 6, 13, 6, 6, 6, 6, 6, 8, 7, 6, 6, 6, 6, 6, 7, 11, 7, 9, 9, 7, 6, 8, 9, 6, 7, 6, 16, 6, 15, 6, 10, 6, 6, 6, 6, 6, 6, 7, 6, 7, 8, 7, 11, 7, 9, 6, 6, 8, 6, 6, 6, 6, 6, 7, 9, 6, 6, 6, 10, 13, 8, 12, 6, 7, 7, 6, 6, 6, 7, 6, 6, 14, 19, 6, 6, 7, 6, 6, 8, 7, 7, 6, 8, 6, 6, 6, 6, 7, 20, 7, 7, 8, 6, 7, 15, 18, 7, 6, 13, 6, 6, 6, 6, 10, 6, 6, 8, 7, 7, 7, 7, 8, 7, 7, 7, 7, 7, 9, 7, 9, 6, 6, 16, 9, 7, 6, 7, 7, 7, 8, 7, 6, 6, 8, 6, 11, 6, 6, 6, 10, 6, 6, 6, 6, 17, 7, 12, 7, 6, 6, 8, 7, 6, 7, 6, 15, 6, 7, 6, 6, 13, 6, 6, 6, 9, 8, 7, 8, 6, 6, 6, 6, 6, 8, 6, 6, 12, 8, 6, 8, 6, 8, 6, 7, 6, 7, 7, 10, 7, 7, 7, 7, 6, 7, 6, 20, 18, 7, 6, 18, 7, 6, 8, 7, 6, 7, 7, 9, 10, 10, 6, 7, 6, 6, 8, 7, 15, 21, 6, 9, 6, 6, 8, 6, 7, 6, 6, 6, 13, 6, 6, 7, 6, 7, 6, 8, 9, 6, 10, 7, 6, 15, 6, 6, 7, 6, 7, 6, 9, 7, 7, 7, 6, 6, 7, 7, 7, 6, 6, 9, 6, 7, 7, 6, 6, 8, 6, 6, 6, 7, 6, 10, 9, 7, 6, 6, 7, 6, 6, 6, 7, 6, 17, 8, 17, 8, 7, 7, 8, 6, 10, 6, 18, 7, 9, 7, 8, 7, 6, 8, 16, 6, 6, 6, 7, 9, 6, 9, 8, 6, 9, 8, 8, 6, 6, 20, 19, 9, 12, 7, 7, 7, 6, 6, 7, 6, 6, 9, 6, 6, 6, 7, 6, 6, 10, 6, 7, 7, 12, 6, 7, 6, 7, 8, 6, 6, 6, 6, 8, 7, 6, 6, 6, 8, 6, 8, 6, 8, 6, 6, 7, 6, 8, 8, 7, 7, 6, 8, 6, 6, 6, 13, 7, 9, 14, 11]]\n"
          ],
          "name": "stdout"
        },
        {
          "output_type": "display_data",
          "data": {
            "image/png": "[encoded data removed]",
            "text/plain": [
              "<Figure size 432x288 with 1 Axes>"
            ]
          },
          "metadata": {
            "tags": [],
            "needs_background": "light"
          }
        }
      ]
    },
    {
      "cell_type": "code",
      "metadata": {
        "id": "_99_fbi2iYzo",
        "colab_type": "code",
        "outputId": "2b56ca19-9935-4e7d-cbce-c65c5f12c046",
        "colab": {
          "base_uri": "https://localhost:8080/",
          "height": 139
        }
      },
      "source": [
        "#dealing with outliers \n",
        "col_names = results[['home_score', 'away_score']]\n",
        "from scipy import stats \n",
        "x = np.abs(stats.zscore(col_names))\n",
        "print(x)"
      ],
      "execution_count": 28,
      "outputs": [
        {
          "output_type": "stream",
          "text": [
            "[[0.99804774 0.84556424]\n",
            " [1.28881193 0.57781937]\n",
            " [0.1453821  0.13387244]\n",
            " ...\n",
            " [0.99804774 0.13387244]\n",
            " [0.99804774 0.13387244]\n",
            " [0.42633282 0.13387244]]\n"
          ],
          "name": "stdout"
        }
      ]
    },
    {
      "cell_type": "code",
      "metadata": {
        "id": "hw9M2-_rjp0T",
        "colab_type": "code",
        "outputId": "463fe739-225a-40a7-9a2a-0f78533da25b",
        "colab": {
          "base_uri": "https://localhost:8080/",
          "height": 321
        }
      },
      "source": [
        "#confirming that our aoutliers have been dropped \n",
        "n2 = results[['home_score', 'away_score']]\n",
        "\n",
        "_t, n_columns = pd.DataFrame.boxplot(n2, return_type='both', widths=0.5)\n",
        "outliers = [flier.get_ydata() for flier in n_columns['fliers']]\n",
        "out_list = [i.tolist() for i in outliers]\n",
        "print(f\" Outlier ranges are:\\n { out_list}\")"
      ],
      "execution_count": 29,
      "outputs": [
        {
          "output_type": "stream",
          "text": [
            " Outlier ranges are:\n",
            " [[4, 4, 7, 9, 5, 5, 5, 7, 5, 5, 5, 5, 7, 6, 4, 4, 8, 5, 4, 7, 4, 4, 4, 5, 11, 5, 4, 4, 6, 7, 5, 5, 7, 4, 6, 6, 6, 6, 6, 5, 4, 5, 9, 6, 4, 6, 4, 5, 4, 5, 13, 4, 9, 5, 4, 11, 6, 5, 5, 4, 4, 7, 4, 4, 5, 4, 5, 5, 4, 5, 5, 4, 4, 11, 5, 5, 4, 5, 4, 5, 7, 4, 4, 6, 6, 5, 4, 6, 5, 7, 4, 9, 7, 4, 9, 5, 4, 4, 7, 4, 4, 4, 8, 8, 9, 4, 4, 6, 4, 5, 4, 4, 4, 4, 5, 7, 6, 8, 4, 5, 6, 5, 6, 6, 4, 7, 4, 8, 6, 4, 4, 12, 4, 5, 5, 4, 6, 4, 5, 4, 4, 4, 6, 4, 9, 5, 4, 4, 6, 4, 4, 7, 6, 4, 4, 4, 4, 7, 7, 4, 10, 4, 5, 4, 4, 6, 8, 5, 4, 5, 5, 4, 4, 4, 6, 4, 7, 5, 4, 4, 6, 4, 10, 4, 5, 5, 5, 4, 4, 4, 4, 6, 5, 4, 7, 5, 4, 5, 4, 5, 6, 4, 7, 6, 5, 4, 4, 5, 4, 4, 4, 6, 4, 4, 4, 4, 5, 4, 7, 4, 6, 7, 7, 5, 8, 5, 6, 6, 4, 4, 6, 4, 4, 4, 12, 13, 6, 4, 6, 5, 7, 5, 4, 6, 5, 7, 4, 4, 4, 4, 4, 4, 5, 6, 6, 6, 6, 5, 4, 7, 5, 7, 4, 5, 8, 4, 4, 9, 4, 4, 6, 4, 4, 4, 10, 5, 4, 5, 8, 4, 4, 4, 5, 6, 6, 7, 4, 5, 6, 5, 8, 5, 6, 6, 6, 6, 4, 6, 4, 6, 6, 4, 4, 4, 4, 6, 4, 5, 5, 5, 6, 6, 4, 6, 5, 9, 7, 4, 6, 4, 5, 5, 5, 4, 7, 5, 8, 6, 4, 4, 5, 5, 4, 6, 4, 7, 4, 5, 8, 5, 7, 6, 7, 13, 4, 4, 4, 8, 4, 4, 4, 4, 4, 13, 7, 4, 4, 4, 5, 6, 6, 6, 4, 5, 9, 4, 8, 8, 6, 5, 4, 4, 5, 9, 9, 7, 4, 4, 5, 5, 6, 4, 4, 4, 4, 7, 8, 4, 4, 5, 4, 4, 4, 5, 4, 4, 6, 5, 6, 4, 6, 5, 4, 6, 4, 7, 5, 4, 5, 4, 4, 6, 5, 4, 4, 8, 5, 5, 4, 4, 5, 9, 7, 5, 5, 5, 4, 6, 4, 6, 8, 6, 5, 5, 4, 4, 8, 9, 5, 4, 7, 4, 4, 7, 4, 8, 7, 5, 4, 4, 5, 5, 4, 5, 5, 4, 4, 5, 7, 5, 6, 11, 4, 6, 6, 4, 6, 6, 6, 5, 9, 4, 9, 5, 4, 5, 5, 4, 4, 4, 5, 4, 8, 4, 4, 7, 6, 5, 4, 4, 4, 5, 4, 5, 7, 5, 6, 4, 7, 4, 8, 5, 4, 4, 4, 5, 5, 4, 4, 6, 5, 7, 4, 4, 4, 5, 7, 6, 9, 5, 13, 5, 4, 7, 4, 5, 6, 4, 5, 7, 7, 7, 6, 8, 9, 4, 5, 5, 5, 4, 4, 6, 4, 6, 7, 12, 5, 4, 4, 4, 4, 4, 4, 12, 7, 6, 5, 7, 8, 4, 6, 10, 4, 5, 5, 7, 6, 4, 5, 6, 5, 5, 6, 4, 5, 4, 9, 9, 4, 4, 4, 5, 6, 5, 7, 4, 7, 4, 6, 7, 4, 10, 4, 4, 6, 4, 7, 4, 5, 7, 7, 7, 7, 5, 5, 4, 7, 4, 10, 4, 6, 8, 6, 12, 7, 5, 7, 8, 4, 4, 9, 5, 5, 4, 4, 4, 5, 4, 6, 5, 5, 5, 9, 7, 6, 4, 4, 5, 6, 4, 4, 7, 4, 6, 5, 4, 6, 7, 4, 4, 6, 4, 4, 4, 4, 4, 7, 4, 9, 8, 4, 5, 11, 5, 4, 5, 6, 4, 4, 6, 7, 4, 4, 9, 10, 5, 5, 4, 7, 5, 5, 6, 4, 4, 6, 7, 4, 4, 5, 8, 5, 5, 6, 6, 6, 5, 8, 5, 9, 5, 7, 5, 8, 4, 5, 4, 5, 15, 5, 5, 5, 6, 5, 4, 4, 4, 4, 4, 5, 7, 6, 4, 4, 12, 7, 6, 4, 4, 7, 4, 5, 4, 6, 5, 4, 7, 4, 4, 5, 5, 5, 6, 8, 4, 6, 5, 5, 4, 6, 5, 4, 7, 4, 7, 10, 6, 5, 4, 4, 9, 4, 5, 4, 8, 6, 4, 4, 4, 6, 4, 4, 4, 5, 4, 6, 6, 5, 6, 4, 4, 4, 4, 5, 7, 4, 4, 7, 6, 5, 5, 5, 5, 5, 5, 4, 8, 4, 4, 4, 4, 6, 5, 9, 6, 8, 5, 4, 4, 9, 5, 5, 4, 9, 4, 4, 7, 6, 6, 4, 4, 5, 8, 4, 4, 5, 4, 4, 10, 6, 7, 5, 6, 5, 4, 4, 9, 5, 7, 4, 5, 4, 4, 11, 4, 4, 7, 5, 5, 5, 5, 4, 4, 7, 4, 7, 4, 5, 5, 4, 5, 6, 7, 4, 4, 9, 6, 4, 4, 4, 11, 4, 5, 8, 6, 7, 4, 4, 5, 4, 4, 4, 4, 7, 4, 9, 4, 4, 5, 5, 8, 4, 4, 4, 5, 4, 4, 4, 5, 5, 7, 5, 5, 5, 6, 7, 5, 5, 4, 4, 5, 4, 4, 8, 4, 4, 4, 7, 9, 4, 6, 4, 6, 4, 6, 5, 4, 6, 5, 4, 4, 8, 4, 8, 5, 5, 4, 5, 4, 4, 5, 5, 6, 5, 5, 5, 4, 5, 4, 4, 4, 7, 4, 5, 4, 5, 4, 5, 5, 8, 5, 4, 4, 5, 4, 4, 4, 7, 4, 4, 5, 6, 6, 4, 5, 4, 4, 7, 4, 4, 5, 6, 5, 4, 4, 9, 5, 6, 6, 5, 4, 4, 4, 4, 4, 4, 4, 4, 4, 4, 7, 4, 4, 4, 4, 7, 5, 4, 4, 9, 5, 5, 6, 7, 5, 8, 7, 4, 5, 4, 5, 6, 10, 4, 5, 6, 4, 4, 6, 4, 6, 4, 4, 9, 4, 6, 4, 5, 4, 4, 7, 4, 5, 4, 4, 4, 4, 4, 4, 7, 4, 5, 7, 7, 5, 4, 4, 4, 5, 4, 4, 6, 5, 5, 4, 6, 4, 5, 6, 5, 4, 5, 4, 4, 5, 5, 4, 5, 6, 5, 4, 4, 4, 5, 6, 6, 6, 7, 4, 9, 4, 8, 4, 4, 4, 4, 5, 4, 5, 5, 4, 5, 10, 4, 4, 5, 5, 9, 4, 7, 6, 5, 4, 4, 4, 5, 5, 4, 4, 6, 4, 4, 4, 6, 4, 6, 4, 5, 4, 4, 4, 4, 4, 6, 6, 5, 5, 4, 4, 4, 4, 8, 9, 5, 4, 6, 4, 4, 4, 4, 4, 7, 6, 4, 5, 4, 6, 6, 6, 5, 6, 4, 8, 4, 5, 5, 4, 4, 4, 4, 5, 4, 6, 4, 5, 6, 4, 5, 5, 5, 4, 6, 4, 4, 4, 4, 5, 4, 5, 5, 6, 4, 5, 4, 9, 6, 6, 4, 6, 14, 4, 15, 7, 8, 6, 4, 6, 5, 4, 4, 5, 7, 4, 5, 11, 5, 4, 4, 4, 5, 6, 5, 4, 4, 5, 4, 7, 7, 4, 6, 4, 8, 4, 5, 4, 4, 4, 4, 6, 4, 6, 5, 4, 4, 5, 5, 4, 4, 8, 4, 4, 7, 7, 5, 4, 5, 4, 4, 6, 4, 7, 5, 7, 4, 4, 4, 4, 4, 4, 4, 4, 4, 5, 4, 5, 4, 7, 5, 4, 6, 4, 4, 4, 4, 5, 6, 4, 4, 5, 4, 4, 4, 7, 7, 14, 10, 6, 7, 4, 6, 4, 4, 4, 6, 4, 4, 10, 5, 4, 5, 5, 5, 6, 4, 4, 5, 5, 6, 4, 5, 6, 5, 6, 4, 4, 4, 4, 4, 6, 7, 5, 4, 5, 4, 5, 7, 9, 8, 5, 14, 4, 6, 5, 5, 8, 9, 4, 4, 4, 4, 4, 4, 4, 5, 4, 4, 5, 5, 4, 4, 4, 6, 7, 6, 6, 7, 4, 4, 7, 6, 4, 5, 5, 14, 5, 4, 5, 4, 6, 4, 5, 5, 5, 5, 4, 5, 5, 5, 4, 4, 4, 4, 4, 4, 4, 4, 4, 4, 4, 8, 5, 4, 4, 7, 4, 5, 8, 4, 4, 4, 4, 4, 4, 4, 10, 4, 4, 5, 9, 4, 7, 6, 5, 6, 5, 7, 4, 4, 7, 6, 4, 7, 4, 4, 5, 4, 6, 7, 4, 6, 4, 6, 6, 4, 4, 7, 4, 4, 4, 5, 5, 9, 4, 8, 4, 8, 12, 6, 4, 4, 4, 4, 6, 7, 4, 4, 5, 5, 4, 6, 7, 6, 6, 6, 4, 5, 7, 5, 4, 4, 4, 4, 7, 4, 4, 6, 4, 4, 4, 6, 4, 5, 4, 4, 9, 9, 6, 4, 7, 10, 6, 4, 5, 5, 4, 5, 5, 4, 4, 4, 4, 4, 4, 4, 5, 4, 8, 5, 4, 4, 4, 4, 6, 4, 6, 5, 5, 5, 7, 5, 4, 5, 5, 4, 4, 4, 4, 5, 6, 4, 4, 6, 7, 5, 8, 5, 5, 4, 9, 5, 4, 6, 5, 5, 4, 4, 8, 10, 9, 4, 5, 6, 6, 5, 8, 6, 4, 4, 4, 5, 4, 4, 9, 4, 6, 5, 5, 4, 30, 4, 5, 8, 7, 5, 4, 4, 4, 6, 4, 5, 4, 8, 7, 5, 4, 4, 5, 4, 4, 4, 7, 4, 4, 4, 4, 5, 5, 4, 6, 7, 4, 5, 4, 7, 6, 4, 4, 4, 4, 4, 6, 4, 6, 4, 5, 4, 4, 6, 5, 4, 4, 5, 4, 5, 4, 4, 6, 6, 6, 4, 4, 4, 4, 4, 5, 6, 7, 4, 9, 11, 5, 4, 4, 4, 5, 4, 4, 10, 4, 5, 4, 5, 4, 4, 6, 4, 5, 4, 9, 4, 4, 5, 4, 4, 4, 6, 5, 4, 6, 7, 7, 4, 4, 5, 10, 5, 6, 10, 4, 7, 15, 4, 5, 8, 4, 6, 6, 5, 7, 4, 4, 9, 4, 4, 4, 5, 4, 8, 6, 5, 4, 5, 4, 4, 5, 6, 4, 5, 4, 4, 5, 6, 6, 4, 4, 9, 4, 4, 4, 4, 5, 6, 7, 4, 4, 5, 5, 4, 9, 4, 4, 6, 9, 6, 7, 4, 5, 6, 4, 4, 4, 4, 4, 7, 4, 10, 4, 6, 5, 4, 5, 8, 6, 4, 4, 6, 5, 4, 5, 5, 10, 6, 6, 5, 5, 6, 4, 11, 4, 6, 4, 7, 6, 4, 4, 4, 4, 6, 8, 4, 4, 4, 4, 5, 5, 6, 4, 5, 4, 4, 4, 4, 8, 4, 5, 4, 4, 4, 8, 7, 4, 4, 4, 5, 5, 6, 4, 4, 4, 4, 8, 4, 5, 4, 6, 7, 6, 4, 4, 7, 4, 7, 7, 7, 4, 5, 6, 5, 4, 4, 6, 4, 4, 5, 7, 5, 4, 4, 6, 4, 6, 4, 6, 4, 4, 8, 4, 5, 5, 7, 5, 9, 4, 8, 4, 5, 4, 5, 4, 4, 5, 4, 5, 4, 6, 4, 4, 4, 6, 8, 9, 6, 4, 4, 6, 4, 4, 4, 5, 4, 4, 7, 6, 5, 11, 5, 4, 4, 5, 10, 4, 5, 4, 5, 4, 6, 6, 5, 4, 4, 4, 4, 8, 7, 4, 4, 5, 5, 4, 4, 4, 4, 4, 4, 7, 4, 4, 4, 4, 6, 5, 4, 4, 4, 4, 4, 4, 4, 4, 4, 4, 4, 5, 5, 4, 4, 4, 7, 6, 8, 24, 18, 12, 5, 11, 4, 7, 7, 8, 6, 5, 9, 4, 4, 4, 5, 5, 5, 4, 5, 4, 5, 4, 5, 5, 4, 4, 4, 4, 11, 4, 5, 4, 5, 8, 8, 6, 4, 4, 5, 4, 5, 6, 4, 4, 7, 5, 6, 4, 5, 5, 6, 4, 6, 4, 4, 5, 4, 4, 4, 6, 4, 5, 4, 4, 5, 4, 6, 5, 5, 5, 4, 4, 6, 5, 6, 4, 5, 8, 5, 5, 4, 4, 4, 4, 4, 4, 5, 4, 5, 4, 6, 5, 4, 6, 5, 4, 4, 5, 5, 6, 5, 4, 5, 4, 10, 5, 13, 4, 7, 5, 7, 4, 7, 4, 5, 4, 4, 4, 4, 5, 6, 8, 4, 5, 4, 4, 5, 4, 5, 4, 5, 4, 4, 4, 4, 5, 4, 7, 10, 5, 4, 4, 4, 4, 5, 4, 4, 4, 5, 5, 7, 5, 7, 4, 4, 9, 4, 8, 4, 6, 4, 5, 6, 6, 4, 4, 5, 5, 7, 4, 4, 4, 4, 4, 6, 5, 10, 4, 6, 5, 5, 6, 5, 4, 7, 5, 4, 4, 6, 5, 5, 8, 4, 5, 4, 5, 12, 4, 4, 5, 4, 4, 4, 6, 4, 6, 4, 6, 5, 5, 4, 4, 4, 5, 4, 4, 4, 5, 5, 7, 5, 5, 8, 6, 6, 6, 6, 5, 5, 4, 5, 6, 5, 4, 6, 4, 4, 5, 4, 7, 4, 4, 5, 8, 6, 11, 8, 5, 4, 4, 4, 4, 5, 5, 4, 5, 8, 8, 7, 4, 4, 6, 6, 6, 7, 4, 6, 8, 6, 5, 5, 4, 4, 4, 4, 4, 8, 4, 4, 4, 6, 4, 5, 5, 4, 4, 4, 4, 9, 6, 4, 5, 5, 7, 4, 4, 6, 4, 6, 4, 4, 5, 5, 4, 4, 5, 6, 4, 4, 6, 4, 4, 4, 4, 4, 4, 5, 4, 4, 4, 5, 5, 4, 5, 4, 5, 4, 4, 4, 4, 5, 4, 5, 4, 4, 5, 4, 4, 8, 8, 5, 5, 5, 4, 10, 6, 4, 4, 4, 5, 6, 4, 4, 5, 4, 4, 4, 8, 4, 4, 4, 4, 4, 4, 4, 4, 4, 7, 5, 5, 4, 5, 4, 6, 8, 5, 5, 7, 5, 4, 5, 4, 4, 5, 4, 4, 4, 4, 5, 4, 6, 6, 4, 11, 5, 4, 4, 4, 7, 9, 4, 4, 7, 10, 4, 4, 5, 6, 4, 5, 4, 6, 4, 4, 4, 7, 4, 5, 6, 5, 4, 6, 4, 5, 6, 5, 4, 5, 4, 5, 6, 4, 4, 4, 4, 5, 5, 4, 4, 6, 4, 5, 4, 4, 4, 6, 5, 4, 4, 4, 6, 5, 4, 4, 6, 4, 4, 6, 6, 4, 9, 4, 4, 4, 5, 4, 4, 5, 5, 4, 6, 4, 6, 7, 6, 7, 4, 7, 5, 6, 4, 4, 5, 5, 5, 4, 4, 5, 4, 5, 5, 4, 5, 7, 4, 4, 5, 14, 5, 5, 8, 5, 4, 4, 4, 4, 5, 4, 5, 5, 4, 4, 4, 4, 5, 4, 5, 4, 5, 4, 10, 4, 4, 7, 5, 4, 5, 7, 5, 5, 4, 4, 4, 6, 7, 6, 4, 4, 4, 8, 5, 5, 4, 5, 5, 4, 4, 10, 6, 6, 5, 4, 4, 7, 6, 4, 4, 4, 6, 5, 5, 4, 4, 5, 5, 4, 5, 4, 4, 4, 4, 4, 4, 8, 4, 4, 5, 4, 4, 6, 4, 5, 6, 6, 5, 4, 6, 6, 4, 4, 5, 8, 4, 4, 6, 5, 4, 4, 4, 4, 5, 7, 9, 8, 8, 4, 5, 5, 4, 4, 5, 4, 5, 6, 4, 5, 7, 4, 6, 4, 4, 4, 6, 8, 4, 4, 5, 5, 5, 9, 8, 6, 6, 4, 7, 4, 5, 4, 7, 4, 6, 4, 4, 4, 4, 4, 4, 4, 4, 4, 5, 4, 4, 8, 4, 4, 7, 5, 9, 8, 5, 5, 9, 12, 4, 4, 4, 4, 4, 4, 7, 5, 4, 4, 5, 4, 5, 5, 5, 7, 4, 5, 4, 4, 6, 4, 4, 4, 4, 4, 6, 4, 4, 4, 5, 4, 5, 5, 4, 4, 5, 4, 4, 5, 5, 4, 4, 4, 4, 5, 5, 8, 4, 4, 4, 4, 5, 4, 4, 4, 4, 5, 4, 4, 4, 7, 5, 4, 6, 5, 4, 7, 4, 4, 5, 4, 9, 5, 4, 5, 4, 4, 4, 7, 4, 4, 4, 4, 4, 4, 4, 4, 4, 5, 4, 6, 4, 12, 13, 4, 8, 10, 11, 7, 10, 4, 6, 6, 4, 5, 4, 4, 4, 4, 5, 4, 5, 5, 4, 7, 5, 6, 5, 4, 4, 7, 8, 4, 5, 5, 4, 4, 5, 5, 4, 4, 7, 5, 8, 4, 8, 4, 4, 6, 4, 4, 5, 6, 4, 5, 4, 6, 5, 4, 5, 5, 4, 5, 6, 4, 9, 4, 6, 8, 7, 4, 10, 5, 4, 4, 8, 8, 5, 4, 6, 5, 4, 4, 9, 9, 4, 4, 4, 5, 4, 5, 6, 7, 6, 4, 4, 7, 5, 6, 5, 6, 4, 6, 4, 6, 5, 6, 4, 4, 4, 5, 4, 7, 4, 7, 4, 7, 4, 4, 4, 4, 4, 4, 6, 4, 4, 4, 4, 7, 4, 4, 4, 4, 5, 4, 4, 9, 4, 5, 6, 4, 4, 8, 7, 6, 4, 4, 6, 4, 5, 5, 8, 4, 6, 5, 5, 4, 6, 5, 6, 4, 4, 5, 7, 4, 4, 7, 5, 6, 4, 4, 4, 12, 4, 6, 4, 4, 13, 9, 7, 5, 5, 4, 4, 4, 6, 5, 6, 4, 4, 10, 5, 4, 7, 4, 4, 8, 4, 5, 4, 4, 4, 4, 4, 4, 8, 4, 5, 4, 4, 6, 4, 5, 6, 6, 4, 4, 4, 4, 5, 4, 4, 5, 4, 5, 5, 5, 4, 4, 4, 4, 5, 4, 4, 4, 5, 5, 5, 4, 6, 4, 7, 6, 4, 4, 4, 4, 4, 5, 4, 4, 4, 6, 5, 4, 4, 4, 5, 4, 4, 4, 4, 14, 14, 5, 4, 5, 5, 6, 4, 5, 6, 4, 5, 7, 5, 7, 5, 4, 5, 4, 5, 5, 6, 4, 4, 4, 5, 5, 8, 4, 5, 9, 4, 4, 4, 4, 6, 4, 5, 7, 4, 5, 5, 4, 12, 4, 8, 4, 5, 4, 4, 4, 16, 8, 5, 4, 4, 5, 4, 5, 4, 4, 6, 5, 5, 5, 4, 4, 7, 4, 9, 4, 5, 7, 5, 4, 5, 6, 7, 5, 9, 4, 6, 5, 4, 4, 4, 7, 6, 4, 4, 7, 4, 6, 4, 6, 4, 4, 5, 9, 7, 4, 5, 4, 8, 4, 4, 6, 12, 6, 4, 4, 4, 7, 7, 4, 7, 4, 5, 6, 7, 4, 6, 4, 4, 5, 8, 4, 5, 4, 4, 5, 5, 6, 5, 4, 4, 4, 8, 4, 8, 4, 4, 4, 4, 4, 4, 4, 5, 4, 4, 9, 4, 6, 7, 5, 7, 8, 4, 11, 19, 4, 4, 5, 5, 6, 4, 20, 5, 4, 9, 4, 5, 11, 4, 4, 5, 5, 8, 5, 9, 4, 5, 9, 4, 4, 4, 8, 9, 6, 5, 4, 4, 4, 9, 4, 5, 5, 9, 4, 6, 5, 4, 4, 4, 4, 6, 4, 6, 4, 4, 4, 7, 9, 4, 4, 4, 4, 4, 4, 4, 4, 8, 4, 4, 8, 17, 5, 5, 6, 4, 5, 5, 4, 4, 5, 5, 4, 8, 4, 6, 5, 6, 4, 5, 6, 7, 4, 5, 5, 4, 5, 4, 4, 7, 4, 4, 4, 6, 4, 5, 4, 7, 4, 8, 5, 4, 4, 4, 4, 4, 5, 5, 4, 6, 19, 4, 16, 7, 5, 5, 5, 4, 5, 4, 4, 5, 4, 4, 6, 5, 4, 6, 6, 4, 4, 4, 5, 6, 10, 4, 5, 4, 5, 8, 4, 4, 5, 5, 4, 4, 5, 4, 4, 4, 4, 4, 5, 6, 5, 4, 6, 13, 5, 5, 22, 12, 31, 11, 8, 9, 14, 11, 4, 4, 4, 10, 6, 4, 5, 7, 4, 4, 12, 12, 6, 7, 5, 4, 4, 7, 11, 5, 9, 5, 6, 4, 4, 5, 4, 7, 5, 5, 4, 4, 10, 6, 6, 4, 4, 5, 4, 9, 4, 5, 6, 6, 4, 5, 7, 4, 4, 6, 6, 4, 4, 12, 9, 4, 8, 4, 4, 5, 5, 4, 5, 4, 4, 4, 5, 4, 4, 5, 5, 5, 4, 5, 6, 6, 4, 4, 4, 5, 4, 6, 5, 4, 4, 4, 4, 4, 5, 5, 5, 10, 5, 4, 7, 4, 4, 4, 6, 4, 4, 7, 6, 4, 6, 4, 5, 5, 9, 4, 5, 4, 4, 4, 7, 4, 4, 7, 4, 4, 5, 6, 8, 4, 4, 5, 4, 4, 8, 4, 9, 11, 6, 8, 8, 5, 4, 6, 6, 5, 4, 5, 4, 4, 5, 4, 4, 4, 5, 6, 4, 4, 5, 4, 5, 4, 5, 4, 4, 4, 5, 9, 4, 5, 5, 4, 4, 13, 4, 6, 4, 5, 5, 5, 10, 11, 4, 4, 4, 6, 5, 4, 5, 5, 4, 6, 4, 4, 4, 4, 4, 5, 4, 4, 6, 4, 5, 5, 4, 9, 4, 4, 4, 4, 4, 7, 6, 5, 4, 5, 5, 6, 5, 7, 19, 17, 4, 5, 10, 4, 16, 7, 15, 12, 6, 7, 5, 10, 4, 5, 5, 5, 4, 4, 4, 5, 4, 4, 4, 5, 5, 4, 4, 4, 4, 5, 4, 8, 5, 16, 5, 7, 5, 4, 4, 6, 5, 4, 4, 5, 5, 4, 5, 6, 4, 8, 6, 4, 5, 5, 4, 6, 5, 4, 5, 8, 4, 4, 6, 8, 11, 4, 4, 4, 12, 4, 5, 4, 5, 6, 5, 5, 5, 4, 4, 4, 4, 5, 5, 5, 5, 8, 4, 4, 4, 6, 4, 5, 13, 4, 6, 8, 9, 7, 4, 4, 4, 4, 5, 4, 6, 4, 5, 11, 8, 8, 7, 4, 4, 9, 5, 6, 4, 4, 5, 10, 6, 4, 4, 4, 5, 5, 4, 6, 7, 4, 7, 5, 4, 4, 4, 5, 4, 4, 4, 4, 7, 4, 8, 6, 6, 4, 4, 5, 4, 4, 4, 4, 4, 5, 4, 4, 6, 4, 5, 4, 4, 4, 7, 4, 4, 5, 4, 4, 5, 6, 4, 4, 7, 5, 6, 6, 4, 5, 4, 7, 4, 4, 7, 7, 6, 8, 4, 4, 6, 11, 12, 5, 11, 5, 4, 5, 5, 9, 4, 4, 8, 6, 4, 4, 4, 5, 4, 4, 4, 5, 5, 5, 4, 6, 6, 4, 4, 4, 4, 4, 5, 8, 4, 6, 7, 5, 4, 4, 4, 4, 4, 4, 8, 5, 8, 4, 6, 4, 4, 6, 4, 4, 6, 4, 4, 4, 4, 4, 4, 4, 4, 4, 5, 4, 5, 4, 4, 4, 7, 4, 6, 4, 5, 4, 8, 4, 6, 5, 4, 5, 5, 4, 5, 5, 5, 5, 4, 4, 5, 4, 4, 6, 5, 4, 4, 5, 9, 4, 4, 4, 4, 5, 4, 4, 4, 4, 6, 5, 6, 4, 4, 4, 5, 11, 4, 5, 7, 4, 5, 4, 7, 4, 4, 7, 5, 5, 6, 4, 4, 4, 4, 6, 4, 4, 6, 4, 4, 6, 4, 5, 4, 6, 6, 4, 6, 7, 4, 8, 5, 7, 5, 7, 4, 4, 8, 7, 5, 7, 4, 5, 4, 5, 4, 5, 5, 4, 10, 7, 4, 4, 4, 5, 6, 4, 5, 10, 14, 5, 6, 21, 4, 4, 4, 4, 6, 4, 4, 4, 4, 4, 4, 11, 5, 9, 4, 4, 4, 4, 4, 4, 4, 5, 4, 4, 6, 4, 4, 5, 9, 5, 6, 4, 4, 4, 4, 4, 4, 5, 4, 5, 4, 4, 6, 6, 7, 15, 5, 4, 5, 5, 4, 8, 6, 4, 4, 6, 5, 4, 6, 4, 4, 16, 12, 4, 7, 4, 4, 4, 5, 4, 5, 4, 5, 4, 4, 6, 7, 5, 9, 6, 5, 4, 5, 4, 7, 8, 5, 5, 5, 4, 5, 4, 5, 4, 5, 7, 5, 5, 4, 4, 4, 6, 7, 4, 4, 4, 6, 4, 4, 5, 4, 5, 12, 4, 4, 4, 4, 10, 7, 4, 5, 4, 9, 4, 5, 4, 6, 7, 6, 4, 5, 8, 4, 4, 4, 4, 4, 4, 4, 4, 4, 4, 4, 4, 6, 7, 8, 6, 4, 6, 4, 4, 4, 7, 5, 4, 6, 4, 4, 4, 5, 4, 4, 6, 4, 5, 5, 4, 4, 4, 7, 4, 6, 7, 4, 4, 4, 4, 4, 4, 9, 4, 5, 5, 7, 4, 4, 4, 6, 5, 6, 4, 4, 4, 4, 4, 4, 4, 4, 6, 7, 4, 6, 4, 4, 6, 5, 6, 4, 4, 5, 4, 4, 6, 4, 4, 5, 4, 4, 6, 5, 6, 5, 6, 4, 5, 5, 6, 5, 4, 5, 4, 4, 5, 4, 4, 4, 5, 4, 4, 10, 5, 5, 5, 4, 4, 4, 4, 4, 5, 4, 7, 4, 6, 4, 4, 4, 4, 7, 4, 4, 4, 6, 5, 5, 8, 4, 7, 4, 4, 4, 4, 4, 4, 4, 4, 4, 6, 4, 4, 4, 5, 4, 9, 4, 12, 4, 4, 4, 5, 5, 4, 5, 7, 5, 4, 7, 4, 5, 4, 4, 6, 4, 4, 4, 5, 5, 4, 5, 6, 5, 4, 4, 4, 4, 5, 5, 5, 4, 4, 5, 4, 4, 6, 7, 4, 5, 4, 4, 6, 4, 4, 4, 6, 5, 5, 5, 4, 5, 4, 4, 4, 4, 5, 4, 4, 4, 4, 5, 5, 4, 4, 6, 4, 6, 4, 4, 7, 4, 4, 4, 6, 5, 4, 4, 5, 4, 6, 5, 6, 4, 11, 5, 4, 7, 10, 4, 8, 5, 4, 6, 4, 7, 4, 4, 4, 4, 5, 4, 17, 4, 6, 4, 4, 4, 4, 8, 4, 5, 6, 4, 5, 7, 6, 6, 5, 4, 4, 5, 5, 5, 4, 4, 4, 4, 4, 4, 4, 4, 4, 4, 4, 5, 4, 5, 4, 4, 4, 5, 4, 5, 5, 4, 5, 6, 4, 9, 4, 4, 4, 5, 4, 6, 6, 4, 6, 5, 4, 5, 6, 4, 4, 4, 6, 4, 4, 4, 6, 7, 4, 9, 4, 4, 5, 4, 4, 4, 4, 5, 4, 5, 4, 4, 5, 4, 7, 4, 9, 9, 7, 5, 8, 5, 4, 5, 4, 6, 6, 6, 11, 6, 8, 6, 4, 4, 4, 6, 5, 7, 4, 4, 5, 4, 5, 5, 4, 4, 10, 4, 4, 6, 8, 4, 5, 4, 6, 4, 4, 5, 4, 4, 4, 4, 4, 5, 6, 4, 4, 4, 4, 6, 5, 4, 5, 5, 4, 4, 5, 4, 4, 5, 4, 10, 5, 7, 5, 4, 4, 4, 4, 6, 4, 4, 5, 5, 5, 4, 4, 7, 5, 5, 4, 4, 6, 4, 4, 5, 6, 6, 15, 4, 9, 4, 5, 7, 6, 4, 4, 4, 4, 4, 4, 4, 4, 4, 4, 4, 4, 8, 5, 4, 4, 16, 4, 7, 5, 5, 4, 4, 5, 9, 8, 4, 4, 6, 4, 6, 13, 4, 10, 11, 5, 6, 5, 4, 10, 4, 4, 7, 4, 8, 4, 5, 6, 5, 4, 4, 4, 6, 4, 5, 4, 5, 5, 4, 4, 8, 5, 4, 4, 4, 4, 4, 5, 8, 6, 4, 4, 4, 5, 4, 5, 4, 5, 6, 4, 4, 5, 6, 6, 5, 10, 5, 7, 4, 4, 8, 4, 4, 4, 4, 5, 4, 4, 4, 4, 4, 6, 4, 4, 4, 5, 4, 10, 4, 8, 4, 4, 6, 4, 4, 8, 12, 4, 8, 6, 6, 5, 6, 4, 4, 10, 6, 4, 4, 4, 4, 5, 4, 5, 9, 4, 6, 4, 4, 5, 4, 4, 4, 6, 8, 6, 6, 6, 5, 4, 4, 4, 4, 4, 5, 4, 6, 4, 4, 4, 4, 4, 4, 5, 5, 4, 5, 4, 4, 6, 7, 4, 4, 4, 6, 4, 10, 8, 4, 4, 4, 4, 6, 4, 5, 4, 4, 4, 5, 4, 6, 7, 5, 4, 7, 4, 5, 4, 4, 6, 5, 4, 5, 6, 7, 4, 5, 4, 6, 4, 4, 6, 4, 4, 5, 6, 4, 4, 5, 6, 4, 4, 4, 4, 4, 4, 5, 4, 4, 4, 5, 4, 4, 4, 5, 4, 4, 6, 4, 6, 5, 5, 6, 5, 6, 4, 4, 4, 5, 5, 4, 4, 4, 4, 7, 4, 8, 4, 4, 7, 4, 7, 4, 5, 5, 5, 6, 7, 6, 5, 6, 4, 6, 5, 6, 4, 5, 6, 5, 4, 8, 9, 15, 7, 10, 4, 8, 4, 4, 4, 7, 4, 4, 4, 4, 5, 6, 5, 5, 4, 12, 4, 7, 4, 6, 5, 4, 8, 4, 4, 7, 4, 5, 4, 4, 4, 5, 4, 4, 4, 4, 4, 6, 7, 4, 4, 5, 8, 6, 4, 7, 5, 4, 4, 5, 4, 4, 5, 5, 4, 7, 5, 4, 6, 4, 9, 5, 7, 5, 7, 6, 5, 7, 4, 7, 5, 7, 10, 8, 4, 7, 6, 6, 4, 7, 7, 5, 4, 4, 4, 5, 4, 5, 5, 4, 5, 5, 4, 4, 5, 5, 4, 6, 4, 4, 4, 8, 4, 5, 4, 4, 4, 4, 4, 5, 5, 4, 4, 4, 4, 6, 4, 5, 4, 4, 4, 4, 4, 4, 4, 4, 8, 5, 4, 4, 4, 4, 4, 8, 4, 4, 4, 4, 4, 6, 7, 4, 4, 6, 5, 4, 5, 4, 7, 14, 4, 6, 4, 8, 5, 4, 5, 5, 8, 8, 4, 5, 5, 7, 4, 5, 5, 7, 4, 5, 8, 6, 4, 4, 4, 6, 4, 4, 4, 5, 7, 4, 9, 4, 5, 4, 6, 6, 4, 5, 6, 4, 5, 4, 5, 4, 4, 4, 4, 5, 8, 5, 5, 5, 4, 4, 4, 4, 4, 5, 10, 4, 5, 4, 4, 4, 4, 5, 6, 4, 4, 8, 8, 4, 5, 4, 5, 6, 4, 10, 4, 4, 4, 4, 4, 4, 4, 4, 4, 5, 4, 4, 4, 6, 5, 4, 4, 7, 6, 6, 7, 4, 4, 4, 4, 4, 6, 8, 6, 5, 5, 8, 5, 4, 4, 6, 5, 4, 4, 4, 5, 4, 4, 4, 5, 5, 6, 4, 4, 4, 4, 9, 4, 4, 6, 5, 4, 6, 5, 6, 5, 4, 4, 4, 4, 4, 4, 4, 4, 4, 4, 4, 4, 4, 4, 7, 4, 4, 5, 5, 4, 4, 4, 4, 4, 4, 6, 5, 4, 5, 5, 4, 4, 4, 5, 6, 4, 5, 5, 4, 4, 4, 4, 4, 6, 6, 5, 6, 4, 9, 4, 5, 5, 4, 5, 5, 4, 9, 4, 7, 4, 5, 4, 8, 4, 4, 7, 4, 7, 5, 4, 4, 7, 7, 6, 9, 4, 6, 7, 4, 4, 5, 10, 13, 8, 11, 8, 4], [6, 13, 8, 8, 8, 6, 7, 10, 9, 8, 9, 6, 6, 7, 6, 11, 7, 8, 8, 6, 6, 6, 9, 12, 10, 15, 6, 6, 6, 6, 7, 7, 7, 6, 6, 7, 6, 6, 6, 9, 6, 9, 6, 6, 7, 7, 6, 6, 7, 6, 6, 8, 6, 6, 9, 6, 6, 7, 6, 6, 6, 6, 7, 10, 6, 8, 11, 6, 6, 8, 6, 9, 6, 6, 6, 6, 6, 6, 6, 8, 7, 7, 7, 6, 6, 7, 7, 7, 6, 6, 10, 6, 6, 8, 6, 6, 6, 6, 6, 7, 8, 6, 6, 6, 7, 8, 7, 8, 6, 8, 6, 6, 8, 7, 9, 7, 6, 6, 6, 7, 9, 8, 8, 6, 6, 6, 6, 6, 6, 7, 7, 8, 7, 7, 6, 6, 10, 7, 6, 9, 6, 8, 6, 6, 6, 9, 7, 10, 6, 7, 6, 10, 6, 6, 7, 6, 7, 7, 7, 7, 8, 6, 10, 9, 6, 6, 8, 6, 6, 6, 6, 6, 6, 6, 12, 6, 6, 7, 8, 6, 8, 6, 18, 8, 9, 7, 12, 9, 6, 10, 8, 6, 6, 6, 6, 13, 6, 6, 6, 6, 6, 8, 7, 6, 6, 6, 6, 6, 7, 11, 7, 9, 9, 7, 6, 8, 9, 6, 7, 6, 16, 6, 15, 6, 10, 6, 6, 6, 6, 6, 6, 7, 6, 7, 8, 7, 11, 7, 9, 6, 6, 8, 6, 6, 6, 6, 6, 7, 9, 6, 6, 6, 10, 13, 8, 12, 6, 7, 7, 6, 6, 6, 7, 6, 6, 14, 19, 6, 6, 7, 6, 6, 8, 7, 7, 6, 8, 6, 6, 6, 6, 7, 20, 7, 7, 8, 6, 7, 15, 18, 7, 6, 13, 6, 6, 6, 6, 10, 6, 6, 8, 7, 7, 7, 7, 8, 7, 7, 7, 7, 7, 9, 7, 9, 6, 6, 16, 9, 7, 6, 7, 7, 7, 8, 7, 6, 6, 8, 6, 11, 6, 6, 6, 10, 6, 6, 6, 6, 17, 7, 12, 7, 6, 6, 8, 7, 6, 7, 6, 15, 6, 7, 6, 6, 13, 6, 6, 6, 9, 8, 7, 8, 6, 6, 6, 6, 6, 8, 6, 6, 12, 8, 6, 8, 6, 8, 6, 7, 6, 7, 7, 10, 7, 7, 7, 7, 6, 7, 6, 20, 18, 7, 6, 18, 7, 6, 8, 7, 6, 7, 7, 9, 10, 10, 6, 7, 6, 6, 8, 7, 15, 21, 6, 9, 6, 6, 8, 6, 7, 6, 6, 6, 13, 6, 6, 7, 6, 7, 6, 8, 9, 6, 10, 7, 6, 15, 6, 6, 7, 6, 7, 6, 9, 7, 7, 7, 6, 6, 7, 7, 7, 6, 6, 9, 6, 7, 7, 6, 6, 8, 6, 6, 6, 7, 6, 10, 9, 7, 6, 6, 7, 6, 6, 6, 7, 6, 17, 8, 17, 8, 7, 7, 8, 6, 10, 6, 18, 7, 9, 7, 8, 7, 6, 8, 16, 6, 6, 6, 7, 9, 6, 9, 8, 6, 9, 8, 8, 6, 6, 20, 19, 9, 12, 7, 7, 7, 6, 6, 7, 6, 6, 9, 6, 6, 6, 7, 6, 6, 10, 6, 7, 7, 12, 6, 7, 6, 7, 8, 6, 6, 6, 6, 8, 7, 6, 6, 6, 8, 6, 8, 6, 8, 6, 6, 7, 6, 8, 8, 7, 7, 6, 8, 6, 6, 6, 13, 7, 9, 14, 11]]\n"
          ],
          "name": "stdout"
        },
        {
          "output_type": "display_data",
          "data": {
            "image/png": "[encoded data removed]",
            "text/plain": [
              "<Figure size 432x288 with 1 Axes>"
            ]
          },
          "metadata": {
            "tags": [],
            "needs_background": "light"
          }
        }
      ]
    },
    {
      "cell_type": "code",
      "metadata": {
        "id": "r7n9mNHDkDyT",
        "colab_type": "code",
        "colab": {}
      },
      "source": [
        "#saving our cleaned dataset \n",
        "results.to_csv('Cleaned_results.csv')"
      ],
      "execution_count": 0,
      "outputs": []
    },
    {
      "cell_type": "markdown",
      "metadata": {
        "id": "idFtVlv3kg7D",
        "colab_type": "text"
      },
      "source": [
        "## Merging our datasets"
      ]
    },
    {
      "cell_type": "code",
      "metadata": {
        "id": "XL4H0a_1nnYR",
        "colab_type": "code",
        "outputId": "77901131-504d-42f1-ca3b-2c2492c9cebe",
        "colab": {
          "base_uri": "https://localhost:8080/",
          "height": 626
        }
      },
      "source": [
        "fifa_df = pd.read_csv('Cleaned_fifa.csv')\n",
        "fifa_df"
      ],
      "execution_count": 33,
      "outputs": [
        {
          "output_type": "execute_result",
          "data": {
            "text/html": [
              "<div>\n",
              "<style scoped>\n",
              "    .dataframe tbody tr th:only-of-type {\n",
              "        vertical-align: middle;\n",
              "    }\n",
              "\n",
              "    .dataframe tbody tr th {\n",
              "        vertical-align: top;\n",
              "    }\n",
              "\n",
              "    .dataframe thead th {\n",
              "        text-align: right;\n",
              "    }\n",
              "</style>\n",
              "<table border=\"1\" class=\"dataframe\">\n",
              "  <thead>\n",
              "    <tr style=\"text-align: right;\">\n",
              "      <th></th>\n",
              "      <th>Unnamed: 0</th>\n",
              "      <th>rank</th>\n",
              "      <th>country_full</th>\n",
              "      <th>country_abrv</th>\n",
              "      <th>total_points</th>\n",
              "      <th>previous_points</th>\n",
              "      <th>rank_change</th>\n",
              "      <th>cur_year_avg</th>\n",
              "      <th>cur_year_avg_weighted</th>\n",
              "      <th>last_year_avg</th>\n",
              "      <th>last_year_avg_weighted</th>\n",
              "      <th>two_year_ago_avg</th>\n",
              "      <th>two_year_ago_weighted</th>\n",
              "      <th>three_year_ago_avg</th>\n",
              "      <th>three_year_ago_weighted</th>\n",
              "      <th>confederation</th>\n",
              "      <th>rank_date</th>\n",
              "    </tr>\n",
              "  </thead>\n",
              "  <tbody>\n",
              "    <tr>\n",
              "      <th>0</th>\n",
              "      <td>0</td>\n",
              "      <td>1</td>\n",
              "      <td>Germany</td>\n",
              "      <td>GER</td>\n",
              "      <td>0.000</td>\n",
              "      <td>57</td>\n",
              "      <td>0</td>\n",
              "      <td>0.000</td>\n",
              "      <td>0.000</td>\n",
              "      <td>0.000</td>\n",
              "      <td>0.000</td>\n",
              "      <td>0.000</td>\n",
              "      <td>0.000</td>\n",
              "      <td>0.000</td>\n",
              "      <td>0.000</td>\n",
              "      <td>UEFA</td>\n",
              "      <td>1993-08-08</td>\n",
              "    </tr>\n",
              "    <tr>\n",
              "      <th>1</th>\n",
              "      <td>1</td>\n",
              "      <td>2</td>\n",
              "      <td>Italy</td>\n",
              "      <td>ITA</td>\n",
              "      <td>0.000</td>\n",
              "      <td>57</td>\n",
              "      <td>0</td>\n",
              "      <td>0.000</td>\n",
              "      <td>0.000</td>\n",
              "      <td>0.000</td>\n",
              "      <td>0.000</td>\n",
              "      <td>0.000</td>\n",
              "      <td>0.000</td>\n",
              "      <td>0.000</td>\n",
              "      <td>0.000</td>\n",
              "      <td>UEFA</td>\n",
              "      <td>1993-08-08</td>\n",
              "    </tr>\n",
              "    <tr>\n",
              "      <th>2</th>\n",
              "      <td>2</td>\n",
              "      <td>3</td>\n",
              "      <td>Switzerland</td>\n",
              "      <td>SUI</td>\n",
              "      <td>0.000</td>\n",
              "      <td>50</td>\n",
              "      <td>9</td>\n",
              "      <td>0.000</td>\n",
              "      <td>0.000</td>\n",
              "      <td>0.000</td>\n",
              "      <td>0.000</td>\n",
              "      <td>0.000</td>\n",
              "      <td>0.000</td>\n",
              "      <td>0.000</td>\n",
              "      <td>0.000</td>\n",
              "      <td>UEFA</td>\n",
              "      <td>1993-08-08</td>\n",
              "    </tr>\n",
              "    <tr>\n",
              "      <th>3</th>\n",
              "      <td>3</td>\n",
              "      <td>4</td>\n",
              "      <td>Sweden</td>\n",
              "      <td>SWE</td>\n",
              "      <td>0.000</td>\n",
              "      <td>55</td>\n",
              "      <td>0</td>\n",
              "      <td>0.000</td>\n",
              "      <td>0.000</td>\n",
              "      <td>0.000</td>\n",
              "      <td>0.000</td>\n",
              "      <td>0.000</td>\n",
              "      <td>0.000</td>\n",
              "      <td>0.000</td>\n",
              "      <td>0.000</td>\n",
              "      <td>UEFA</td>\n",
              "      <td>1993-08-08</td>\n",
              "    </tr>\n",
              "    <tr>\n",
              "      <th>4</th>\n",
              "      <td>4</td>\n",
              "      <td>5</td>\n",
              "      <td>Argentina</td>\n",
              "      <td>ARG</td>\n",
              "      <td>0.000</td>\n",
              "      <td>51</td>\n",
              "      <td>5</td>\n",
              "      <td>0.000</td>\n",
              "      <td>0.000</td>\n",
              "      <td>0.000</td>\n",
              "      <td>0.000</td>\n",
              "      <td>0.000</td>\n",
              "      <td>0.000</td>\n",
              "      <td>0.000</td>\n",
              "      <td>0.000</td>\n",
              "      <td>CONMEBOL</td>\n",
              "      <td>1993-08-08</td>\n",
              "    </tr>\n",
              "    <tr>\n",
              "      <th>...</th>\n",
              "      <td>...</td>\n",
              "      <td>...</td>\n",
              "      <td>...</td>\n",
              "      <td>...</td>\n",
              "      <td>...</td>\n",
              "      <td>...</td>\n",
              "      <td>...</td>\n",
              "      <td>...</td>\n",
              "      <td>...</td>\n",
              "      <td>...</td>\n",
              "      <td>...</td>\n",
              "      <td>...</td>\n",
              "      <td>...</td>\n",
              "      <td>...</td>\n",
              "      <td>...</td>\n",
              "      <td>...</td>\n",
              "      <td>...</td>\n",
              "    </tr>\n",
              "    <tr>\n",
              "      <th>57788</th>\n",
              "      <td>57788</td>\n",
              "      <td>206</td>\n",
              "      <td>Anguilla</td>\n",
              "      <td>AIA</td>\n",
              "      <td>0.000</td>\n",
              "      <td>0</td>\n",
              "      <td>1</td>\n",
              "      <td>0.000</td>\n",
              "      <td>0.000</td>\n",
              "      <td>0.000</td>\n",
              "      <td>0.000</td>\n",
              "      <td>0.000</td>\n",
              "      <td>0.000</td>\n",
              "      <td>0.000</td>\n",
              "      <td>0.000</td>\n",
              "      <td>CONCACAF</td>\n",
              "      <td>2018-06-07</td>\n",
              "    </tr>\n",
              "    <tr>\n",
              "      <th>57789</th>\n",
              "      <td>57789</td>\n",
              "      <td>206</td>\n",
              "      <td>Bahamas</td>\n",
              "      <td>BAH</td>\n",
              "      <td>0.000</td>\n",
              "      <td>0</td>\n",
              "      <td>1</td>\n",
              "      <td>0.000</td>\n",
              "      <td>0.000</td>\n",
              "      <td>0.000</td>\n",
              "      <td>0.000</td>\n",
              "      <td>0.000</td>\n",
              "      <td>0.000</td>\n",
              "      <td>0.000</td>\n",
              "      <td>0.000</td>\n",
              "      <td>CONCACAF</td>\n",
              "      <td>2018-06-07</td>\n",
              "    </tr>\n",
              "    <tr>\n",
              "      <th>57790</th>\n",
              "      <td>57790</td>\n",
              "      <td>206</td>\n",
              "      <td>Eritrea</td>\n",
              "      <td>ERI</td>\n",
              "      <td>0.000</td>\n",
              "      <td>0</td>\n",
              "      <td>1</td>\n",
              "      <td>0.000</td>\n",
              "      <td>0.000</td>\n",
              "      <td>0.000</td>\n",
              "      <td>0.000</td>\n",
              "      <td>0.000</td>\n",
              "      <td>0.000</td>\n",
              "      <td>0.000</td>\n",
              "      <td>0.000</td>\n",
              "      <td>CAF</td>\n",
              "      <td>2018-06-07</td>\n",
              "    </tr>\n",
              "    <tr>\n",
              "      <th>57791</th>\n",
              "      <td>57791</td>\n",
              "      <td>206</td>\n",
              "      <td>Somalia</td>\n",
              "      <td>SOM</td>\n",
              "      <td>0.000</td>\n",
              "      <td>0</td>\n",
              "      <td>1</td>\n",
              "      <td>0.000</td>\n",
              "      <td>0.000</td>\n",
              "      <td>0.000</td>\n",
              "      <td>0.000</td>\n",
              "      <td>0.000</td>\n",
              "      <td>0.000</td>\n",
              "      <td>0.000</td>\n",
              "      <td>0.000</td>\n",
              "      <td>CAF</td>\n",
              "      <td>2018-06-07</td>\n",
              "    </tr>\n",
              "    <tr>\n",
              "      <th>57792</th>\n",
              "      <td>57792</td>\n",
              "      <td>206</td>\n",
              "      <td>Tonga</td>\n",
              "      <td>TGA</td>\n",
              "      <td>0.000</td>\n",
              "      <td>0</td>\n",
              "      <td>1</td>\n",
              "      <td>0.000</td>\n",
              "      <td>0.000</td>\n",
              "      <td>0.000</td>\n",
              "      <td>0.000</td>\n",
              "      <td>0.000</td>\n",
              "      <td>0.000</td>\n",
              "      <td>0.000</td>\n",
              "      <td>0.000</td>\n",
              "      <td>OFC</td>\n",
              "      <td>2018-06-07</td>\n",
              "    </tr>\n",
              "  </tbody>\n",
              "</table>\n",
              "<p>57793 rows × 17 columns</p>\n",
              "</div>"
            ],
            "text/plain": [
              "       Unnamed: 0  rank  ... confederation   rank_date\n",
              "0               0     1  ...          UEFA  1993-08-08\n",
              "1               1     2  ...          UEFA  1993-08-08\n",
              "2               2     3  ...          UEFA  1993-08-08\n",
              "3               3     4  ...          UEFA  1993-08-08\n",
              "4               4     5  ...      CONMEBOL  1993-08-08\n",
              "...           ...   ...  ...           ...         ...\n",
              "57788       57788   206  ...      CONCACAF  2018-06-07\n",
              "57789       57789   206  ...      CONCACAF  2018-06-07\n",
              "57790       57790   206  ...           CAF  2018-06-07\n",
              "57791       57791   206  ...           CAF  2018-06-07\n",
              "57792       57792   206  ...           OFC  2018-06-07\n",
              "\n",
              "[57793 rows x 17 columns]"
            ]
          },
          "metadata": {
            "tags": []
          },
          "execution_count": 33
        }
      ]
    },
    {
      "cell_type": "code",
      "metadata": {
        "id": "DwkUF2T8n1Yj",
        "colab_type": "code",
        "outputId": "a5d211ba-330b-4b77-e63c-e69ebad8ffb1",
        "colab": {
          "base_uri": "https://localhost:8080/",
          "height": 643
        }
      },
      "source": [
        "results_df = pd.read_csv('Cleaned_results.csv')\n",
        "results_df"
      ],
      "execution_count": 34,
      "outputs": [
        {
          "output_type": "execute_result",
          "data": {
            "text/html": [
              "<div>\n",
              "<style scoped>\n",
              "    .dataframe tbody tr th:only-of-type {\n",
              "        vertical-align: middle;\n",
              "    }\n",
              "\n",
              "    .dataframe tbody tr th {\n",
              "        vertical-align: top;\n",
              "    }\n",
              "\n",
              "    .dataframe thead th {\n",
              "        text-align: right;\n",
              "    }\n",
              "</style>\n",
              "<table border=\"1\" class=\"dataframe\">\n",
              "  <thead>\n",
              "    <tr style=\"text-align: right;\">\n",
              "      <th></th>\n",
              "      <th>Unnamed: 0</th>\n",
              "      <th>date</th>\n",
              "      <th>home_team</th>\n",
              "      <th>away_team</th>\n",
              "      <th>home_score</th>\n",
              "      <th>away_score</th>\n",
              "      <th>tournament</th>\n",
              "      <th>city</th>\n",
              "      <th>country</th>\n",
              "      <th>neutral</th>\n",
              "    </tr>\n",
              "  </thead>\n",
              "  <tbody>\n",
              "    <tr>\n",
              "      <th>0</th>\n",
              "      <td>0</td>\n",
              "      <td>1872-11-30</td>\n",
              "      <td>Scotland</td>\n",
              "      <td>England</td>\n",
              "      <td>0</td>\n",
              "      <td>0</td>\n",
              "      <td>Friendly</td>\n",
              "      <td>Glasgow</td>\n",
              "      <td>Scotland</td>\n",
              "      <td>False</td>\n",
              "    </tr>\n",
              "    <tr>\n",
              "      <th>1</th>\n",
              "      <td>1</td>\n",
              "      <td>1873-03-08</td>\n",
              "      <td>England</td>\n",
              "      <td>Scotland</td>\n",
              "      <td>4</td>\n",
              "      <td>2</td>\n",
              "      <td>Friendly</td>\n",
              "      <td>London</td>\n",
              "      <td>England</td>\n",
              "      <td>False</td>\n",
              "    </tr>\n",
              "    <tr>\n",
              "      <th>2</th>\n",
              "      <td>2</td>\n",
              "      <td>1874-03-07</td>\n",
              "      <td>Scotland</td>\n",
              "      <td>England</td>\n",
              "      <td>2</td>\n",
              "      <td>1</td>\n",
              "      <td>Friendly</td>\n",
              "      <td>Glasgow</td>\n",
              "      <td>Scotland</td>\n",
              "      <td>False</td>\n",
              "    </tr>\n",
              "    <tr>\n",
              "      <th>3</th>\n",
              "      <td>3</td>\n",
              "      <td>1875-03-06</td>\n",
              "      <td>England</td>\n",
              "      <td>Scotland</td>\n",
              "      <td>2</td>\n",
              "      <td>2</td>\n",
              "      <td>Friendly</td>\n",
              "      <td>London</td>\n",
              "      <td>England</td>\n",
              "      <td>False</td>\n",
              "    </tr>\n",
              "    <tr>\n",
              "      <th>4</th>\n",
              "      <td>4</td>\n",
              "      <td>1876-03-04</td>\n",
              "      <td>Scotland</td>\n",
              "      <td>England</td>\n",
              "      <td>3</td>\n",
              "      <td>0</td>\n",
              "      <td>Friendly</td>\n",
              "      <td>Glasgow</td>\n",
              "      <td>Scotland</td>\n",
              "      <td>False</td>\n",
              "    </tr>\n",
              "    <tr>\n",
              "      <th>...</th>\n",
              "      <td>...</td>\n",
              "      <td>...</td>\n",
              "      <td>...</td>\n",
              "      <td>...</td>\n",
              "      <td>...</td>\n",
              "      <td>...</td>\n",
              "      <td>...</td>\n",
              "      <td>...</td>\n",
              "      <td>...</td>\n",
              "      <td>...</td>\n",
              "    </tr>\n",
              "    <tr>\n",
              "      <th>40834</th>\n",
              "      <td>40834</td>\n",
              "      <td>2019-07-18</td>\n",
              "      <td>American Samoa</td>\n",
              "      <td>Tahiti</td>\n",
              "      <td>8</td>\n",
              "      <td>1</td>\n",
              "      <td>Pacific Games</td>\n",
              "      <td>Apia</td>\n",
              "      <td>Samoa</td>\n",
              "      <td>True</td>\n",
              "    </tr>\n",
              "    <tr>\n",
              "      <th>40835</th>\n",
              "      <td>40835</td>\n",
              "      <td>2019-07-18</td>\n",
              "      <td>Fiji</td>\n",
              "      <td>Solomon Islands</td>\n",
              "      <td>4</td>\n",
              "      <td>4</td>\n",
              "      <td>Pacific Games</td>\n",
              "      <td>Apia</td>\n",
              "      <td>Samoa</td>\n",
              "      <td>True</td>\n",
              "    </tr>\n",
              "    <tr>\n",
              "      <th>40836</th>\n",
              "      <td>40836</td>\n",
              "      <td>2019-07-19</td>\n",
              "      <td>Senegal</td>\n",
              "      <td>Algeria</td>\n",
              "      <td>0</td>\n",
              "      <td>1</td>\n",
              "      <td>African Cup of Nations</td>\n",
              "      <td>Cairo</td>\n",
              "      <td>Egypt</td>\n",
              "      <td>True</td>\n",
              "    </tr>\n",
              "    <tr>\n",
              "      <th>40837</th>\n",
              "      <td>40837</td>\n",
              "      <td>2019-07-19</td>\n",
              "      <td>Tajikistan</td>\n",
              "      <td>North Korea</td>\n",
              "      <td>0</td>\n",
              "      <td>1</td>\n",
              "      <td>Intercontinental Cup</td>\n",
              "      <td>Ahmedabad</td>\n",
              "      <td>India</td>\n",
              "      <td>True</td>\n",
              "    </tr>\n",
              "    <tr>\n",
              "      <th>40838</th>\n",
              "      <td>40838</td>\n",
              "      <td>2019-07-20</td>\n",
              "      <td>Papua New Guinea</td>\n",
              "      <td>Fiji</td>\n",
              "      <td>1</td>\n",
              "      <td>1</td>\n",
              "      <td>Pacific Games</td>\n",
              "      <td>Apia</td>\n",
              "      <td>Samoa</td>\n",
              "      <td>True</td>\n",
              "    </tr>\n",
              "  </tbody>\n",
              "</table>\n",
              "<p>40839 rows × 10 columns</p>\n",
              "</div>"
            ],
            "text/plain": [
              "       Unnamed: 0        date         home_team  ...       city   country  neutral\n",
              "0               0  1872-11-30          Scotland  ...    Glasgow  Scotland    False\n",
              "1               1  1873-03-08           England  ...     London   England    False\n",
              "2               2  1874-03-07          Scotland  ...    Glasgow  Scotland    False\n",
              "3               3  1875-03-06           England  ...     London   England    False\n",
              "4               4  1876-03-04          Scotland  ...    Glasgow  Scotland    False\n",
              "...           ...         ...               ...  ...        ...       ...      ...\n",
              "40834       40834  2019-07-18    American Samoa  ...       Apia     Samoa     True\n",
              "40835       40835  2019-07-18              Fiji  ...       Apia     Samoa     True\n",
              "40836       40836  2019-07-19           Senegal  ...      Cairo     Egypt     True\n",
              "40837       40837  2019-07-19        Tajikistan  ...  Ahmedabad     India     True\n",
              "40838       40838  2019-07-20  Papua New Guinea  ...       Apia     Samoa     True\n",
              "\n",
              "[40839 rows x 10 columns]"
            ]
          },
          "metadata": {
            "tags": []
          },
          "execution_count": 34
        }
      ]
    },
    {
      "cell_type": "code",
      "metadata": {
        "id": "leLO1o-woFFx",
        "colab_type": "code",
        "outputId": "14f5b520-e03b-482a-ce49-a8e64afa813d",
        "colab": {
          "base_uri": "https://localhost:8080/",
          "height": 661
        }
      },
      "source": [
        "#merging our cleaned datasets as shown above \n",
        "fifa_results = pd.merge(fifa_df, results_df, left_on= ['rank_date', 'country_full'], right_on=['date', 'country'], how='inner')\n",
        "fifa_results"
      ],
      "execution_count": 38,
      "outputs": [
        {
          "output_type": "execute_result",
          "data": {
            "text/html": [
              "<div>\n",
              "<style scoped>\n",
              "    .dataframe tbody tr th:only-of-type {\n",
              "        vertical-align: middle;\n",
              "    }\n",
              "\n",
              "    .dataframe tbody tr th {\n",
              "        vertical-align: top;\n",
              "    }\n",
              "\n",
              "    .dataframe thead th {\n",
              "        text-align: right;\n",
              "    }\n",
              "</style>\n",
              "<table border=\"1\" class=\"dataframe\">\n",
              "  <thead>\n",
              "    <tr style=\"text-align: right;\">\n",
              "      <th></th>\n",
              "      <th>Unnamed: 0_x</th>\n",
              "      <th>rank</th>\n",
              "      <th>country_full</th>\n",
              "      <th>country_abrv</th>\n",
              "      <th>total_points</th>\n",
              "      <th>previous_points</th>\n",
              "      <th>rank_change</th>\n",
              "      <th>cur_year_avg</th>\n",
              "      <th>cur_year_avg_weighted</th>\n",
              "      <th>last_year_avg</th>\n",
              "      <th>last_year_avg_weighted</th>\n",
              "      <th>two_year_ago_avg</th>\n",
              "      <th>two_year_ago_weighted</th>\n",
              "      <th>three_year_ago_avg</th>\n",
              "      <th>three_year_ago_weighted</th>\n",
              "      <th>confederation</th>\n",
              "      <th>rank_date</th>\n",
              "      <th>Unnamed: 0_y</th>\n",
              "      <th>date</th>\n",
              "      <th>home_team</th>\n",
              "      <th>away_team</th>\n",
              "      <th>home_score</th>\n",
              "      <th>away_score</th>\n",
              "      <th>tournament</th>\n",
              "      <th>city</th>\n",
              "      <th>country</th>\n",
              "      <th>neutral</th>\n",
              "    </tr>\n",
              "  </thead>\n",
              "  <tbody>\n",
              "    <tr>\n",
              "      <th>0</th>\n",
              "      <td>7</td>\n",
              "      <td>8</td>\n",
              "      <td>Brazil</td>\n",
              "      <td>BRA</td>\n",
              "      <td>0.000</td>\n",
              "      <td>55</td>\n",
              "      <td>-5</td>\n",
              "      <td>0.000</td>\n",
              "      <td>0.000</td>\n",
              "      <td>0.000</td>\n",
              "      <td>0.000</td>\n",
              "      <td>0.000</td>\n",
              "      <td>0.000</td>\n",
              "      <td>0.000</td>\n",
              "      <td>0.000</td>\n",
              "      <td>CONMEBOL</td>\n",
              "      <td>1993-08-08</td>\n",
              "      <td>17916</td>\n",
              "      <td>1993-08-08</td>\n",
              "      <td>Brazil</td>\n",
              "      <td>Mexico</td>\n",
              "      <td>1</td>\n",
              "      <td>1</td>\n",
              "      <td>Friendly</td>\n",
              "      <td>Maceió</td>\n",
              "      <td>Brazil</td>\n",
              "      <td>False</td>\n",
              "    </tr>\n",
              "    <tr>\n",
              "      <th>1</th>\n",
              "      <td>34</td>\n",
              "      <td>35</td>\n",
              "      <td>Ecuador</td>\n",
              "      <td>ECU</td>\n",
              "      <td>0.000</td>\n",
              "      <td>23</td>\n",
              "      <td>30</td>\n",
              "      <td>0.000</td>\n",
              "      <td>0.000</td>\n",
              "      <td>0.000</td>\n",
              "      <td>0.000</td>\n",
              "      <td>0.000</td>\n",
              "      <td>0.000</td>\n",
              "      <td>0.000</td>\n",
              "      <td>0.000</td>\n",
              "      <td>CONMEBOL</td>\n",
              "      <td>1993-08-08</td>\n",
              "      <td>17917</td>\n",
              "      <td>1993-08-08</td>\n",
              "      <td>Ecuador</td>\n",
              "      <td>Venezuela</td>\n",
              "      <td>5</td>\n",
              "      <td>0</td>\n",
              "      <td>FIFA World Cup qualification</td>\n",
              "      <td>Quito</td>\n",
              "      <td>Ecuador</td>\n",
              "      <td>False</td>\n",
              "    </tr>\n",
              "    <tr>\n",
              "      <th>2</th>\n",
              "      <td>49</td>\n",
              "      <td>50</td>\n",
              "      <td>Zimbabwe</td>\n",
              "      <td>ZIM</td>\n",
              "      <td>0.000</td>\n",
              "      <td>27</td>\n",
              "      <td>4</td>\n",
              "      <td>0.000</td>\n",
              "      <td>0.000</td>\n",
              "      <td>0.000</td>\n",
              "      <td>0.000</td>\n",
              "      <td>0.000</td>\n",
              "      <td>0.000</td>\n",
              "      <td>0.000</td>\n",
              "      <td>0.000</td>\n",
              "      <td>CAF</td>\n",
              "      <td>1993-08-08</td>\n",
              "      <td>17921</td>\n",
              "      <td>1993-08-08</td>\n",
              "      <td>Zimbabwe</td>\n",
              "      <td>Eswatini</td>\n",
              "      <td>2</td>\n",
              "      <td>0</td>\n",
              "      <td>Friendly</td>\n",
              "      <td>Harare</td>\n",
              "      <td>Zimbabwe</td>\n",
              "      <td>False</td>\n",
              "    </tr>\n",
              "    <tr>\n",
              "      <th>3</th>\n",
              "      <td>58</td>\n",
              "      <td>59</td>\n",
              "      <td>Bolivia</td>\n",
              "      <td>BOL</td>\n",
              "      <td>0.000</td>\n",
              "      <td>13</td>\n",
              "      <td>28</td>\n",
              "      <td>0.000</td>\n",
              "      <td>0.000</td>\n",
              "      <td>0.000</td>\n",
              "      <td>0.000</td>\n",
              "      <td>0.000</td>\n",
              "      <td>0.000</td>\n",
              "      <td>0.000</td>\n",
              "      <td>0.000</td>\n",
              "      <td>CONMEBOL</td>\n",
              "      <td>1993-08-08</td>\n",
              "      <td>17915</td>\n",
              "      <td>1993-08-08</td>\n",
              "      <td>Bolivia</td>\n",
              "      <td>Uruguay</td>\n",
              "      <td>3</td>\n",
              "      <td>1</td>\n",
              "      <td>FIFA World Cup qualification</td>\n",
              "      <td>La Paz</td>\n",
              "      <td>Bolivia</td>\n",
              "      <td>False</td>\n",
              "    </tr>\n",
              "    <tr>\n",
              "      <th>4</th>\n",
              "      <td>64</td>\n",
              "      <td>65</td>\n",
              "      <td>Guinea</td>\n",
              "      <td>GUI</td>\n",
              "      <td>0.000</td>\n",
              "      <td>23</td>\n",
              "      <td>-2</td>\n",
              "      <td>0.000</td>\n",
              "      <td>0.000</td>\n",
              "      <td>0.000</td>\n",
              "      <td>0.000</td>\n",
              "      <td>0.000</td>\n",
              "      <td>0.000</td>\n",
              "      <td>0.000</td>\n",
              "      <td>0.000</td>\n",
              "      <td>CAF</td>\n",
              "      <td>1993-08-08</td>\n",
              "      <td>17918</td>\n",
              "      <td>1993-08-08</td>\n",
              "      <td>Guinea</td>\n",
              "      <td>Sierra Leone</td>\n",
              "      <td>1</td>\n",
              "      <td>0</td>\n",
              "      <td>Friendly</td>\n",
              "      <td>Conakry</td>\n",
              "      <td>Guinea</td>\n",
              "      <td>False</td>\n",
              "    </tr>\n",
              "    <tr>\n",
              "      <th>...</th>\n",
              "      <td>...</td>\n",
              "      <td>...</td>\n",
              "      <td>...</td>\n",
              "      <td>...</td>\n",
              "      <td>...</td>\n",
              "      <td>...</td>\n",
              "      <td>...</td>\n",
              "      <td>...</td>\n",
              "      <td>...</td>\n",
              "      <td>...</td>\n",
              "      <td>...</td>\n",
              "      <td>...</td>\n",
              "      <td>...</td>\n",
              "      <td>...</td>\n",
              "      <td>...</td>\n",
              "      <td>...</td>\n",
              "      <td>...</td>\n",
              "      <td>...</td>\n",
              "      <td>...</td>\n",
              "      <td>...</td>\n",
              "      <td>...</td>\n",
              "      <td>...</td>\n",
              "      <td>...</td>\n",
              "      <td>...</td>\n",
              "      <td>...</td>\n",
              "      <td>...</td>\n",
              "      <td>...</td>\n",
              "    </tr>\n",
              "    <tr>\n",
              "      <th>945</th>\n",
              "      <td>57594</td>\n",
              "      <td>12</td>\n",
              "      <td>England</td>\n",
              "      <td>ENG</td>\n",
              "      <td>1050.840</td>\n",
              "      <td>1040</td>\n",
              "      <td>1</td>\n",
              "      <td>476.420</td>\n",
              "      <td>476.420</td>\n",
              "      <td>593.510</td>\n",
              "      <td>296.750</td>\n",
              "      <td>580.490</td>\n",
              "      <td>174.150</td>\n",
              "      <td>517.600</td>\n",
              "      <td>103.520</td>\n",
              "      <td>UEFA</td>\n",
              "      <td>2018-06-07</td>\n",
              "      <td>39833</td>\n",
              "      <td>2018-06-07</td>\n",
              "      <td>Kárpátalja</td>\n",
              "      <td>Székely Land</td>\n",
              "      <td>4</td>\n",
              "      <td>2</td>\n",
              "      <td>CONIFA World Football Cup</td>\n",
              "      <td>Carshalton</td>\n",
              "      <td>England</td>\n",
              "      <td>True</td>\n",
              "    </tr>\n",
              "    <tr>\n",
              "      <th>946</th>\n",
              "      <td>57595</td>\n",
              "      <td>14</td>\n",
              "      <td>Uruguay</td>\n",
              "      <td>URU</td>\n",
              "      <td>1018.410</td>\n",
              "      <td>976</td>\n",
              "      <td>3</td>\n",
              "      <td>486.280</td>\n",
              "      <td>486.280</td>\n",
              "      <td>487.690</td>\n",
              "      <td>243.840</td>\n",
              "      <td>561.470</td>\n",
              "      <td>168.440</td>\n",
              "      <td>599.260</td>\n",
              "      <td>119.850</td>\n",
              "      <td>CONMEBOL</td>\n",
              "      <td>2018-06-07</td>\n",
              "      <td>39821</td>\n",
              "      <td>2018-06-07</td>\n",
              "      <td>Uruguay</td>\n",
              "      <td>Uzbekistan</td>\n",
              "      <td>3</td>\n",
              "      <td>0</td>\n",
              "      <td>Friendly</td>\n",
              "      <td>Montevideo</td>\n",
              "      <td>Uruguay</td>\n",
              "      <td>False</td>\n",
              "    </tr>\n",
              "    <tr>\n",
              "      <th>947</th>\n",
              "      <td>57603</td>\n",
              "      <td>22</td>\n",
              "      <td>Iceland</td>\n",
              "      <td>ISL</td>\n",
              "      <td>908.010</td>\n",
              "      <td>930</td>\n",
              "      <td>0</td>\n",
              "      <td>438.640</td>\n",
              "      <td>438.640</td>\n",
              "      <td>564.250</td>\n",
              "      <td>282.130</td>\n",
              "      <td>302.020</td>\n",
              "      <td>90.610</td>\n",
              "      <td>483.190</td>\n",
              "      <td>96.640</td>\n",
              "      <td>UEFA</td>\n",
              "      <td>2018-06-07</td>\n",
              "      <td>39824</td>\n",
              "      <td>2018-06-07</td>\n",
              "      <td>Iceland</td>\n",
              "      <td>Ghana</td>\n",
              "      <td>2</td>\n",
              "      <td>2</td>\n",
              "      <td>Friendly</td>\n",
              "      <td>Reykjavík</td>\n",
              "      <td>Iceland</td>\n",
              "      <td>False</td>\n",
              "    </tr>\n",
              "    <tr>\n",
              "      <th>948</th>\n",
              "      <td>57607</td>\n",
              "      <td>26</td>\n",
              "      <td>Austria</td>\n",
              "      <td>AUT</td>\n",
              "      <td>844.700</td>\n",
              "      <td>841</td>\n",
              "      <td>0</td>\n",
              "      <td>456.270</td>\n",
              "      <td>456.270</td>\n",
              "      <td>229.280</td>\n",
              "      <td>114.640</td>\n",
              "      <td>503.420</td>\n",
              "      <td>151.020</td>\n",
              "      <td>613.800</td>\n",
              "      <td>122.760</td>\n",
              "      <td>UEFA</td>\n",
              "      <td>2018-06-07</td>\n",
              "      <td>39823</td>\n",
              "      <td>2018-06-07</td>\n",
              "      <td>South Korea</td>\n",
              "      <td>Bolivia</td>\n",
              "      <td>0</td>\n",
              "      <td>0</td>\n",
              "      <td>Friendly</td>\n",
              "      <td>Innsbruck</td>\n",
              "      <td>Austria</td>\n",
              "      <td>True</td>\n",
              "    </tr>\n",
              "    <tr>\n",
              "      <th>949</th>\n",
              "      <td>57678</td>\n",
              "      <td>97</td>\n",
              "      <td>India</td>\n",
              "      <td>IND</td>\n",
              "      <td>349.920</td>\n",
              "      <td>354</td>\n",
              "      <td>0</td>\n",
              "      <td>196.240</td>\n",
              "      <td>196.240</td>\n",
              "      <td>222.360</td>\n",
              "      <td>111.180</td>\n",
              "      <td>85.000</td>\n",
              "      <td>25.500</td>\n",
              "      <td>85.000</td>\n",
              "      <td>17.000</td>\n",
              "      <td>AFC</td>\n",
              "      <td>2018-06-07</td>\n",
              "      <td>39826</td>\n",
              "      <td>2018-06-07</td>\n",
              "      <td>India</td>\n",
              "      <td>New Zealand</td>\n",
              "      <td>1</td>\n",
              "      <td>2</td>\n",
              "      <td>Intercontinental Cup</td>\n",
              "      <td>Mumbai</td>\n",
              "      <td>India</td>\n",
              "      <td>False</td>\n",
              "    </tr>\n",
              "  </tbody>\n",
              "</table>\n",
              "<p>950 rows × 27 columns</p>\n",
              "</div>"
            ],
            "text/plain": [
              "     Unnamed: 0_x  rank country_full  ...        city   country  neutral\n",
              "0               7     8       Brazil  ...      Maceió    Brazil    False\n",
              "1              34    35      Ecuador  ...       Quito   Ecuador    False\n",
              "2              49    50     Zimbabwe  ...      Harare  Zimbabwe    False\n",
              "3              58    59      Bolivia  ...      La Paz   Bolivia    False\n",
              "4              64    65       Guinea  ...     Conakry    Guinea    False\n",
              "..            ...   ...          ...  ...         ...       ...      ...\n",
              "945         57594    12      England  ...  Carshalton   England     True\n",
              "946         57595    14      Uruguay  ...  Montevideo   Uruguay    False\n",
              "947         57603    22      Iceland  ...   Reykjavík   Iceland    False\n",
              "948         57607    26      Austria  ...   Innsbruck   Austria     True\n",
              "949         57678    97        India  ...      Mumbai     India    False\n",
              "\n",
              "[950 rows x 27 columns]"
            ]
          },
          "metadata": {
            "tags": []
          },
          "execution_count": 38
        }
      ]
    },
    {
      "cell_type": "markdown",
      "metadata": {
        "id": "bmT7RmwHodGe",
        "colab_type": "text"
      },
      "source": [
        "## Saving our merged dataset "
      ]
    },
    {
      "cell_type": "code",
      "metadata": {
        "id": "NbugU1ehohjA",
        "colab_type": "code",
        "colab": {}
      },
      "source": [
        "fifa_results.to_csv('football_dataset.csv')"
      ],
      "execution_count": 0,
      "outputs": []
    },
    {
      "cell_type": "markdown",
      "metadata": {
        "id": "AiHtZsZQqf0S",
        "colab_type": "text"
      },
      "source": [
        "### Previewing our merged dataset"
      ]
    },
    {
      "cell_type": "code",
      "metadata": {
        "id": "YeoSSbDkqjIs",
        "colab_type": "code",
        "colab": {}
      },
      "source": [
        "df_fifa = pd.read_csv('football_dataset.csv')"
      ],
      "execution_count": 0,
      "outputs": []
    },
    {
      "cell_type": "code",
      "metadata": {
        "id": "2DanZdR_q-ap",
        "colab_type": "code",
        "outputId": "c5a94bfa-70e0-449c-99a9-32ddf8ef47e1",
        "colab": {
          "base_uri": "https://localhost:8080/",
          "height": 361
        }
      },
      "source": [
        "df_fifa.head(5)"
      ],
      "execution_count": 41,
      "outputs": [
        {
          "output_type": "execute_result",
          "data": {
            "text/html": [
              "<div>\n",
              "<style scoped>\n",
              "    .dataframe tbody tr th:only-of-type {\n",
              "        vertical-align: middle;\n",
              "    }\n",
              "\n",
              "    .dataframe tbody tr th {\n",
              "        vertical-align: top;\n",
              "    }\n",
              "\n",
              "    .dataframe thead th {\n",
              "        text-align: right;\n",
              "    }\n",
              "</style>\n",
              "<table border=\"1\" class=\"dataframe\">\n",
              "  <thead>\n",
              "    <tr style=\"text-align: right;\">\n",
              "      <th></th>\n",
              "      <th>Unnamed: 0</th>\n",
              "      <th>Unnamed: 0_x</th>\n",
              "      <th>rank</th>\n",
              "      <th>country_full</th>\n",
              "      <th>country_abrv</th>\n",
              "      <th>total_points</th>\n",
              "      <th>previous_points</th>\n",
              "      <th>rank_change</th>\n",
              "      <th>cur_year_avg</th>\n",
              "      <th>cur_year_avg_weighted</th>\n",
              "      <th>last_year_avg</th>\n",
              "      <th>last_year_avg_weighted</th>\n",
              "      <th>two_year_ago_avg</th>\n",
              "      <th>two_year_ago_weighted</th>\n",
              "      <th>three_year_ago_avg</th>\n",
              "      <th>three_year_ago_weighted</th>\n",
              "      <th>confederation</th>\n",
              "      <th>rank_date</th>\n",
              "      <th>Unnamed: 0_y</th>\n",
              "      <th>date</th>\n",
              "      <th>home_team</th>\n",
              "      <th>away_team</th>\n",
              "      <th>home_score</th>\n",
              "      <th>away_score</th>\n",
              "      <th>tournament</th>\n",
              "      <th>city</th>\n",
              "      <th>country</th>\n",
              "      <th>neutral</th>\n",
              "    </tr>\n",
              "  </thead>\n",
              "  <tbody>\n",
              "    <tr>\n",
              "      <th>0</th>\n",
              "      <td>0</td>\n",
              "      <td>7</td>\n",
              "      <td>8</td>\n",
              "      <td>Brazil</td>\n",
              "      <td>BRA</td>\n",
              "      <td>0.000</td>\n",
              "      <td>55</td>\n",
              "      <td>-5</td>\n",
              "      <td>0.000</td>\n",
              "      <td>0.000</td>\n",
              "      <td>0.000</td>\n",
              "      <td>0.000</td>\n",
              "      <td>0.000</td>\n",
              "      <td>0.000</td>\n",
              "      <td>0.000</td>\n",
              "      <td>0.000</td>\n",
              "      <td>CONMEBOL</td>\n",
              "      <td>1993-08-08</td>\n",
              "      <td>17916</td>\n",
              "      <td>1993-08-08</td>\n",
              "      <td>Brazil</td>\n",
              "      <td>Mexico</td>\n",
              "      <td>1</td>\n",
              "      <td>1</td>\n",
              "      <td>Friendly</td>\n",
              "      <td>Maceió</td>\n",
              "      <td>Brazil</td>\n",
              "      <td>False</td>\n",
              "    </tr>\n",
              "    <tr>\n",
              "      <th>1</th>\n",
              "      <td>1</td>\n",
              "      <td>34</td>\n",
              "      <td>35</td>\n",
              "      <td>Ecuador</td>\n",
              "      <td>ECU</td>\n",
              "      <td>0.000</td>\n",
              "      <td>23</td>\n",
              "      <td>30</td>\n",
              "      <td>0.000</td>\n",
              "      <td>0.000</td>\n",
              "      <td>0.000</td>\n",
              "      <td>0.000</td>\n",
              "      <td>0.000</td>\n",
              "      <td>0.000</td>\n",
              "      <td>0.000</td>\n",
              "      <td>0.000</td>\n",
              "      <td>CONMEBOL</td>\n",
              "      <td>1993-08-08</td>\n",
              "      <td>17917</td>\n",
              "      <td>1993-08-08</td>\n",
              "      <td>Ecuador</td>\n",
              "      <td>Venezuela</td>\n",
              "      <td>5</td>\n",
              "      <td>0</td>\n",
              "      <td>FIFA World Cup qualification</td>\n",
              "      <td>Quito</td>\n",
              "      <td>Ecuador</td>\n",
              "      <td>False</td>\n",
              "    </tr>\n",
              "    <tr>\n",
              "      <th>2</th>\n",
              "      <td>2</td>\n",
              "      <td>49</td>\n",
              "      <td>50</td>\n",
              "      <td>Zimbabwe</td>\n",
              "      <td>ZIM</td>\n",
              "      <td>0.000</td>\n",
              "      <td>27</td>\n",
              "      <td>4</td>\n",
              "      <td>0.000</td>\n",
              "      <td>0.000</td>\n",
              "      <td>0.000</td>\n",
              "      <td>0.000</td>\n",
              "      <td>0.000</td>\n",
              "      <td>0.000</td>\n",
              "      <td>0.000</td>\n",
              "      <td>0.000</td>\n",
              "      <td>CAF</td>\n",
              "      <td>1993-08-08</td>\n",
              "      <td>17921</td>\n",
              "      <td>1993-08-08</td>\n",
              "      <td>Zimbabwe</td>\n",
              "      <td>Eswatini</td>\n",
              "      <td>2</td>\n",
              "      <td>0</td>\n",
              "      <td>Friendly</td>\n",
              "      <td>Harare</td>\n",
              "      <td>Zimbabwe</td>\n",
              "      <td>False</td>\n",
              "    </tr>\n",
              "    <tr>\n",
              "      <th>3</th>\n",
              "      <td>3</td>\n",
              "      <td>58</td>\n",
              "      <td>59</td>\n",
              "      <td>Bolivia</td>\n",
              "      <td>BOL</td>\n",
              "      <td>0.000</td>\n",
              "      <td>13</td>\n",
              "      <td>28</td>\n",
              "      <td>0.000</td>\n",
              "      <td>0.000</td>\n",
              "      <td>0.000</td>\n",
              "      <td>0.000</td>\n",
              "      <td>0.000</td>\n",
              "      <td>0.000</td>\n",
              "      <td>0.000</td>\n",
              "      <td>0.000</td>\n",
              "      <td>CONMEBOL</td>\n",
              "      <td>1993-08-08</td>\n",
              "      <td>17915</td>\n",
              "      <td>1993-08-08</td>\n",
              "      <td>Bolivia</td>\n",
              "      <td>Uruguay</td>\n",
              "      <td>3</td>\n",
              "      <td>1</td>\n",
              "      <td>FIFA World Cup qualification</td>\n",
              "      <td>La Paz</td>\n",
              "      <td>Bolivia</td>\n",
              "      <td>False</td>\n",
              "    </tr>\n",
              "    <tr>\n",
              "      <th>4</th>\n",
              "      <td>4</td>\n",
              "      <td>64</td>\n",
              "      <td>65</td>\n",
              "      <td>Guinea</td>\n",
              "      <td>GUI</td>\n",
              "      <td>0.000</td>\n",
              "      <td>23</td>\n",
              "      <td>-2</td>\n",
              "      <td>0.000</td>\n",
              "      <td>0.000</td>\n",
              "      <td>0.000</td>\n",
              "      <td>0.000</td>\n",
              "      <td>0.000</td>\n",
              "      <td>0.000</td>\n",
              "      <td>0.000</td>\n",
              "      <td>0.000</td>\n",
              "      <td>CAF</td>\n",
              "      <td>1993-08-08</td>\n",
              "      <td>17918</td>\n",
              "      <td>1993-08-08</td>\n",
              "      <td>Guinea</td>\n",
              "      <td>Sierra Leone</td>\n",
              "      <td>1</td>\n",
              "      <td>0</td>\n",
              "      <td>Friendly</td>\n",
              "      <td>Conakry</td>\n",
              "      <td>Guinea</td>\n",
              "      <td>False</td>\n",
              "    </tr>\n",
              "  </tbody>\n",
              "</table>\n",
              "</div>"
            ],
            "text/plain": [
              "   Unnamed: 0  Unnamed: 0_x  rank  ...     city   country  neutral\n",
              "0           0             7     8  ...   Maceió    Brazil    False\n",
              "1           1            34    35  ...    Quito   Ecuador    False\n",
              "2           2            49    50  ...   Harare  Zimbabwe    False\n",
              "3           3            58    59  ...   La Paz   Bolivia    False\n",
              "4           4            64    65  ...  Conakry    Guinea    False\n",
              "\n",
              "[5 rows x 28 columns]"
            ]
          },
          "metadata": {
            "tags": []
          },
          "execution_count": 41
        }
      ]
    },
    {
      "cell_type": "code",
      "metadata": {
        "id": "E4Q_XfygrG7r",
        "colab_type": "code",
        "outputId": "e0694aeb-8423-4b53-dbfa-ff429c902d8d",
        "colab": {
          "base_uri": "https://localhost:8080/",
          "height": 230
        }
      },
      "source": [
        "df_fifa.tail(3)"
      ],
      "execution_count": 42,
      "outputs": [
        {
          "output_type": "execute_result",
          "data": {
            "text/html": [
              "<div>\n",
              "<style scoped>\n",
              "    .dataframe tbody tr th:only-of-type {\n",
              "        vertical-align: middle;\n",
              "    }\n",
              "\n",
              "    .dataframe tbody tr th {\n",
              "        vertical-align: top;\n",
              "    }\n",
              "\n",
              "    .dataframe thead th {\n",
              "        text-align: right;\n",
              "    }\n",
              "</style>\n",
              "<table border=\"1\" class=\"dataframe\">\n",
              "  <thead>\n",
              "    <tr style=\"text-align: right;\">\n",
              "      <th></th>\n",
              "      <th>Unnamed: 0</th>\n",
              "      <th>Unnamed: 0_x</th>\n",
              "      <th>rank</th>\n",
              "      <th>country_full</th>\n",
              "      <th>country_abrv</th>\n",
              "      <th>total_points</th>\n",
              "      <th>previous_points</th>\n",
              "      <th>rank_change</th>\n",
              "      <th>cur_year_avg</th>\n",
              "      <th>cur_year_avg_weighted</th>\n",
              "      <th>last_year_avg</th>\n",
              "      <th>last_year_avg_weighted</th>\n",
              "      <th>two_year_ago_avg</th>\n",
              "      <th>two_year_ago_weighted</th>\n",
              "      <th>three_year_ago_avg</th>\n",
              "      <th>three_year_ago_weighted</th>\n",
              "      <th>confederation</th>\n",
              "      <th>rank_date</th>\n",
              "      <th>Unnamed: 0_y</th>\n",
              "      <th>date</th>\n",
              "      <th>home_team</th>\n",
              "      <th>away_team</th>\n",
              "      <th>home_score</th>\n",
              "      <th>away_score</th>\n",
              "      <th>tournament</th>\n",
              "      <th>city</th>\n",
              "      <th>country</th>\n",
              "      <th>neutral</th>\n",
              "    </tr>\n",
              "  </thead>\n",
              "  <tbody>\n",
              "    <tr>\n",
              "      <th>947</th>\n",
              "      <td>947</td>\n",
              "      <td>57603</td>\n",
              "      <td>22</td>\n",
              "      <td>Iceland</td>\n",
              "      <td>ISL</td>\n",
              "      <td>908.010</td>\n",
              "      <td>930</td>\n",
              "      <td>0</td>\n",
              "      <td>438.640</td>\n",
              "      <td>438.640</td>\n",
              "      <td>564.250</td>\n",
              "      <td>282.130</td>\n",
              "      <td>302.020</td>\n",
              "      <td>90.610</td>\n",
              "      <td>483.190</td>\n",
              "      <td>96.640</td>\n",
              "      <td>UEFA</td>\n",
              "      <td>2018-06-07</td>\n",
              "      <td>39824</td>\n",
              "      <td>2018-06-07</td>\n",
              "      <td>Iceland</td>\n",
              "      <td>Ghana</td>\n",
              "      <td>2</td>\n",
              "      <td>2</td>\n",
              "      <td>Friendly</td>\n",
              "      <td>Reykjavík</td>\n",
              "      <td>Iceland</td>\n",
              "      <td>False</td>\n",
              "    </tr>\n",
              "    <tr>\n",
              "      <th>948</th>\n",
              "      <td>948</td>\n",
              "      <td>57607</td>\n",
              "      <td>26</td>\n",
              "      <td>Austria</td>\n",
              "      <td>AUT</td>\n",
              "      <td>844.700</td>\n",
              "      <td>841</td>\n",
              "      <td>0</td>\n",
              "      <td>456.270</td>\n",
              "      <td>456.270</td>\n",
              "      <td>229.280</td>\n",
              "      <td>114.640</td>\n",
              "      <td>503.420</td>\n",
              "      <td>151.020</td>\n",
              "      <td>613.800</td>\n",
              "      <td>122.760</td>\n",
              "      <td>UEFA</td>\n",
              "      <td>2018-06-07</td>\n",
              "      <td>39823</td>\n",
              "      <td>2018-06-07</td>\n",
              "      <td>South Korea</td>\n",
              "      <td>Bolivia</td>\n",
              "      <td>0</td>\n",
              "      <td>0</td>\n",
              "      <td>Friendly</td>\n",
              "      <td>Innsbruck</td>\n",
              "      <td>Austria</td>\n",
              "      <td>True</td>\n",
              "    </tr>\n",
              "    <tr>\n",
              "      <th>949</th>\n",
              "      <td>949</td>\n",
              "      <td>57678</td>\n",
              "      <td>97</td>\n",
              "      <td>India</td>\n",
              "      <td>IND</td>\n",
              "      <td>349.920</td>\n",
              "      <td>354</td>\n",
              "      <td>0</td>\n",
              "      <td>196.240</td>\n",
              "      <td>196.240</td>\n",
              "      <td>222.360</td>\n",
              "      <td>111.180</td>\n",
              "      <td>85.000</td>\n",
              "      <td>25.500</td>\n",
              "      <td>85.000</td>\n",
              "      <td>17.000</td>\n",
              "      <td>AFC</td>\n",
              "      <td>2018-06-07</td>\n",
              "      <td>39826</td>\n",
              "      <td>2018-06-07</td>\n",
              "      <td>India</td>\n",
              "      <td>New Zealand</td>\n",
              "      <td>1</td>\n",
              "      <td>2</td>\n",
              "      <td>Intercontinental Cup</td>\n",
              "      <td>Mumbai</td>\n",
              "      <td>India</td>\n",
              "      <td>False</td>\n",
              "    </tr>\n",
              "  </tbody>\n",
              "</table>\n",
              "</div>"
            ],
            "text/plain": [
              "     Unnamed: 0  Unnamed: 0_x  rank  ...       city  country  neutral\n",
              "947         947         57603    22  ...  Reykjavík  Iceland    False\n",
              "948         948         57607    26  ...  Innsbruck  Austria     True\n",
              "949         949         57678    97  ...     Mumbai    India    False\n",
              "\n",
              "[3 rows x 28 columns]"
            ]
          },
          "metadata": {
            "tags": []
          },
          "execution_count": 42
        }
      ]
    },
    {
      "cell_type": "code",
      "metadata": {
        "id": "vez8AwnkrLZ8",
        "colab_type": "code",
        "outputId": "38677dc2-80ad-4faa-e3b3-6a7d8ec42f8b",
        "colab": {
          "base_uri": "https://localhost:8080/",
          "height": 35
        }
      },
      "source": [
        "#size\n",
        "print('The dataset has ' + str(df_fifa.shape[0]) + ' rows ' + str(df_fifa.shape[1]) + ' columns')"
      ],
      "execution_count": 43,
      "outputs": [
        {
          "output_type": "stream",
          "text": [
            "The dataset has 950 rows 28 columns\n"
          ],
          "name": "stdout"
        }
      ]
    },
    {
      "cell_type": "code",
      "metadata": {
        "id": "GFwg6qKzrzfQ",
        "colab_type": "code",
        "outputId": "d2478a12-8b2b-47d7-e3ff-c9f83a96abe7",
        "colab": {
          "base_uri": "https://localhost:8080/",
          "height": 520
        }
      },
      "source": [
        "df_fifa.nunique()"
      ],
      "execution_count": 44,
      "outputs": [
        {
          "output_type": "execute_result",
          "data": {
            "text/plain": [
              "Unnamed: 0                 950\n",
              "Unnamed: 0_x               854\n",
              "rank                       177\n",
              "country_full               156\n",
              "country_abrv               156\n",
              "total_points                74\n",
              "previous_points            532\n",
              "rank_change                 37\n",
              "cur_year_avg                71\n",
              "cur_year_avg_weighted       71\n",
              "last_year_avg               71\n",
              "last_year_avg_weighted      71\n",
              "two_year_ago_avg            69\n",
              "two_year_ago_weighted       69\n",
              "three_year_ago_avg          71\n",
              "three_year_ago_weighted     70\n",
              "confederation                6\n",
              "rank_date                  163\n",
              "Unnamed: 0_y               950\n",
              "date                       163\n",
              "home_team                  189\n",
              "away_team                  196\n",
              "home_score                  14\n",
              "away_score                  11\n",
              "tournament                  36\n",
              "city                       406\n",
              "country                    156\n",
              "neutral                      2\n",
              "dtype: int64"
            ]
          },
          "metadata": {
            "tags": []
          },
          "execution_count": 44
        }
      ]
    },
    {
      "cell_type": "code",
      "metadata": {
        "id": "YGLarDLKsdhu",
        "colab_type": "code",
        "outputId": "7c421cd9-3e91-401a-803f-0199dbebc29d",
        "colab": {
          "base_uri": "https://localhost:8080/",
          "height": 624
        }
      },
      "source": [
        "df_fifa.info()"
      ],
      "execution_count": 45,
      "outputs": [
        {
          "output_type": "stream",
          "text": [
            "<class 'pandas.core.frame.DataFrame'>\n",
            "RangeIndex: 950 entries, 0 to 949\n",
            "Data columns (total 28 columns):\n",
            " #   Column                   Non-Null Count  Dtype  \n",
            "---  ------                   --------------  -----  \n",
            " 0   Unnamed: 0               950 non-null    int64  \n",
            " 1   Unnamed: 0_x             950 non-null    int64  \n",
            " 2   rank                     950 non-null    int64  \n",
            " 3   country_full             950 non-null    object \n",
            " 4   country_abrv             950 non-null    object \n",
            " 5   total_points             950 non-null    float64\n",
            " 6   previous_points          950 non-null    int64  \n",
            " 7   rank_change              950 non-null    int64  \n",
            " 8   cur_year_avg             950 non-null    float64\n",
            " 9   cur_year_avg_weighted    950 non-null    float64\n",
            " 10  last_year_avg            950 non-null    float64\n",
            " 11  last_year_avg_weighted   950 non-null    float64\n",
            " 12  two_year_ago_avg         950 non-null    float64\n",
            " 13  two_year_ago_weighted    950 non-null    float64\n",
            " 14  three_year_ago_avg       950 non-null    float64\n",
            " 15  three_year_ago_weighted  950 non-null    float64\n",
            " 16  confederation            950 non-null    object \n",
            " 17  rank_date                950 non-null    object \n",
            " 18  Unnamed: 0_y             950 non-null    int64  \n",
            " 19  date                     950 non-null    object \n",
            " 20  home_team                950 non-null    object \n",
            " 21  away_team                950 non-null    object \n",
            " 22  home_score               950 non-null    int64  \n",
            " 23  away_score               950 non-null    int64  \n",
            " 24  tournament               950 non-null    object \n",
            " 25  city                     950 non-null    object \n",
            " 26  country                  950 non-null    object \n",
            " 27  neutral                  950 non-null    bool   \n",
            "dtypes: bool(1), float64(9), int64(8), object(10)\n",
            "memory usage: 201.4+ KB\n"
          ],
          "name": "stdout"
        }
      ]
    },
    {
      "cell_type": "markdown",
      "metadata": {
        "id": "rNW7CeI7tNJp",
        "colab_type": "text"
      },
      "source": [
        "# Data cleaning "
      ]
    },
    {
      "cell_type": "code",
      "metadata": {
        "id": "ZykTr66ptRFL",
        "colab_type": "code",
        "colab": {}
      },
      "source": [
        "#droping uncesaary columns \n",
        "fifa_df = df_fifa.drop(['Unnamed: 0', 'Unnamed: 0_x', 'country_abrv', 'Unnamed: 0_y'], axis=1)"
      ],
      "execution_count": 0,
      "outputs": []
    },
    {
      "cell_type": "code",
      "metadata": {
        "id": "YScVgYtevDmU",
        "colab_type": "code",
        "outputId": "c08baf3d-67ee-4f07-e009-0e0bc0a902f0",
        "colab": {
          "base_uri": "https://localhost:8080/",
          "height": 35
        }
      },
      "source": [
        "#checking for duplicates \n",
        "fifa_df.duplicated().any()"
      ],
      "execution_count": 47,
      "outputs": [
        {
          "output_type": "execute_result",
          "data": {
            "text/plain": [
              "False"
            ]
          },
          "metadata": {
            "tags": []
          },
          "execution_count": 47
        }
      ]
    },
    {
      "cell_type": "code",
      "metadata": {
        "id": "QlfWLJF8vScZ",
        "colab_type": "code",
        "outputId": "2e70e15f-8d3a-499c-a3d3-bb8c1d262f31",
        "colab": {
          "base_uri": "https://localhost:8080/",
          "height": 451
        }
      },
      "source": [
        "fifa_df.isnull().any()"
      ],
      "execution_count": 48,
      "outputs": [
        {
          "output_type": "execute_result",
          "data": {
            "text/plain": [
              "rank                       False\n",
              "country_full               False\n",
              "total_points               False\n",
              "previous_points            False\n",
              "rank_change                False\n",
              "cur_year_avg               False\n",
              "cur_year_avg_weighted      False\n",
              "last_year_avg              False\n",
              "last_year_avg_weighted     False\n",
              "two_year_ago_avg           False\n",
              "two_year_ago_weighted      False\n",
              "three_year_ago_avg         False\n",
              "three_year_ago_weighted    False\n",
              "confederation              False\n",
              "rank_date                  False\n",
              "date                       False\n",
              "home_team                  False\n",
              "away_team                  False\n",
              "home_score                 False\n",
              "away_score                 False\n",
              "tournament                 False\n",
              "city                       False\n",
              "country                    False\n",
              "neutral                    False\n",
              "dtype: bool"
            ]
          },
          "metadata": {
            "tags": []
          },
          "execution_count": 48
        }
      ]
    },
    {
      "cell_type": "code",
      "metadata": {
        "id": "v69B7rDMxK23",
        "colab_type": "code",
        "colab": {}
      },
      "source": [
        "#saving our cleaned dataset \n",
        "fifa_df.to_csv('cleaned_fifa_final.csv')"
      ],
      "execution_count": 0,
      "outputs": []
    },
    {
      "cell_type": "code",
      "metadata": {
        "id": "S03xGnYfqSrt",
        "colab_type": "code",
        "colab": {}
      },
      "source": [
        "fifa_df = pd.read_csv('cleaned_fifa_final.csv')"
      ],
      "execution_count": 0,
      "outputs": []
    },
    {
      "cell_type": "markdown",
      "metadata": {
        "id": "1g8rBsLS5GlC",
        "colab_type": "text"
      },
      "source": [
        "# Exploratory Data Anlysis "
      ]
    },
    {
      "cell_type": "markdown",
      "metadata": {
        "id": "rxwpbIV451ad",
        "colab_type": "text"
      },
      "source": [
        "### Univariate analysis "
      ]
    },
    {
      "cell_type": "code",
      "metadata": {
        "id": "t7hmqx2255FN",
        "colab_type": "code",
        "outputId": "6dab5266-ddc9-4557-d16a-8757aea92428",
        "colab": {
          "base_uri": "https://localhost:8080/",
          "height": 230
        }
      },
      "source": [
        "fifa_df.head(3)"
      ],
      "execution_count": 53,
      "outputs": [
        {
          "output_type": "execute_result",
          "data": {
            "text/html": [
              "<div>\n",
              "<style scoped>\n",
              "    .dataframe tbody tr th:only-of-type {\n",
              "        vertical-align: middle;\n",
              "    }\n",
              "\n",
              "    .dataframe tbody tr th {\n",
              "        vertical-align: top;\n",
              "    }\n",
              "\n",
              "    .dataframe thead th {\n",
              "        text-align: right;\n",
              "    }\n",
              "</style>\n",
              "<table border=\"1\" class=\"dataframe\">\n",
              "  <thead>\n",
              "    <tr style=\"text-align: right;\">\n",
              "      <th></th>\n",
              "      <th>rank</th>\n",
              "      <th>country_full</th>\n",
              "      <th>total_points</th>\n",
              "      <th>previous_points</th>\n",
              "      <th>rank_change</th>\n",
              "      <th>cur_year_avg</th>\n",
              "      <th>cur_year_avg_weighted</th>\n",
              "      <th>last_year_avg</th>\n",
              "      <th>last_year_avg_weighted</th>\n",
              "      <th>two_year_ago_avg</th>\n",
              "      <th>two_year_ago_weighted</th>\n",
              "      <th>three_year_ago_avg</th>\n",
              "      <th>three_year_ago_weighted</th>\n",
              "      <th>confederation</th>\n",
              "      <th>rank_date</th>\n",
              "      <th>date</th>\n",
              "      <th>home_team</th>\n",
              "      <th>away_team</th>\n",
              "      <th>home_score</th>\n",
              "      <th>away_score</th>\n",
              "      <th>tournament</th>\n",
              "      <th>city</th>\n",
              "      <th>country</th>\n",
              "      <th>neutral</th>\n",
              "    </tr>\n",
              "  </thead>\n",
              "  <tbody>\n",
              "    <tr>\n",
              "      <th>0</th>\n",
              "      <td>8</td>\n",
              "      <td>Brazil</td>\n",
              "      <td>0.000</td>\n",
              "      <td>55</td>\n",
              "      <td>-5</td>\n",
              "      <td>0.000</td>\n",
              "      <td>0.000</td>\n",
              "      <td>0.000</td>\n",
              "      <td>0.000</td>\n",
              "      <td>0.000</td>\n",
              "      <td>0.000</td>\n",
              "      <td>0.000</td>\n",
              "      <td>0.000</td>\n",
              "      <td>CONMEBOL</td>\n",
              "      <td>1993-08-08</td>\n",
              "      <td>1993-08-08</td>\n",
              "      <td>Brazil</td>\n",
              "      <td>Mexico</td>\n",
              "      <td>1</td>\n",
              "      <td>1</td>\n",
              "      <td>Friendly</td>\n",
              "      <td>Maceió</td>\n",
              "      <td>Brazil</td>\n",
              "      <td>False</td>\n",
              "    </tr>\n",
              "    <tr>\n",
              "      <th>1</th>\n",
              "      <td>35</td>\n",
              "      <td>Ecuador</td>\n",
              "      <td>0.000</td>\n",
              "      <td>23</td>\n",
              "      <td>30</td>\n",
              "      <td>0.000</td>\n",
              "      <td>0.000</td>\n",
              "      <td>0.000</td>\n",
              "      <td>0.000</td>\n",
              "      <td>0.000</td>\n",
              "      <td>0.000</td>\n",
              "      <td>0.000</td>\n",
              "      <td>0.000</td>\n",
              "      <td>CONMEBOL</td>\n",
              "      <td>1993-08-08</td>\n",
              "      <td>1993-08-08</td>\n",
              "      <td>Ecuador</td>\n",
              "      <td>Venezuela</td>\n",
              "      <td>5</td>\n",
              "      <td>0</td>\n",
              "      <td>FIFA World Cup qualification</td>\n",
              "      <td>Quito</td>\n",
              "      <td>Ecuador</td>\n",
              "      <td>False</td>\n",
              "    </tr>\n",
              "    <tr>\n",
              "      <th>2</th>\n",
              "      <td>50</td>\n",
              "      <td>Zimbabwe</td>\n",
              "      <td>0.000</td>\n",
              "      <td>27</td>\n",
              "      <td>4</td>\n",
              "      <td>0.000</td>\n",
              "      <td>0.000</td>\n",
              "      <td>0.000</td>\n",
              "      <td>0.000</td>\n",
              "      <td>0.000</td>\n",
              "      <td>0.000</td>\n",
              "      <td>0.000</td>\n",
              "      <td>0.000</td>\n",
              "      <td>CAF</td>\n",
              "      <td>1993-08-08</td>\n",
              "      <td>1993-08-08</td>\n",
              "      <td>Zimbabwe</td>\n",
              "      <td>Eswatini</td>\n",
              "      <td>2</td>\n",
              "      <td>0</td>\n",
              "      <td>Friendly</td>\n",
              "      <td>Harare</td>\n",
              "      <td>Zimbabwe</td>\n",
              "      <td>False</td>\n",
              "    </tr>\n",
              "  </tbody>\n",
              "</table>\n",
              "</div>"
            ],
            "text/plain": [
              "   rank country_full  total_points  ...    city   country  neutral\n",
              "0     8       Brazil         0.000  ...  Maceió    Brazil    False\n",
              "1    35      Ecuador         0.000  ...   Quito   Ecuador    False\n",
              "2    50     Zimbabwe         0.000  ...  Harare  Zimbabwe    False\n",
              "\n",
              "[3 rows x 24 columns]"
            ]
          },
          "metadata": {
            "tags": []
          },
          "execution_count": 53
        }
      ]
    },
    {
      "cell_type": "markdown",
      "metadata": {
        "id": "sCF49NYR9Xji",
        "colab_type": "text"
      },
      "source": [
        "Categorical variables "
      ]
    },
    {
      "cell_type": "code",
      "metadata": {
        "id": "aRCf0aJG9aK1",
        "colab_type": "code",
        "colab": {}
      },
      "source": [
        "categorical_varr = fifa_df[['country', 'total_points', 'confederation', 'tournament', 'neutral']]"
      ],
      "execution_count": 0,
      "outputs": []
    },
    {
      "cell_type": "code",
      "metadata": {
        "id": "vvX7O2_F9z3z",
        "colab_type": "code",
        "outputId": "709cfcee-2726-45f1-951e-254001b103e3",
        "colab": {
          "base_uri": "https://localhost:8080/",
          "height": 1000
        }
      },
      "source": [
        "for i in categorical_varr:\n",
        "  print(fifa_df[i].value_counts())\n",
        "  print('***********************')"
      ],
      "execution_count": 55,
      "outputs": [
        {
          "output_type": "stream",
          "text": [
            "France        24\n",
            "England       23\n",
            "Portugal      19\n",
            "Qatar         19\n",
            "Cyprus        18\n",
            "              ..\n",
            "Mongolia       1\n",
            "Seychelles     1\n",
            "Bhutan         1\n",
            "Pakistan       1\n",
            "Rwanda         1\n",
            "Name: country, Length: 156, dtype: int64\n",
            "***********************\n",
            "0.000       854\n",
            "1050.840      8\n",
            "260.390       4\n",
            "741.500       4\n",
            "477.420       3\n",
            "           ... \n",
            "765.390       1\n",
            "453.280       1\n",
            "1053.990      1\n",
            "93.940        1\n",
            "1263.290      1\n",
            "Name: total_points, Length: 74, dtype: int64\n",
            "***********************\n",
            "UEFA        482\n",
            "AFC         219\n",
            "CAF         106\n",
            "CONMEBOL     71\n",
            "CONCACAF     63\n",
            "OFC           9\n",
            "Name: confederation, dtype: int64\n",
            "***********************\n",
            "Friendly                                      600\n",
            "FIFA World Cup qualification                  153\n",
            "UEFA Euro qualification                        41\n",
            "AFC Asian Cup qualification                    37\n",
            "CONIFA World Football Cup                      15\n",
            "Cyprus International Tournament                 8\n",
            "Gulf Cup                                        7\n",
            "AFF Championship                                7\n",
            "AFC Asian Cup                                   6\n",
            "Copa América                                    6\n",
            "CECAFA Cup                                      6\n",
            "CFU Caribbean Cup                               5\n",
            "African Nations Championship                    5\n",
            "Gold Cup qualification                          5\n",
            "African Cup of Nations qualification            5\n",
            "SAFF Cup                                        4\n",
            "Windward Islands Tournament                     4\n",
            "African Cup of Nations                          4\n",
            "King's Cup                                      3\n",
            "Viva World Cup                                  3\n",
            "Malta International Tournament                  3\n",
            "United Arab Emirates Friendship Tournament      3\n",
            "UNCAF Cup                                       2\n",
            "Prime Minister's Cup                            2\n",
            "Oceania Nations Cup                             2\n",
            "Confederations Cup                              2\n",
            "EAFF Championship                               2\n",
            "Merdeka Tournament                              2\n",
            "UAFA Cup                                        1\n",
            "COSAFA Cup                                      1\n",
            "Millennium Cup                                  1\n",
            "Intercontinental Cup                            1\n",
            "Nehru Cup                                       1\n",
            "AFC Challenge Cup qualification                 1\n",
            "CFU Caribbean Cup qualification                 1\n",
            "Copa del Pacífico                               1\n",
            "Name: tournament, dtype: int64\n",
            "***********************\n",
            "False    807\n",
            "True     143\n",
            "Name: neutral, dtype: int64\n",
            "***********************\n"
          ],
          "name": "stdout"
        }
      ]
    },
    {
      "cell_type": "markdown",
      "metadata": {
        "id": "qPOP70gSk_yU",
        "colab_type": "text"
      },
      "source": [
        "### Bar plots "
      ]
    },
    {
      "cell_type": "code",
      "metadata": {
        "id": "in3Vwbxi-fYb",
        "colab_type": "code",
        "outputId": "0f12cef6-717b-4b91-9ebc-7dcf123f91b6",
        "colab": {
          "base_uri": "https://localhost:8080/",
          "height": 315
        }
      },
      "source": [
        "#Confederation bar plot \n",
        "sns.countplot(fifa_df['confederation'], order= fifa_df['confederation'].value_counts().index)\n",
        "plt.title('Bar Plot of Confederations')\n",
        "plt.xlabel('Confederation', fontsize=12)\n",
        "plt.xticks(rotation = 0)"
      ],
      "execution_count": 56,
      "outputs": [
        {
          "output_type": "execute_result",
          "data": {
            "text/plain": [
              "(array([0, 1, 2, 3, 4, 5]), <a list of 6 Text major ticklabel objects>)"
            ]
          },
          "metadata": {
            "tags": []
          },
          "execution_count": 56
        },
        {
          "output_type": "display_data",
          "data": {
            "image/png": "[encoded data removed]",
            "text/plain": [
              "<Figure size 432x288 with 1 Axes>"
            ]
          },
          "metadata": {
            "tags": [],
            "needs_background": "light"
          }
        }
      ]
    },
    {
      "cell_type": "code",
      "metadata": {
        "id": "DmpeOzHXAVh3",
        "colab_type": "code",
        "outputId": "773c4e0b-8901-4954-de00-2f2559cc5df5",
        "colab": {
          "base_uri": "https://localhost:8080/",
          "height": 469
        }
      },
      "source": [
        "#Tournament bar plot\n",
        "#However, since the tournaments are too many we will compare the total no of time the first 10 tornaments occur\n",
        "sns.countplot(fifa_df['tournament'], order= fifa_df['tournament'].value_counts().iloc[:10].index)\n",
        "plt.xticks(rotation = 90)\n",
        "plt.xlabel('Tournament', fontsize=12)\n",
        "plt.title('Frequency of different types of Tournaments')"
      ],
      "execution_count": 57,
      "outputs": [
        {
          "output_type": "execute_result",
          "data": {
            "text/plain": [
              "Text(0.5, 1.0, 'Frequency of different types of Tournaments')"
            ]
          },
          "metadata": {
            "tags": []
          },
          "execution_count": 57
        },
        {
          "output_type": "display_data",
          "data": {
            "image/png": "[encoded data removed]",
            "text/plain": [
              "<Figure size 432x288 with 1 Axes>"
            ]
          },
          "metadata": {
            "tags": [],
            "needs_background": "light"
          }
        }
      ]
    },
    {
      "cell_type": "code",
      "metadata": {
        "id": "PaQShq7VCQ0H",
        "colab_type": "code",
        "colab": {
          "base_uri": "https://localhost:8080/",
          "height": 413
        },
        "outputId": "88289003-b39e-4088-dc94-6c96a5da0558"
      },
      "source": [
        "#Country bar plot \n",
        "#However, we look at the number of participation of the first 20 countries since the countries are too many\n",
        "sns.countplot(fifa_df['country'], order= fifa_df['country'].value_counts().iloc[:20].index)\n",
        "plt.xticks(rotation = 90)\n",
        "plt.xlabel('Country', fontsize=12)\n",
        "plt.title('Frequency of different Countries')"
      ],
      "execution_count": 58,
      "outputs": [
        {
          "output_type": "execute_result",
          "data": {
            "text/plain": [
              "Text(0.5, 1.0, 'Frequency of different Countries')"
            ]
          },
          "metadata": {
            "tags": []
          },
          "execution_count": 58
        },
        {
          "output_type": "display_data",
          "data": {
            "image/png": "[encoded data removed]",
            "text/plain": [
              "<Figure size 432x288 with 1 Axes>"
            ]
          },
          "metadata": {
            "tags": [],
            "needs_background": "light"
          }
        }
      ]
    },
    {
      "cell_type": "code",
      "metadata": {
        "id": "WV7alXNnm4dW",
        "colab_type": "code",
        "colab": {
          "base_uri": "https://localhost:8080/",
          "height": 315
        },
        "outputId": "7142befd-9ea7-44b0-86b9-a8ab4f8b8d66"
      },
      "source": [
        "#Bar plot for the neutral matches \n",
        "sns.countplot(fifa_df['neutral'], order= fifa_df['neutral'].value_counts().index)\n",
        "plt.title('Bar Plot of neutral matches')\n",
        "plt.xlabel('How neutral were the matches', fontsize=12)\n",
        "plt.xticks(rotation = 0)"
      ],
      "execution_count": 59,
      "outputs": [
        {
          "output_type": "execute_result",
          "data": {
            "text/plain": [
              "(array([0, 1]), <a list of 2 Text major ticklabel objects>)"
            ]
          },
          "metadata": {
            "tags": []
          },
          "execution_count": 59
        },
        {
          "output_type": "display_data",
          "data": {
            "image/png": "[encoded data removed]",
            "text/plain": [
              "<Figure size 432x288 with 1 Axes>"
            ]
          },
          "metadata": {
            "tags": [],
            "needs_background": "light"
          }
        }
      ]
    },
    {
      "cell_type": "markdown",
      "metadata": {
        "id": "qRJImMKOo5a5",
        "colab_type": "text"
      },
      "source": [
        "### Pie Charts "
      ]
    },
    {
      "cell_type": "code",
      "metadata": {
        "id": "wc9ruoR4o98x",
        "colab_type": "code",
        "colab": {
          "base_uri": "https://localhost:8080/",
          "height": 283
        },
        "outputId": "26e27d90-74ea-4145-a407-ae56a5064a54"
      },
      "source": [
        "# % of confedaration in relation to percentage frequency\n",
        "confed = fifa_df['confederation'].groupby(fifa_df['confederation']).count().sort_values(ascending=False)\n",
        "count = fifa_df['confederation'].unique()\n",
        "\n",
        "plt.pie(confed, labels= count, autopct='%1.1f%%')\n",
        "plt.axis('equal')\n",
        "plt.title('% of Confederations')"
      ],
      "execution_count": 60,
      "outputs": [
        {
          "output_type": "execute_result",
          "data": {
            "text/plain": [
              "Text(0.5, 1.0, '% of Confederations')"
            ]
          },
          "metadata": {
            "tags": []
          },
          "execution_count": 60
        },
        {
          "output_type": "display_data",
          "data": {
            "image/png": "[encoded data removed]",
            "text/plain": [
              "<Figure size 432x288 with 1 Axes>"
            ]
          },
          "metadata": {
            "tags": []
          }
        }
      ]
    },
    {
      "cell_type": "code",
      "metadata": {
        "id": "6RBUYFrLu72R",
        "colab_type": "code",
        "colab": {
          "base_uri": "https://localhost:8080/",
          "height": 264
        },
        "outputId": "58c47e2f-0260-4b96-9e5b-f6bbb511cfc8"
      },
      "source": [
        "# % of True to False matches \n",
        "matches = fifa_df['neutral'].groupby(fifa_df['neutral']).count().sort_values(ascending=False)\n",
        "total = fifa_df['neutral'].unique()\n",
        "\n",
        "explode = (0.2,0)\n",
        "\n",
        "plt.pie(matches, labels= total,explode= explode, autopct= '%1.1f%%', startangle= 140,shadow = True)\n",
        "plt.axis('equal')\n",
        "plt.title('% of neutrality of matches')\n",
        "plt.show()"
      ],
      "execution_count": 61,
      "outputs": [
        {
          "output_type": "display_data",
          "data": {
            "image/png": "[encoded data removed]",
            "text/plain": [
              "<Figure size 432x288 with 1 Axes>"
            ]
          },
          "metadata": {
            "tags": []
          }
        }
      ]
    },
    {
      "cell_type": "markdown",
      "metadata": {
        "id": "jMy9C5aT7PTa",
        "colab_type": "text"
      },
      "source": [
        "# Bivariate analysis "
      ]
    },
    {
      "cell_type": "markdown",
      "metadata": {
        "id": "Z8P0UnOX7VZF",
        "colab_type": "text"
      },
      "source": [
        "### Scatter plots "
      ]
    },
    {
      "cell_type": "code",
      "metadata": {
        "id": "AQY5dg8N7bat",
        "colab_type": "code",
        "colab": {
          "base_uri": "https://localhost:8080/",
          "height": 201
        },
        "outputId": "464c42d6-3c2b-48c6-ef03-cd8a99ade0aa"
      },
      "source": [
        "# Created a New Dataset\n",
        "countries = ['France','England','Portugal','Qatar','Cyprus','Austria','South Africa']\n",
        "tournament = []\n",
        "\n",
        "new_data_dict = {}\n",
        "for i in countries:\n",
        "    types = []\n",
        "    for j in tournament:\n",
        "        types.append(fifa_df[j][fifa_df['tournament'] == i].sum())\n",
        "    new_data_dict[i] = types\n",
        "fp_new = pd.DataFrame(new_data_dict)\n",
        "\n",
        "fp_new.head()\n",
        "fp_new['tournament'] = np.arange(tournament)"
      ],
      "execution_count": 65,
      "outputs": [
        {
          "output_type": "error",
          "ename": "TypeError",
          "evalue": "ignored",
          "traceback": [
            "\u001b[0;31m---------------------------------------------------------------------------\u001b[0m",
            "\u001b[0;31mTypeError\u001b[0m                                 Traceback (most recent call last)",
            "\u001b[0;32m<ipython-input-65-9a338661d288>\u001b[0m in \u001b[0;36m<module>\u001b[0;34m()\u001b[0m\n\u001b[1;32m     12\u001b[0m \u001b[0;34m\u001b[0m\u001b[0m\n\u001b[1;32m     13\u001b[0m \u001b[0mfp_new\u001b[0m\u001b[0;34m.\u001b[0m\u001b[0mhead\u001b[0m\u001b[0;34m(\u001b[0m\u001b[0;34m)\u001b[0m\u001b[0;34m\u001b[0m\u001b[0;34m\u001b[0m\u001b[0m\n\u001b[0;32m---> 14\u001b[0;31m \u001b[0mfp_new\u001b[0m\u001b[0;34m[\u001b[0m\u001b[0;34m'tournament'\u001b[0m\u001b[0;34m]\u001b[0m \u001b[0;34m=\u001b[0m \u001b[0mnp\u001b[0m\u001b[0;34m.\u001b[0m\u001b[0marange\u001b[0m\u001b[0;34m(\u001b[0m\u001b[0mtournament\u001b[0m\u001b[0;34m)\u001b[0m\u001b[0;34m\u001b[0m\u001b[0;34m\u001b[0m\u001b[0m\n\u001b[0m",
            "\u001b[0;31mTypeError\u001b[0m: unsupported operand type(s) for -: 'list' and 'int'"
          ]
        }
      ]
    },
    {
      "cell_type": "markdown",
      "metadata": {
        "id": "VRvtUbf986Na",
        "colab_type": "text"
      },
      "source": [
        "# Polynomial regression "
      ]
    },
    {
      "cell_type": "code",
      "metadata": {
        "id": "41LX_fJUEGi9",
        "colab_type": "code",
        "colab": {
          "base_uri": "https://localhost:8080/",
          "height": 134
        },
        "outputId": "79a6d15f-306c-4d51-91b5-48f0571fe4fa"
      },
      "source": [
        "dataset.head(1)"
      ],
      "execution_count": 88,
      "outputs": [
        {
          "output_type": "execute_result",
          "data": {
            "text/html": [
              "<div>\n",
              "<style scoped>\n",
              "    .dataframe tbody tr th:only-of-type {\n",
              "        vertical-align: middle;\n",
              "    }\n",
              "\n",
              "    .dataframe tbody tr th {\n",
              "        vertical-align: top;\n",
              "    }\n",
              "\n",
              "    .dataframe thead th {\n",
              "        text-align: right;\n",
              "    }\n",
              "</style>\n",
              "<table border=\"1\" class=\"dataframe\">\n",
              "  <thead>\n",
              "    <tr style=\"text-align: right;\">\n",
              "      <th></th>\n",
              "      <th>Unnamed: 0</th>\n",
              "      <th>rank</th>\n",
              "      <th>country_full</th>\n",
              "      <th>total_points</th>\n",
              "      <th>previous_points</th>\n",
              "      <th>rank_change</th>\n",
              "      <th>cur_year_avg</th>\n",
              "      <th>cur_year_avg_weighted</th>\n",
              "      <th>last_year_avg</th>\n",
              "      <th>last_year_avg_weighted</th>\n",
              "      <th>two_year_ago_avg</th>\n",
              "      <th>two_year_ago_weighted</th>\n",
              "      <th>three_year_ago_avg</th>\n",
              "      <th>three_year_ago_weighted</th>\n",
              "      <th>confederation</th>\n",
              "      <th>rank_date</th>\n",
              "      <th>date</th>\n",
              "      <th>home_team</th>\n",
              "      <th>away_team</th>\n",
              "      <th>home_score</th>\n",
              "      <th>away_score</th>\n",
              "      <th>tournament</th>\n",
              "      <th>city</th>\n",
              "      <th>country</th>\n",
              "      <th>neutral</th>\n",
              "    </tr>\n",
              "  </thead>\n",
              "  <tbody>\n",
              "    <tr>\n",
              "      <th>0</th>\n",
              "      <td>0</td>\n",
              "      <td>8</td>\n",
              "      <td>Brazil</td>\n",
              "      <td>0.000</td>\n",
              "      <td>55</td>\n",
              "      <td>-5</td>\n",
              "      <td>0.000</td>\n",
              "      <td>0.000</td>\n",
              "      <td>0.000</td>\n",
              "      <td>0.000</td>\n",
              "      <td>0.000</td>\n",
              "      <td>0.000</td>\n",
              "      <td>0.000</td>\n",
              "      <td>0.000</td>\n",
              "      <td>CONMEBOL</td>\n",
              "      <td>1993-08-08</td>\n",
              "      <td>1993-08-08</td>\n",
              "      <td>Brazil</td>\n",
              "      <td>Mexico</td>\n",
              "      <td>1</td>\n",
              "      <td>1</td>\n",
              "      <td>Friendly</td>\n",
              "      <td>Maceió</td>\n",
              "      <td>Brazil</td>\n",
              "      <td>False</td>\n",
              "    </tr>\n",
              "  </tbody>\n",
              "</table>\n",
              "</div>"
            ],
            "text/plain": [
              "   Unnamed: 0  rank country_full  ...    city  country  neutral\n",
              "0           0     8       Brazil  ...  Maceió   Brazil    False\n",
              "\n",
              "[1 rows x 25 columns]"
            ]
          },
          "metadata": {
            "tags": []
          },
          "execution_count": 88
        }
      ]
    },
    {
      "cell_type": "code",
      "metadata": {
        "id": "3NthmmLX8_io",
        "colab_type": "code",
        "colab": {
          "base_uri": "https://localhost:8080/",
          "height": 1000
        },
        "outputId": "0d31fc8e-aacd-43b0-c39d-4bb12e232967"
      },
      "source": [
        "from sklearn.preprocessing import PolynomialFeatures\n",
        "from sklearn.model_selection import train_test_split\n",
        "from sklearn.linear_model import LinearRegression\n",
        "dataset = pd.read_csv('cleaned_fifa_final.csv')\n",
        "print(dataset)\n",
        "#getting the columns that we will be using i.e. total points and previous points  \n",
        "X = dataset.iloc[:, 3:4].values\n",
        "Y = dataset.iloc[:, 3].values\n",
        "print(X)\n",
        "print(Y)"
      ],
      "execution_count": 116,
      "outputs": [
        {
          "output_type": "stream",
          "text": [
            "     Unnamed: 0  rank country_full  ...        city   country  neutral\n",
            "0             0     8       Brazil  ...      Maceió    Brazil    False\n",
            "1             1    35      Ecuador  ...       Quito   Ecuador    False\n",
            "2             2    50     Zimbabwe  ...      Harare  Zimbabwe    False\n",
            "3             3    59      Bolivia  ...      La Paz   Bolivia    False\n",
            "4             4    65       Guinea  ...     Conakry    Guinea    False\n",
            "..          ...   ...          ...  ...         ...       ...      ...\n",
            "945         945    12      England  ...  Carshalton   England     True\n",
            "946         946    14      Uruguay  ...  Montevideo   Uruguay    False\n",
            "947         947    22      Iceland  ...   Reykjavík   Iceland    False\n",
            "948         948    26      Austria  ...   Innsbruck   Austria     True\n",
            "949         949    97        India  ...      Mumbai     India    False\n",
            "\n",
            "[950 rows x 25 columns]\n",
            "[[   0.  ]\n",
            " [   0.  ]\n",
            " [   0.  ]\n",
            " [   0.  ]\n",
            " [   0.  ]\n",
            " [   0.  ]\n",
            " [   0.  ]\n",
            " [   0.  ]\n",
            " [   0.  ]\n",
            " [   0.  ]\n",
            " [   0.  ]\n",
            " [   0.  ]\n",
            " [   0.  ]\n",
            " [   0.  ]\n",
            " [   0.  ]\n",
            " [   0.  ]\n",
            " [   0.  ]\n",
            " [   0.  ]\n",
            " [   0.  ]\n",
            " [   0.  ]\n",
            " [   0.  ]\n",
            " [   0.  ]\n",
            " [   0.  ]\n",
            " [   0.  ]\n",
            " [   0.  ]\n",
            " [   0.  ]\n",
            " [   0.  ]\n",
            " [   0.  ]\n",
            " [   0.  ]\n",
            " [   0.  ]\n",
            " [   0.  ]\n",
            " [   0.  ]\n",
            " [   0.  ]\n",
            " [   0.  ]\n",
            " [   0.  ]\n",
            " [   0.  ]\n",
            " [   0.  ]\n",
            " [   0.  ]\n",
            " [   0.  ]\n",
            " [   0.  ]\n",
            " [   0.  ]\n",
            " [   0.  ]\n",
            " [   0.  ]\n",
            " [   0.  ]\n",
            " [   0.  ]\n",
            " [   0.  ]\n",
            " [   0.  ]\n",
            " [   0.  ]\n",
            " [   0.  ]\n",
            " [   0.  ]\n",
            " [   0.  ]\n",
            " [   0.  ]\n",
            " [   0.  ]\n",
            " [   0.  ]\n",
            " [   0.  ]\n",
            " [   0.  ]\n",
            " [   0.  ]\n",
            " [   0.  ]\n",
            " [   0.  ]\n",
            " [   0.  ]\n",
            " [   0.  ]\n",
            " [   0.  ]\n",
            " [   0.  ]\n",
            " [   0.  ]\n",
            " [   0.  ]\n",
            " [   0.  ]\n",
            " [   0.  ]\n",
            " [   0.  ]\n",
            " [   0.  ]\n",
            " [   0.  ]\n",
            " [   0.  ]\n",
            " [   0.  ]\n",
            " [   0.  ]\n",
            " [   0.  ]\n",
            " [   0.  ]\n",
            " [   0.  ]\n",
            " [   0.  ]\n",
            " [   0.  ]\n",
            " [   0.  ]\n",
            " [   0.  ]\n",
            " [   0.  ]\n",
            " [   0.  ]\n",
            " [   0.  ]\n",
            " [   0.  ]\n",
            " [   0.  ]\n",
            " [   0.  ]\n",
            " [   0.  ]\n",
            " [   0.  ]\n",
            " [   0.  ]\n",
            " [   0.  ]\n",
            " [   0.  ]\n",
            " [   0.  ]\n",
            " [   0.  ]\n",
            " [   0.  ]\n",
            " [   0.  ]\n",
            " [   0.  ]\n",
            " [   0.  ]\n",
            " [   0.  ]\n",
            " [   0.  ]\n",
            " [   0.  ]\n",
            " [   0.  ]\n",
            " [   0.  ]\n",
            " [   0.  ]\n",
            " [   0.  ]\n",
            " [   0.  ]\n",
            " [   0.  ]\n",
            " [   0.  ]\n",
            " [   0.  ]\n",
            " [   0.  ]\n",
            " [   0.  ]\n",
            " [   0.  ]\n",
            " [   0.  ]\n",
            " [   0.  ]\n",
            " [   0.  ]\n",
            " [   0.  ]\n",
            " [   0.  ]\n",
            " [   0.  ]\n",
            " [   0.  ]\n",
            " [   0.  ]\n",
            " [   0.  ]\n",
            " [   0.  ]\n",
            " [   0.  ]\n",
            " [   0.  ]\n",
            " [   0.  ]\n",
            " [   0.  ]\n",
            " [   0.  ]\n",
            " [   0.  ]\n",
            " [   0.  ]\n",
            " [   0.  ]\n",
            " [   0.  ]\n",
            " [   0.  ]\n",
            " [   0.  ]\n",
            " [   0.  ]\n",
            " [   0.  ]\n",
            " [   0.  ]\n",
            " [   0.  ]\n",
            " [   0.  ]\n",
            " [   0.  ]\n",
            " [   0.  ]\n",
            " [   0.  ]\n",
            " [   0.  ]\n",
            " [   0.  ]\n",
            " [   0.  ]\n",
            " [   0.  ]\n",
            " [   0.  ]\n",
            " [   0.  ]\n",
            " [   0.  ]\n",
            " [   0.  ]\n",
            " [   0.  ]\n",
            " [   0.  ]\n",
            " [   0.  ]\n",
            " [   0.  ]\n",
            " [   0.  ]\n",
            " [   0.  ]\n",
            " [   0.  ]\n",
            " [   0.  ]\n",
            " [   0.  ]\n",
            " [   0.  ]\n",
            " [   0.  ]\n",
            " [   0.  ]\n",
            " [   0.  ]\n",
            " [   0.  ]\n",
            " [   0.  ]\n",
            " [   0.  ]\n",
            " [   0.  ]\n",
            " [   0.  ]\n",
            " [   0.  ]\n",
            " [   0.  ]\n",
            " [   0.  ]\n",
            " [   0.  ]\n",
            " [   0.  ]\n",
            " [   0.  ]\n",
            " [   0.  ]\n",
            " [   0.  ]\n",
            " [   0.  ]\n",
            " [   0.  ]\n",
            " [   0.  ]\n",
            " [   0.  ]\n",
            " [   0.  ]\n",
            " [   0.  ]\n",
            " [   0.  ]\n",
            " [   0.  ]\n",
            " [   0.  ]\n",
            " [   0.  ]\n",
            " [   0.  ]\n",
            " [   0.  ]\n",
            " [   0.  ]\n",
            " [   0.  ]\n",
            " [   0.  ]\n",
            " [   0.  ]\n",
            " [   0.  ]\n",
            " [   0.  ]\n",
            " [   0.  ]\n",
            " [   0.  ]\n",
            " [   0.  ]\n",
            " [   0.  ]\n",
            " [   0.  ]\n",
            " [   0.  ]\n",
            " [   0.  ]\n",
            " [   0.  ]\n",
            " [   0.  ]\n",
            " [   0.  ]\n",
            " [   0.  ]\n",
            " [   0.  ]\n",
            " [   0.  ]\n",
            " [   0.  ]\n",
            " [   0.  ]\n",
            " [   0.  ]\n",
            " [   0.  ]\n",
            " [   0.  ]\n",
            " [   0.  ]\n",
            " [   0.  ]\n",
            " [   0.  ]\n",
            " [   0.  ]\n",
            " [   0.  ]\n",
            " [   0.  ]\n",
            " [   0.  ]\n",
            " [   0.  ]\n",
            " [   0.  ]\n",
            " [   0.  ]\n",
            " [   0.  ]\n",
            " [   0.  ]\n",
            " [   0.  ]\n",
            " [   0.  ]\n",
            " [   0.  ]\n",
            " [   0.  ]\n",
            " [   0.  ]\n",
            " [   0.  ]\n",
            " [   0.  ]\n",
            " [   0.  ]\n",
            " [   0.  ]\n",
            " [   0.  ]\n",
            " [   0.  ]\n",
            " [   0.  ]\n",
            " [   0.  ]\n",
            " [   0.  ]\n",
            " [   0.  ]\n",
            " [   0.  ]\n",
            " [   0.  ]\n",
            " [   0.  ]\n",
            " [   0.  ]\n",
            " [   0.  ]\n",
            " [   0.  ]\n",
            " [   0.  ]\n",
            " [   0.  ]\n",
            " [   0.  ]\n",
            " [   0.  ]\n",
            " [   0.  ]\n",
            " [   0.  ]\n",
            " [   0.  ]\n",
            " [   0.  ]\n",
            " [   0.  ]\n",
            " [   0.  ]\n",
            " [   0.  ]\n",
            " [   0.  ]\n",
            " [   0.  ]\n",
            " [   0.  ]\n",
            " [   0.  ]\n",
            " [   0.  ]\n",
            " [   0.  ]\n",
            " [   0.  ]\n",
            " [   0.  ]\n",
            " [   0.  ]\n",
            " [   0.  ]\n",
            " [   0.  ]\n",
            " [   0.  ]\n",
            " [   0.  ]\n",
            " [   0.  ]\n",
            " [   0.  ]\n",
            " [   0.  ]\n",
            " [   0.  ]\n",
            " [   0.  ]\n",
            " [   0.  ]\n",
            " [   0.  ]\n",
            " [   0.  ]\n",
            " [   0.  ]\n",
            " [   0.  ]\n",
            " [   0.  ]\n",
            " [   0.  ]\n",
            " [   0.  ]\n",
            " [   0.  ]\n",
            " [   0.  ]\n",
            " [   0.  ]\n",
            " [   0.  ]\n",
            " [   0.  ]\n",
            " [   0.  ]\n",
            " [   0.  ]\n",
            " [   0.  ]\n",
            " [   0.  ]\n",
            " [   0.  ]\n",
            " [   0.  ]\n",
            " [   0.  ]\n",
            " [   0.  ]\n",
            " [   0.  ]\n",
            " [   0.  ]\n",
            " [   0.  ]\n",
            " [   0.  ]\n",
            " [   0.  ]\n",
            " [   0.  ]\n",
            " [   0.  ]\n",
            " [   0.  ]\n",
            " [   0.  ]\n",
            " [   0.  ]\n",
            " [   0.  ]\n",
            " [   0.  ]\n",
            " [   0.  ]\n",
            " [   0.  ]\n",
            " [   0.  ]\n",
            " [   0.  ]\n",
            " [   0.  ]\n",
            " [   0.  ]\n",
            " [   0.  ]\n",
            " [   0.  ]\n",
            " [   0.  ]\n",
            " [   0.  ]\n",
            " [   0.  ]\n",
            " [   0.  ]\n",
            " [   0.  ]\n",
            " [   0.  ]\n",
            " [   0.  ]\n",
            " [   0.  ]\n",
            " [   0.  ]\n",
            " [   0.  ]\n",
            " [   0.  ]\n",
            " [   0.  ]\n",
            " [   0.  ]\n",
            " [   0.  ]\n",
            " [   0.  ]\n",
            " [   0.  ]\n",
            " [   0.  ]\n",
            " [   0.  ]\n",
            " [   0.  ]\n",
            " [   0.  ]\n",
            " [   0.  ]\n",
            " [   0.  ]\n",
            " [   0.  ]\n",
            " [   0.  ]\n",
            " [   0.  ]\n",
            " [   0.  ]\n",
            " [   0.  ]\n",
            " [   0.  ]\n",
            " [   0.  ]\n",
            " [   0.  ]\n",
            " [   0.  ]\n",
            " [   0.  ]\n",
            " [   0.  ]\n",
            " [   0.  ]\n",
            " [   0.  ]\n",
            " [   0.  ]\n",
            " [   0.  ]\n",
            " [   0.  ]\n",
            " [   0.  ]\n",
            " [   0.  ]\n",
            " [   0.  ]\n",
            " [   0.  ]\n",
            " [   0.  ]\n",
            " [   0.  ]\n",
            " [   0.  ]\n",
            " [   0.  ]\n",
            " [   0.  ]\n",
            " [   0.  ]\n",
            " [   0.  ]\n",
            " [   0.  ]\n",
            " [   0.  ]\n",
            " [   0.  ]\n",
            " [   0.  ]\n",
            " [   0.  ]\n",
            " [   0.  ]\n",
            " [   0.  ]\n",
            " [   0.  ]\n",
            " [   0.  ]\n",
            " [   0.  ]\n",
            " [   0.  ]\n",
            " [   0.  ]\n",
            " [   0.  ]\n",
            " [   0.  ]\n",
            " [   0.  ]\n",
            " [   0.  ]\n",
            " [   0.  ]\n",
            " [   0.  ]\n",
            " [   0.  ]\n",
            " [   0.  ]\n",
            " [   0.  ]\n",
            " [   0.  ]\n",
            " [   0.  ]\n",
            " [   0.  ]\n",
            " [   0.  ]\n",
            " [   0.  ]\n",
            " [   0.  ]\n",
            " [   0.  ]\n",
            " [   0.  ]\n",
            " [   0.  ]\n",
            " [   0.  ]\n",
            " [   0.  ]\n",
            " [   0.  ]\n",
            " [   0.  ]\n",
            " [   0.  ]\n",
            " [   0.  ]\n",
            " [   0.  ]\n",
            " [   0.  ]\n",
            " [   0.  ]\n",
            " [   0.  ]\n",
            " [   0.  ]\n",
            " [   0.  ]\n",
            " [   0.  ]\n",
            " [   0.  ]\n",
            " [   0.  ]\n",
            " [   0.  ]\n",
            " [   0.  ]\n",
            " [   0.  ]\n",
            " [   0.  ]\n",
            " [   0.  ]\n",
            " [   0.  ]\n",
            " [   0.  ]\n",
            " [   0.  ]\n",
            " [   0.  ]\n",
            " [   0.  ]\n",
            " [   0.  ]\n",
            " [   0.  ]\n",
            " [   0.  ]\n",
            " [   0.  ]\n",
            " [   0.  ]\n",
            " [   0.  ]\n",
            " [   0.  ]\n",
            " [   0.  ]\n",
            " [   0.  ]\n",
            " [   0.  ]\n",
            " [   0.  ]\n",
            " [   0.  ]\n",
            " [   0.  ]\n",
            " [   0.  ]\n",
            " [   0.  ]\n",
            " [   0.  ]\n",
            " [   0.  ]\n",
            " [   0.  ]\n",
            " [   0.  ]\n",
            " [   0.  ]\n",
            " [   0.  ]\n",
            " [   0.  ]\n",
            " [   0.  ]\n",
            " [   0.  ]\n",
            " [   0.  ]\n",
            " [   0.  ]\n",
            " [   0.  ]\n",
            " [   0.  ]\n",
            " [   0.  ]\n",
            " [   0.  ]\n",
            " [   0.  ]\n",
            " [   0.  ]\n",
            " [   0.  ]\n",
            " [   0.  ]\n",
            " [   0.  ]\n",
            " [   0.  ]\n",
            " [   0.  ]\n",
            " [   0.  ]\n",
            " [   0.  ]\n",
            " [   0.  ]\n",
            " [   0.  ]\n",
            " [   0.  ]\n",
            " [   0.  ]\n",
            " [   0.  ]\n",
            " [   0.  ]\n",
            " [   0.  ]\n",
            " [   0.  ]\n",
            " [   0.  ]\n",
            " [   0.  ]\n",
            " [   0.  ]\n",
            " [   0.  ]\n",
            " [   0.  ]\n",
            " [   0.  ]\n",
            " [   0.  ]\n",
            " [   0.  ]\n",
            " [   0.  ]\n",
            " [   0.  ]\n",
            " [   0.  ]\n",
            " [   0.  ]\n",
            " [   0.  ]\n",
            " [   0.  ]\n",
            " [   0.  ]\n",
            " [   0.  ]\n",
            " [   0.  ]\n",
            " [   0.  ]\n",
            " [   0.  ]\n",
            " [   0.  ]\n",
            " [   0.  ]\n",
            " [   0.  ]\n",
            " [   0.  ]\n",
            " [   0.  ]\n",
            " [   0.  ]\n",
            " [   0.  ]\n",
            " [   0.  ]\n",
            " [   0.  ]\n",
            " [   0.  ]\n",
            " [   0.  ]\n",
            " [   0.  ]\n",
            " [   0.  ]\n",
            " [   0.  ]\n",
            " [   0.  ]\n",
            " [   0.  ]\n",
            " [   0.  ]\n",
            " [   0.  ]\n",
            " [   0.  ]\n",
            " [   0.  ]\n",
            " [   0.  ]\n",
            " [   0.  ]\n",
            " [   0.  ]\n",
            " [   0.  ]\n",
            " [   0.  ]\n",
            " [   0.  ]\n",
            " [   0.  ]\n",
            " [   0.  ]\n",
            " [   0.  ]\n",
            " [   0.  ]\n",
            " [   0.  ]\n",
            " [   0.  ]\n",
            " [   0.  ]\n",
            " [   0.  ]\n",
            " [   0.  ]\n",
            " [   0.  ]\n",
            " [   0.  ]\n",
            " [   0.  ]\n",
            " [   0.  ]\n",
            " [   0.  ]\n",
            " [   0.  ]\n",
            " [   0.  ]\n",
            " [   0.  ]\n",
            " [   0.  ]\n",
            " [   0.  ]\n",
            " [   0.  ]\n",
            " [   0.  ]\n",
            " [   0.  ]\n",
            " [   0.  ]\n",
            " [   0.  ]\n",
            " [   0.  ]\n",
            " [   0.  ]\n",
            " [   0.  ]\n",
            " [   0.  ]\n",
            " [   0.  ]\n",
            " [   0.  ]\n",
            " [   0.  ]\n",
            " [   0.  ]\n",
            " [   0.  ]\n",
            " [   0.  ]\n",
            " [   0.  ]\n",
            " [   0.  ]\n",
            " [   0.  ]\n",
            " [   0.  ]\n",
            " [   0.  ]\n",
            " [   0.  ]\n",
            " [   0.  ]\n",
            " [   0.  ]\n",
            " [   0.  ]\n",
            " [   0.  ]\n",
            " [   0.  ]\n",
            " [   0.  ]\n",
            " [   0.  ]\n",
            " [   0.  ]\n",
            " [   0.  ]\n",
            " [   0.  ]\n",
            " [   0.  ]\n",
            " [   0.  ]\n",
            " [   0.  ]\n",
            " [   0.  ]\n",
            " [   0.  ]\n",
            " [   0.  ]\n",
            " [   0.  ]\n",
            " [   0.  ]\n",
            " [   0.  ]\n",
            " [   0.  ]\n",
            " [   0.  ]\n",
            " [   0.  ]\n",
            " [   0.  ]\n",
            " [   0.  ]\n",
            " [   0.  ]\n",
            " [   0.  ]\n",
            " [   0.  ]\n",
            " [   0.  ]\n",
            " [   0.  ]\n",
            " [   0.  ]\n",
            " [   0.  ]\n",
            " [   0.  ]\n",
            " [   0.  ]\n",
            " [   0.  ]\n",
            " [   0.  ]\n",
            " [   0.  ]\n",
            " [   0.  ]\n",
            " [   0.  ]\n",
            " [   0.  ]\n",
            " [   0.  ]\n",
            " [   0.  ]\n",
            " [   0.  ]\n",
            " [   0.  ]\n",
            " [   0.  ]\n",
            " [   0.  ]\n",
            " [   0.  ]\n",
            " [   0.  ]\n",
            " [   0.  ]\n",
            " [   0.  ]\n",
            " [   0.  ]\n",
            " [   0.  ]\n",
            " [   0.  ]\n",
            " [   0.  ]\n",
            " [   0.  ]\n",
            " [   0.  ]\n",
            " [   0.  ]\n",
            " [   0.  ]\n",
            " [   0.  ]\n",
            " [   0.  ]\n",
            " [   0.  ]\n",
            " [   0.  ]\n",
            " [   0.  ]\n",
            " [   0.  ]\n",
            " [   0.  ]\n",
            " [   0.  ]\n",
            " [   0.  ]\n",
            " [   0.  ]\n",
            " [   0.  ]\n",
            " [   0.  ]\n",
            " [   0.  ]\n",
            " [   0.  ]\n",
            " [   0.  ]\n",
            " [   0.  ]\n",
            " [   0.  ]\n",
            " [   0.  ]\n",
            " [   0.  ]\n",
            " [   0.  ]\n",
            " [   0.  ]\n",
            " [   0.  ]\n",
            " [   0.  ]\n",
            " [   0.  ]\n",
            " [   0.  ]\n",
            " [   0.  ]\n",
            " [   0.  ]\n",
            " [   0.  ]\n",
            " [   0.  ]\n",
            " [   0.  ]\n",
            " [   0.  ]\n",
            " [   0.  ]\n",
            " [   0.  ]\n",
            " [   0.  ]\n",
            " [   0.  ]\n",
            " [   0.  ]\n",
            " [   0.  ]\n",
            " [   0.  ]\n",
            " [   0.  ]\n",
            " [   0.  ]\n",
            " [   0.  ]\n",
            " [   0.  ]\n",
            " [   0.  ]\n",
            " [   0.  ]\n",
            " [   0.  ]\n",
            " [   0.  ]\n",
            " [   0.  ]\n",
            " [   0.  ]\n",
            " [   0.  ]\n",
            " [   0.  ]\n",
            " [   0.  ]\n",
            " [   0.  ]\n",
            " [   0.  ]\n",
            " [   0.  ]\n",
            " [   0.  ]\n",
            " [   0.  ]\n",
            " [   0.  ]\n",
            " [   0.  ]\n",
            " [   0.  ]\n",
            " [   0.  ]\n",
            " [   0.  ]\n",
            " [   0.  ]\n",
            " [   0.  ]\n",
            " [   0.  ]\n",
            " [   0.  ]\n",
            " [   0.  ]\n",
            " [   0.  ]\n",
            " [   0.  ]\n",
            " [   0.  ]\n",
            " [   0.  ]\n",
            " [   0.  ]\n",
            " [   0.  ]\n",
            " [   0.  ]\n",
            " [   0.  ]\n",
            " [   0.  ]\n",
            " [   0.  ]\n",
            " [   0.  ]\n",
            " [   0.  ]\n",
            " [   0.  ]\n",
            " [   0.  ]\n",
            " [   0.  ]\n",
            " [   0.  ]\n",
            " [   0.  ]\n",
            " [   0.  ]\n",
            " [   0.  ]\n",
            " [   0.  ]\n",
            " [   0.  ]\n",
            " [   0.  ]\n",
            " [   0.  ]\n",
            " [   0.  ]\n",
            " [   0.  ]\n",
            " [   0.  ]\n",
            " [   0.  ]\n",
            " [   0.  ]\n",
            " [   0.  ]\n",
            " [   0.  ]\n",
            " [   0.  ]\n",
            " [   0.  ]\n",
            " [   0.  ]\n",
            " [   0.  ]\n",
            " [   0.  ]\n",
            " [   0.  ]\n",
            " [   0.  ]\n",
            " [   0.  ]\n",
            " [   0.  ]\n",
            " [   0.  ]\n",
            " [   0.  ]\n",
            " [   0.  ]\n",
            " [   0.  ]\n",
            " [   0.  ]\n",
            " [   0.  ]\n",
            " [   0.  ]\n",
            " [   0.  ]\n",
            " [   0.  ]\n",
            " [   0.  ]\n",
            " [   0.  ]\n",
            " [   0.  ]\n",
            " [   0.  ]\n",
            " [   0.  ]\n",
            " [   0.  ]\n",
            " [   0.  ]\n",
            " [   0.  ]\n",
            " [   0.  ]\n",
            " [   0.  ]\n",
            " [   0.  ]\n",
            " [   0.  ]\n",
            " [   0.  ]\n",
            " [   0.  ]\n",
            " [   0.  ]\n",
            " [   0.  ]\n",
            " [   0.  ]\n",
            " [   0.  ]\n",
            " [   0.  ]\n",
            " [   0.  ]\n",
            " [   0.  ]\n",
            " [   0.  ]\n",
            " [   0.  ]\n",
            " [   0.  ]\n",
            " [   0.  ]\n",
            " [   0.  ]\n",
            " [   0.  ]\n",
            " [   0.  ]\n",
            " [   0.  ]\n",
            " [   0.  ]\n",
            " [   0.  ]\n",
            " [   0.  ]\n",
            " [   0.  ]\n",
            " [   0.  ]\n",
            " [   0.  ]\n",
            " [   0.  ]\n",
            " [   0.  ]\n",
            " [   0.  ]\n",
            " [   0.  ]\n",
            " [   0.  ]\n",
            " [   0.  ]\n",
            " [   0.  ]\n",
            " [   0.  ]\n",
            " [   0.  ]\n",
            " [   0.  ]\n",
            " [   0.  ]\n",
            " [   0.  ]\n",
            " [   0.  ]\n",
            " [   0.  ]\n",
            " [   0.  ]\n",
            " [   0.  ]\n",
            " [   0.  ]\n",
            " [   0.  ]\n",
            " [   0.  ]\n",
            " [   0.  ]\n",
            " [   0.  ]\n",
            " [   0.  ]\n",
            " [   0.  ]\n",
            " [   0.  ]\n",
            " [   0.  ]\n",
            " [   0.  ]\n",
            " [   0.  ]\n",
            " [   0.  ]\n",
            " [   0.  ]\n",
            " [   0.  ]\n",
            " [   0.  ]\n",
            " [   0.  ]\n",
            " [   0.  ]\n",
            " [   0.  ]\n",
            " [   0.  ]\n",
            " [   0.  ]\n",
            " [   0.  ]\n",
            " [   0.  ]\n",
            " [   0.  ]\n",
            " [   0.  ]\n",
            " [   0.  ]\n",
            " [   0.  ]\n",
            " [   0.  ]\n",
            " [   0.  ]\n",
            " [   0.  ]\n",
            " [   0.  ]\n",
            " [   0.  ]\n",
            " [   0.  ]\n",
            " [   0.  ]\n",
            " [   0.  ]\n",
            " [   0.  ]\n",
            " [   0.  ]\n",
            " [   0.  ]\n",
            " [   0.  ]\n",
            " [   0.  ]\n",
            " [   0.  ]\n",
            " [   0.  ]\n",
            " [   0.  ]\n",
            " [   0.  ]\n",
            " [   0.  ]\n",
            " [   0.  ]\n",
            " [   0.  ]\n",
            " [   0.  ]\n",
            " [   0.  ]\n",
            " [   0.  ]\n",
            " [   0.  ]\n",
            " [   0.  ]\n",
            " [   0.  ]\n",
            " [   0.  ]\n",
            " [   0.  ]\n",
            " [   0.  ]\n",
            " [   0.  ]\n",
            " [   0.  ]\n",
            " [   0.  ]\n",
            " [   0.  ]\n",
            " [   0.  ]\n",
            " [   0.  ]\n",
            " [   0.  ]\n",
            " [   0.  ]\n",
            " [   0.  ]\n",
            " [   0.  ]\n",
            " [   0.  ]\n",
            " [   0.  ]\n",
            " [   0.  ]\n",
            " [   0.  ]\n",
            " [   0.  ]\n",
            " [   0.  ]\n",
            " [   0.  ]\n",
            " [   0.  ]\n",
            " [   0.  ]\n",
            " [   0.  ]\n",
            " [   0.  ]\n",
            " [   0.  ]\n",
            " [   0.  ]\n",
            " [   0.  ]\n",
            " [   0.  ]\n",
            " [   0.  ]\n",
            " [   0.  ]\n",
            " [   0.  ]\n",
            " [ 260.28]\n",
            " [ 245.77]\n",
            " [ 970.35]\n",
            " [ 363.85]\n",
            " [ 256.97]\n",
            " [ 781.33]\n",
            " [ 258.03]\n",
            " [ 718.86]\n",
            " [ 556.72]\n",
            " [ 477.42]\n",
            " [ 477.42]\n",
            " [ 477.42]\n",
            " [  74.62]\n",
            " [  74.62]\n",
            " [ 623.14]\n",
            " [ 401.9 ]\n",
            " [  41.83]\n",
            " [ 159.65]\n",
            " [ 369.37]\n",
            " [ 145.51]\n",
            " [ 422.76]\n",
            " [ 130.22]\n",
            " [ 758.81]\n",
            " [ 392.72]\n",
            " [ 280.76]\n",
            " [ 280.76]\n",
            " [ 576.33]\n",
            " [ 576.33]\n",
            " [ 741.5 ]\n",
            " [ 741.5 ]\n",
            " [ 741.5 ]\n",
            " [ 741.5 ]\n",
            " [ 203.23]\n",
            " [ 300.3 ]\n",
            " [  73.86]\n",
            " [  72.77]\n",
            " [  55.4 ]\n",
            " [1268.57]\n",
            " [1053.99]\n",
            " [1012.06]\n",
            " [ 940.16]\n",
            " [ 635.13]\n",
            " [ 634.73]\n",
            " [ 569.51]\n",
            " [ 547.63]\n",
            " [ 502.53]\n",
            " [ 483.58]\n",
            " [ 453.28]\n",
            " [ 393.34]\n",
            " [ 386.27]\n",
            " [ 355.73]\n",
            " [ 349.52]\n",
            " [ 347.41]\n",
            " [ 347.41]\n",
            " [ 329.32]\n",
            " [ 329.32]\n",
            " [ 291.32]\n",
            " [ 280.58]\n",
            " [ 241.1 ]\n",
            " [ 201.22]\n",
            " [ 495.36]\n",
            " [ 293.13]\n",
            " [ 293.13]\n",
            " [ 402.03]\n",
            " [1069.42]\n",
            " [ 260.39]\n",
            " [ 260.39]\n",
            " [ 260.39]\n",
            " [ 260.39]\n",
            " [ 149.87]\n",
            " [ 116.  ]\n",
            " [ 115.18]\n",
            " [ 114.85]\n",
            " [  93.94]\n",
            " [ 415.12]\n",
            " [ 765.39]\n",
            " [1332.16]\n",
            " [1263.29]\n",
            " [ 280.11]\n",
            " [ 128.28]\n",
            " [ 128.28]\n",
            " [ 747.72]\n",
            " [ 747.72]\n",
            " [1273.69]\n",
            " [1050.84]\n",
            " [1050.84]\n",
            " [1050.84]\n",
            " [1050.84]\n",
            " [1050.84]\n",
            " [1050.84]\n",
            " [1050.84]\n",
            " [1050.84]\n",
            " [1018.41]\n",
            " [ 908.01]\n",
            " [ 844.7 ]\n",
            " [ 349.92]]\n",
            "[   0.      0.      0.      0.      0.      0.      0.      0.      0.\n",
            "    0.      0.      0.      0.      0.      0.      0.      0.      0.\n",
            "    0.      0.      0.      0.      0.      0.      0.      0.      0.\n",
            "    0.      0.      0.      0.      0.      0.      0.      0.      0.\n",
            "    0.      0.      0.      0.      0.      0.      0.      0.      0.\n",
            "    0.      0.      0.      0.      0.      0.      0.      0.      0.\n",
            "    0.      0.      0.      0.      0.      0.      0.      0.      0.\n",
            "    0.      0.      0.      0.      0.      0.      0.      0.      0.\n",
            "    0.      0.      0.      0.      0.      0.      0.      0.      0.\n",
            "    0.      0.      0.      0.      0.      0.      0.      0.      0.\n",
            "    0.      0.      0.      0.      0.      0.      0.      0.      0.\n",
            "    0.      0.      0.      0.      0.      0.      0.      0.      0.\n",
            "    0.      0.      0.      0.      0.      0.      0.      0.      0.\n",
            "    0.      0.      0.      0.      0.      0.      0.      0.      0.\n",
            "    0.      0.      0.      0.      0.      0.      0.      0.      0.\n",
            "    0.      0.      0.      0.      0.      0.      0.      0.      0.\n",
            "    0.      0.      0.      0.      0.      0.      0.      0.      0.\n",
            "    0.      0.      0.      0.      0.      0.      0.      0.      0.\n",
            "    0.      0.      0.      0.      0.      0.      0.      0.      0.\n",
            "    0.      0.      0.      0.      0.      0.      0.      0.      0.\n",
            "    0.      0.      0.      0.      0.      0.      0.      0.      0.\n",
            "    0.      0.      0.      0.      0.      0.      0.      0.      0.\n",
            "    0.      0.      0.      0.      0.      0.      0.      0.      0.\n",
            "    0.      0.      0.      0.      0.      0.      0.      0.      0.\n",
            "    0.      0.      0.      0.      0.      0.      0.      0.      0.\n",
            "    0.      0.      0.      0.      0.      0.      0.      0.      0.\n",
            "    0.      0.      0.      0.      0.      0.      0.      0.      0.\n",
            "    0.      0.      0.      0.      0.      0.      0.      0.      0.\n",
            "    0.      0.      0.      0.      0.      0.      0.      0.      0.\n",
            "    0.      0.      0.      0.      0.      0.      0.      0.      0.\n",
            "    0.      0.      0.      0.      0.      0.      0.      0.      0.\n",
            "    0.      0.      0.      0.      0.      0.      0.      0.      0.\n",
            "    0.      0.      0.      0.      0.      0.      0.      0.      0.\n",
            "    0.      0.      0.      0.      0.      0.      0.      0.      0.\n",
            "    0.      0.      0.      0.      0.      0.      0.      0.      0.\n",
            "    0.      0.      0.      0.      0.      0.      0.      0.      0.\n",
            "    0.      0.      0.      0.      0.      0.      0.      0.      0.\n",
            "    0.      0.      0.      0.      0.      0.      0.      0.      0.\n",
            "    0.      0.      0.      0.      0.      0.      0.      0.      0.\n",
            "    0.      0.      0.      0.      0.      0.      0.      0.      0.\n",
            "    0.      0.      0.      0.      0.      0.      0.      0.      0.\n",
            "    0.      0.      0.      0.      0.      0.      0.      0.      0.\n",
            "    0.      0.      0.      0.      0.      0.      0.      0.      0.\n",
            "    0.      0.      0.      0.      0.      0.      0.      0.      0.\n",
            "    0.      0.      0.      0.      0.      0.      0.      0.      0.\n",
            "    0.      0.      0.      0.      0.      0.      0.      0.      0.\n",
            "    0.      0.      0.      0.      0.      0.      0.      0.      0.\n",
            "    0.      0.      0.      0.      0.      0.      0.      0.      0.\n",
            "    0.      0.      0.      0.      0.      0.      0.      0.      0.\n",
            "    0.      0.      0.      0.      0.      0.      0.      0.      0.\n",
            "    0.      0.      0.      0.      0.      0.      0.      0.      0.\n",
            "    0.      0.      0.      0.      0.      0.      0.      0.      0.\n",
            "    0.      0.      0.      0.      0.      0.      0.      0.      0.\n",
            "    0.      0.      0.      0.      0.      0.      0.      0.      0.\n",
            "    0.      0.      0.      0.      0.      0.      0.      0.      0.\n",
            "    0.      0.      0.      0.      0.      0.      0.      0.      0.\n",
            "    0.      0.      0.      0.      0.      0.      0.      0.      0.\n",
            "    0.      0.      0.      0.      0.      0.      0.      0.      0.\n",
            "    0.      0.      0.      0.      0.      0.      0.      0.      0.\n",
            "    0.      0.      0.      0.      0.      0.      0.      0.      0.\n",
            "    0.      0.      0.      0.      0.      0.      0.      0.      0.\n",
            "    0.      0.      0.      0.      0.      0.      0.      0.      0.\n",
            "    0.      0.      0.      0.      0.      0.      0.      0.      0.\n",
            "    0.      0.      0.      0.      0.      0.      0.      0.      0.\n",
            "    0.      0.      0.      0.      0.      0.      0.      0.      0.\n",
            "    0.      0.      0.      0.      0.      0.      0.      0.      0.\n",
            "    0.      0.      0.      0.      0.      0.      0.      0.      0.\n",
            "    0.      0.      0.      0.      0.      0.      0.      0.      0.\n",
            "    0.      0.      0.      0.      0.      0.      0.      0.      0.\n",
            "    0.      0.      0.      0.      0.      0.      0.      0.      0.\n",
            "    0.      0.      0.      0.      0.      0.      0.      0.      0.\n",
            "    0.      0.      0.      0.      0.      0.      0.      0.      0.\n",
            "    0.      0.      0.      0.      0.      0.      0.      0.      0.\n",
            "    0.      0.      0.      0.      0.      0.      0.      0.      0.\n",
            "    0.      0.      0.      0.      0.      0.      0.      0.      0.\n",
            "    0.      0.      0.      0.      0.      0.      0.      0.      0.\n",
            "    0.      0.      0.      0.      0.      0.      0.      0.      0.\n",
            "    0.      0.      0.      0.      0.      0.      0.      0.      0.\n",
            "    0.      0.      0.      0.      0.      0.      0.      0.      0.\n",
            "    0.      0.      0.      0.      0.      0.      0.      0.      0.\n",
            "    0.      0.      0.      0.      0.      0.      0.      0.      0.\n",
            "    0.      0.      0.      0.      0.      0.      0.      0.      0.\n",
            "    0.      0.      0.      0.      0.      0.      0.      0.      0.\n",
            "    0.      0.      0.      0.      0.      0.      0.      0.      0.\n",
            "    0.      0.      0.      0.      0.      0.      0.      0.      0.\n",
            "    0.      0.      0.      0.      0.      0.      0.      0.      0.\n",
            "    0.      0.      0.      0.      0.      0.      0.      0.      0.\n",
            "    0.      0.      0.      0.      0.      0.      0.      0.      0.\n",
            "    0.      0.      0.      0.      0.      0.      0.      0.      0.\n",
            "    0.      0.      0.      0.      0.      0.      0.      0.      0.\n",
            "    0.      0.      0.      0.      0.      0.      0.      0.      0.\n",
            "    0.      0.      0.      0.      0.      0.      0.      0.      0.\n",
            "    0.      0.      0.      0.      0.      0.      0.      0.      0.\n",
            "    0.      0.      0.      0.      0.      0.      0.      0.      0.\n",
            "    0.      0.      0.      0.      0.      0.      0.      0.    260.28\n",
            "  245.77  970.35  363.85  256.97  781.33  258.03  718.86  556.72  477.42\n",
            "  477.42  477.42   74.62   74.62  623.14  401.9    41.83  159.65  369.37\n",
            "  145.51  422.76  130.22  758.81  392.72  280.76  280.76  576.33  576.33\n",
            "  741.5   741.5   741.5   741.5   203.23  300.3    73.86   72.77   55.4\n",
            " 1268.57 1053.99 1012.06  940.16  635.13  634.73  569.51  547.63  502.53\n",
            "  483.58  453.28  393.34  386.27  355.73  349.52  347.41  347.41  329.32\n",
            "  329.32  291.32  280.58  241.1   201.22  495.36  293.13  293.13  402.03\n",
            " 1069.42  260.39  260.39  260.39  260.39  149.87  116.    115.18  114.85\n",
            "   93.94  415.12  765.39 1332.16 1263.29  280.11  128.28  128.28  747.72\n",
            "  747.72 1273.69 1050.84 1050.84 1050.84 1050.84 1050.84 1050.84 1050.84\n",
            " 1050.84 1018.41  908.01  844.7   349.92]\n"
          ],
          "name": "stdout"
        }
      ]
    },
    {
      "cell_type": "markdown",
      "metadata": {
        "id": "qJXocJwp_-ee",
        "colab_type": "text"
      },
      "source": [
        "### Analysis of the dataset "
      ]
    },
    {
      "cell_type": "code",
      "metadata": {
        "id": "PyeWeWAl-kmB",
        "colab_type": "code",
        "colab": {
          "base_uri": "https://localhost:8080/",
          "height": 295
        },
        "outputId": "75d543d4-774b-4c15-e7e1-ec4077fb9bf9"
      },
      "source": [
        "plt.scatter(X, Y, color='blue') \n",
        "plt.title('Team points')\n",
        "plt.xlabel('Total Points')\n",
        "plt.ylabel('Previous Points')\n",
        "plt.show()"
      ],
      "execution_count": 117,
      "outputs": [
        {
          "output_type": "display_data",
          "data": {
            "image/png": "[encoded data removed]",
            "text/plain": [
              "<Figure size 432x288 with 1 Axes>"
            ]
          },
          "metadata": {
            "tags": [],
            "needs_background": "light"
          }
        }
      ]
    },
    {
      "cell_type": "code",
      "metadata": {
        "id": "z_1XiAhKA5LU",
        "colab_type": "code",
        "colab": {
          "base_uri": "https://localhost:8080/",
          "height": 573
        },
        "outputId": "afe5b183-da5b-4789-9a16-ebade8c01445"
      },
      "source": [
        "# Split the dataset into train and test sets\n",
        "X_train, Y_train, X_test, Y_test = train_test_split(X,Y, test_size = 0.2, random_state=0)\n",
        "\n",
        "\n",
        "# Fit Linear Regression model to the dataset\n",
        "reg_line = LinearRegression()\n",
        "reg_line.fit(X,Y)\n",
        "\n",
        "# Visualize the Linear Regression results\n",
        "plt.scatter(X, Y, color='blue') \n",
        "plt.plot(X, reg_line.predict(X), color='red')\n",
        "plt.title('Team Points')\n",
        "plt.xlabel('Total Points')\n",
        "plt.ylabel('Previous Points')\n",
        "plt.show()\n",
        "# Fit polynomial Regression to the dataset\n",
        "poly_reg = PolynomialFeatures(degree = 4) \n",
        "X_poly = poly_reg.fit_transform(X)\n",
        "\n",
        "\n",
        "pol_reg = LinearRegression()\n",
        "pol_reg.fit(X_poly, Y)\n",
        "\n",
        "#Visualize the Polynomial Regression results\n",
        "plt.scatter(X, Y, color='blue') \n",
        "plt.plot(X, pol_reg.predict(X_poly), color='red')\n",
        "plt.title('Team Points')\n",
        "plt.xlabel('Total Points')\n",
        "plt.ylabel('Previous Points')\n",
        "plt.show()"
      ],
      "execution_count": 118,
      "outputs": [
        {
          "output_type": "display_data",
          "data": {
            "image/png": "[encoded data removed]",
            "text/plain": [
              "<Figure size 432x288 with 1 Axes>"
            ]
          },
          "metadata": {
            "tags": [],
            "needs_background": "light"
          }
        },
        {
          "output_type": "display_data",
          "data": {
            "image/png": "[encoded data removed]",
            "text/plain": [
              "<Figure size 432x288 with 1 Axes>"
            ]
          },
          "metadata": {
            "tags": [],
            "needs_background": "light"
          }
        }
      ]
    },
    {
      "cell_type": "code",
      "metadata": {
        "id": "_32jb65dDhRw",
        "colab_type": "code",
        "colab": {
          "base_uri": "https://localhost:8080/",
          "height": 52
        },
        "outputId": "83c87cce-d16e-4b76-b568-7445e7e52ae8"
      },
      "source": [
        "# Predict using linear regression\n",
        "lin_pred = reg_line.predict([[6.5]])\n",
        "print('Linear prediction: %d' %lin_pred)\n",
        "\n",
        "# Predict using Polynomial Regression\n",
        "poly_pred = pol_reg.predict(poly_reg.fit_transform([[6.5]]))\n",
        "print('Polynomial prediction: %d' %poly_pred)\n",
        "\n",
        "# We can also get the predictions as an array\n",
        "poly_arr_pred = pol_reg.predict(poly_reg.fit_transform(X))"
      ],
      "execution_count": 119,
      "outputs": [
        {
          "output_type": "stream",
          "text": [
            "Linear prediction: 6\n",
            "Polynomial prediction: 6\n"
          ],
          "name": "stdout"
        }
      ]
    },
    {
      "cell_type": "markdown",
      "metadata": {
        "id": "oCd_iOB_YaUs",
        "colab_type": "text"
      },
      "source": [
        "# Cross validation "
      ]
    },
    {
      "cell_type": "code",
      "metadata": {
        "id": "EqLpcdwdYdc5",
        "colab_type": "code",
        "colab": {
          "base_uri": "https://localhost:8080/",
          "height": 69
        },
        "outputId": "78a8b0a6-82a7-4937-eb44-2b53f229009c"
      },
      "source": [
        "from sklearn.model_selection import train_test_split\n",
        "from sklearn.linear_model import LinearRegression\n",
        "from sklearn import metrics\n",
        "# We will use 2 independent variables for this\n",
        "X = dataset[['total_points', 'previous_points']].values\n",
        "y = dataset['rank'].values\n",
        "\n",
        "# Train using 80% of the data.\n",
        "X_train, X_test, y_train, y_test = train_test_split(X, y, test_size=0.2, random_state=0)\n",
        "\n",
        "# find optimal coefficients and intercept\n",
        "regressor = LinearRegression()  \n",
        "regressor.fit(X_train, y_train)\n",
        "\n",
        "# assess the accuraccy of the model\n",
        "y_pred = regressor.predict(X_test)\n",
        "\n",
        "print('Mean Absolute Error:', metrics.mean_absolute_error(y_test, y_pred))  \n",
        "print('Mean Squared Error:', metrics.mean_squared_error(y_test, y_pred))  \n",
        "print('Root Mean Squared Error:', np.sqrt(metrics.mean_squared_error(y_test, y_pred)))"
      ],
      "execution_count": 121,
      "outputs": [
        {
          "output_type": "stream",
          "text": [
            "Mean Absolute Error: 27.890482472924557\n",
            "Mean Squared Error: 1391.8857310651288\n",
            "Root Mean Squared Error: 37.30798481645891\n"
          ],
          "name": "stdout"
        }
      ]
    },
    {
      "cell_type": "code",
      "metadata": {
        "id": "MTyYcVRmZbSY",
        "colab_type": "code",
        "colab": {
          "base_uri": "https://localhost:8080/",
          "height": 295
        },
        "outputId": "128e0748-dfcf-450d-9a05-7773268438c3"
      },
      "source": [
        "#lets try using k-folds \n",
        "from sklearn.model_selection import KFold\n",
        "X = dataset[['total_points', 'previous_points']].values\n",
        "y = dataset['rank'].values\n",
        "\n",
        "folds = KFold(n_splits=5)\n",
        "\n",
        "print('we are using ' +str(folds.get_n_splits(X)) + ' folds')\n",
        "\n",
        "\n",
        "RMSES = [] \n",
        "count = 1 \n",
        "for train_index, test_index in folds.split(X):\n",
        "  print('\\nTraining model ' + str(count))\n",
        "  \n",
        "\n",
        "  X_train, X_test = X[train_index], X[test_index]\n",
        "  y_train, y_test = y[train_index], y[test_index]\n",
        "  \n",
        "  \n",
        "  regressor = LinearRegression()  \n",
        "  regressor.fit(X_train, y_train)\n",
        "  \n",
        "\n",
        "  y_pred = regressor.predict(X_test)\n",
        "  \n",
        "  rmse_value =  np.sqrt(metrics.mean_squared_error(y_test, y_pred))\n",
        "  RMSES.append(rmse_value)\n",
        "  \n",
        "  print('Model ' + str(count) + ' Root Mean Squared Error:',rmse_value)\n",
        "  count = count + 1"
      ],
      "execution_count": 122,
      "outputs": [
        {
          "output_type": "stream",
          "text": [
            "we are using 5 folds\n",
            "\n",
            "Training model 1\n",
            "Model 1 Root Mean Squared Error: 90.61856551671447\n",
            "\n",
            "Training model 2\n",
            "Model 2 Root Mean Squared Error: 34.85005761485982\n",
            "\n",
            "Training model 3\n",
            "Model 3 Root Mean Squared Error: 31.419016507898757\n",
            "\n",
            "Training model 4\n",
            "Model 4 Root Mean Squared Error: 30.42472221665122\n",
            "\n",
            "Training model 5\n",
            "Model 5 Root Mean Squared Error: 36.6411257539017\n"
          ],
          "name": "stdout"
        }
      ]
    },
    {
      "cell_type": "code",
      "metadata": {
        "id": "Gi1s9yp0aevM",
        "colab_type": "code",
        "colab": {
          "base_uri": "https://localhost:8080/",
          "height": 69
        },
        "outputId": "5a8402a9-f39f-41ee-bf13-6868c2d532c2"
      },
      "source": [
        "#using variant k-flods \n",
        "from sklearn.model_selection import LeaveOneOut\n",
        "\n",
        "\n",
        "X = dataset[['total_points', 'previous_points']].values\n",
        "y = dataset['rank'].values\n",
        "\n",
        "folds = LeaveOneOut()\n",
        "\n",
        "\n",
        "print('we are using ' +str(folds.get_n_splits(X)) + ' folds')\n",
        "\n",
        "# We now create and assess 5 models based on the folds we created.\n",
        "RMSES = [] \n",
        "count = 0 \n",
        "for train_index, test_index in folds.split(X):\n",
        "  \n",
        "  \n",
        "  X_train, X_test = X[train_index], X[test_index]\n",
        "  y_train, y_test = y[train_index], y[test_index]\n",
        "  \n",
        "  # fit a model accordingly\n",
        "  regressor = LinearRegression()  \n",
        "  regressor.fit(X_train, y_train)\n",
        "  \n",
        "  # assess the accuraccy of the model\n",
        "  y_pred = regressor.predict(X_test)\n",
        "  \n",
        "  rmse_value =  np.sqrt(metrics.mean_squared_error(y_test, y_pred))\n",
        "  RMSES.append(rmse_value)\n",
        "  \n",
        "  count = count + 1\n",
        "print('trained ' + str(count) + ' models' )\n",
        "np.mean(RMSES)"
      ],
      "execution_count": 124,
      "outputs": [
        {
          "output_type": "stream",
          "text": [
            "we are using 950 folds\n",
            "trained 950 models\n"
          ],
          "name": "stdout"
        },
        {
          "output_type": "execute_result",
          "data": {
            "text/plain": [
              "28.265653535976586"
            ]
          },
          "metadata": {
            "tags": []
          },
          "execution_count": 124
        }
      ]
    },
    {
      "cell_type": "code",
      "metadata": {
        "id": "xAd-j5nTbIEm",
        "colab_type": "code",
        "colab": {
          "base_uri": "https://localhost:8080/",
          "height": 279
        },
        "outputId": "48f98249-250f-496c-fac3-57bd4a3e3f4e"
      },
      "source": [
        "#plot of the RSME \n",
        "import matplotlib.pyplot as plt\n",
        "\n",
        "plt.plot(RMSES)\n",
        "plt.ylabel('RMSE value')\n",
        "plt.xlabel('model ID')\n",
        "plt.show()"
      ],
      "execution_count": 125,
      "outputs": [
        {
          "output_type": "display_data",
          "data": {
            "image/png": "[encoded data removed]",
            "text/plain": [
              "<Figure size 432x288 with 1 Axes>"
            ]
          },
          "metadata": {
            "tags": [],
            "needs_background": "light"
          }
        }
      ]
    },
    {
      "cell_type": "markdown",
      "metadata": {
        "id": "id5GWFnPbRmg",
        "colab_type": "text"
      },
      "source": [
        "# Logistic regression "
      ]
    },
    {
      "cell_type": "code",
      "metadata": {
        "id": "qeaHwAuVbbWf",
        "colab_type": "code",
        "colab": {
          "base_uri": "https://localhost:8080/",
          "height": 297
        },
        "outputId": "7c0b91a7-2d9c-4cfd-8f20-dfc992ae268b"
      },
      "source": [
        "# how total_points are related to rank \n",
        "sns.boxplot(x='rank', y='total_points', data=dataset, palette='hls')"
      ],
      "execution_count": 132,
      "outputs": [
        {
          "output_type": "execute_result",
          "data": {
            "text/plain": [
              "<matplotlib.axes._subplots.AxesSubplot at 0x7f4cafa785f8>"
            ]
          },
          "metadata": {
            "tags": []
          },
          "execution_count": 132
        },
        {
          "output_type": "display_data",
          "data": {
            "image/png": "[encoded data removed]",
            "text/plain": [
              "<Figure size 432x288 with 1 Axes>"
            ]
          },
          "metadata": {
            "tags": [],
            "needs_background": "light"
          }
        }
      ]
    },
    {
      "cell_type": "code",
      "metadata": {
        "id": "R9YoQxU5ctuX",
        "colab_type": "code",
        "colab": {
          "base_uri": "https://localhost:8080/",
          "height": 405
        },
        "outputId": "19333467-e2e3-4b0a-8aae-d1b92b8858e3"
      },
      "source": [
        "#Heatmap correlation \n",
        "fifa_co = pd.concat([dataset], axis=1)\n",
        "sns.heatmap(fifa_co.corr())"
      ],
      "execution_count": 142,
      "outputs": [
        {
          "output_type": "execute_result",
          "data": {
            "text/plain": [
              "<matplotlib.axes._subplots.AxesSubplot at 0x7f4caeb267f0>"
            ]
          },
          "metadata": {
            "tags": []
          },
          "execution_count": 142
        },
        {
          "output_type": "display_data",
          "data": {
            "image/png": "[encoded data removed]",
            "text/plain": [
              "<Figure size 432x288 with 2 Axes>"
            ]
          },
          "metadata": {
            "tags": [],
            "needs_background": "light"
          }
        }
      ]
    },
    {
      "cell_type": "code",
      "metadata": {
        "id": "tg_PUvjpY1eY",
        "colab_type": "code",
        "colab": {
          "base_uri": "https://localhost:8080/",
          "height": 199
        },
        "outputId": "8fbb5c4d-8d5e-4719-b078-506c34e61b4d"
      },
      "source": [
        "dataset.head(2)"
      ],
      "execution_count": 120,
      "outputs": [
        {
          "output_type": "execute_result",
          "data": {
            "text/html": [
              "<div>\n",
              "<style scoped>\n",
              "    .dataframe tbody tr th:only-of-type {\n",
              "        vertical-align: middle;\n",
              "    }\n",
              "\n",
              "    .dataframe tbody tr th {\n",
              "        vertical-align: top;\n",
              "    }\n",
              "\n",
              "    .dataframe thead th {\n",
              "        text-align: right;\n",
              "    }\n",
              "</style>\n",
              "<table border=\"1\" class=\"dataframe\">\n",
              "  <thead>\n",
              "    <tr style=\"text-align: right;\">\n",
              "      <th></th>\n",
              "      <th>Unnamed: 0</th>\n",
              "      <th>rank</th>\n",
              "      <th>country_full</th>\n",
              "      <th>total_points</th>\n",
              "      <th>previous_points</th>\n",
              "      <th>rank_change</th>\n",
              "      <th>cur_year_avg</th>\n",
              "      <th>cur_year_avg_weighted</th>\n",
              "      <th>last_year_avg</th>\n",
              "      <th>last_year_avg_weighted</th>\n",
              "      <th>two_year_ago_avg</th>\n",
              "      <th>two_year_ago_weighted</th>\n",
              "      <th>three_year_ago_avg</th>\n",
              "      <th>three_year_ago_weighted</th>\n",
              "      <th>confederation</th>\n",
              "      <th>rank_date</th>\n",
              "      <th>date</th>\n",
              "      <th>home_team</th>\n",
              "      <th>away_team</th>\n",
              "      <th>home_score</th>\n",
              "      <th>away_score</th>\n",
              "      <th>tournament</th>\n",
              "      <th>city</th>\n",
              "      <th>country</th>\n",
              "      <th>neutral</th>\n",
              "    </tr>\n",
              "  </thead>\n",
              "  <tbody>\n",
              "    <tr>\n",
              "      <th>0</th>\n",
              "      <td>0</td>\n",
              "      <td>8</td>\n",
              "      <td>Brazil</td>\n",
              "      <td>0.000</td>\n",
              "      <td>55</td>\n",
              "      <td>-5</td>\n",
              "      <td>0.000</td>\n",
              "      <td>0.000</td>\n",
              "      <td>0.000</td>\n",
              "      <td>0.000</td>\n",
              "      <td>0.000</td>\n",
              "      <td>0.000</td>\n",
              "      <td>0.000</td>\n",
              "      <td>0.000</td>\n",
              "      <td>CONMEBOL</td>\n",
              "      <td>1993-08-08</td>\n",
              "      <td>1993-08-08</td>\n",
              "      <td>Brazil</td>\n",
              "      <td>Mexico</td>\n",
              "      <td>1</td>\n",
              "      <td>1</td>\n",
              "      <td>Friendly</td>\n",
              "      <td>Maceió</td>\n",
              "      <td>Brazil</td>\n",
              "      <td>False</td>\n",
              "    </tr>\n",
              "    <tr>\n",
              "      <th>1</th>\n",
              "      <td>1</td>\n",
              "      <td>35</td>\n",
              "      <td>Ecuador</td>\n",
              "      <td>0.000</td>\n",
              "      <td>23</td>\n",
              "      <td>30</td>\n",
              "      <td>0.000</td>\n",
              "      <td>0.000</td>\n",
              "      <td>0.000</td>\n",
              "      <td>0.000</td>\n",
              "      <td>0.000</td>\n",
              "      <td>0.000</td>\n",
              "      <td>0.000</td>\n",
              "      <td>0.000</td>\n",
              "      <td>CONMEBOL</td>\n",
              "      <td>1993-08-08</td>\n",
              "      <td>1993-08-08</td>\n",
              "      <td>Ecuador</td>\n",
              "      <td>Venezuela</td>\n",
              "      <td>5</td>\n",
              "      <td>0</td>\n",
              "      <td>FIFA World Cup qualification</td>\n",
              "      <td>Quito</td>\n",
              "      <td>Ecuador</td>\n",
              "      <td>False</td>\n",
              "    </tr>\n",
              "  </tbody>\n",
              "</table>\n",
              "</div>"
            ],
            "text/plain": [
              "   Unnamed: 0  rank country_full  ...    city  country  neutral\n",
              "0           0     8       Brazil  ...  Maceió   Brazil    False\n",
              "1           1    35      Ecuador  ...   Quito  Ecuador    False\n",
              "\n",
              "[2 rows x 25 columns]"
            ]
          },
          "metadata": {
            "tags": []
          },
          "execution_count": 120
        }
      ]
    }
  ]
}