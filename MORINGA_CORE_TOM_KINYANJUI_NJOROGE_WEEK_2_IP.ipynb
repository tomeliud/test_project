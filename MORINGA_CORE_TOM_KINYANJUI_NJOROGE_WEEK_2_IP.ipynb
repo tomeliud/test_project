{
  "nbformat": 4,
  "nbformat_minor": 0,
  "metadata": {
    "colab": {
      "name": "MORINGA_CORE_TOM_KINYANJUI_NJOROGE_WEEK_2_IP ",
      "provenance": [],
      "toc_visible": true,
      "authorship_tag": "ABX9TyO6IDIY7cnNb3XDObMhWDIB",
      "include_colab_link": true
    },
    "kernelspec": {
      "name": "python3",
      "display_name": "Python 3"
    }
  },
  "cells": [
    {
      "cell_type": "markdown",
      "metadata": {
        "id": "view-in-github",
        "colab_type": "text"
      },
      "source": [
        "<a href=\"https://colab.research.google.com/github/tomeliud/test_project/blob/master/MORINGA_CORE_TOM_KINYANJUI_NJOROGE_WEEK_2_IP.ipynb\" target=\"_parent\"><img src=\"https://colab.research.google.com/assets/colab-badge.svg\" alt=\"Open In Colab\"/></a>"
      ]
    },
    {
      "cell_type": "markdown",
      "metadata": {
        "id": "-byijwCtr51U",
        "colab_type": "text"
      },
      "source": [
        "# Exploratory Data Analysis "
      ]
    },
    {
      "cell_type": "markdown",
      "metadata": {
        "id": "2WrhTpjhSDkw",
        "colab_type": "text"
      },
      "source": [
        "Financial Inclusion remains one of the main obstacles to economic and human development in Africa. For example, across Kenya, Rwanda, Tanzania, and Uganda only 9.1 million adults (or 13.9% of the adult population) have access to or use a commercial bank account.\n",
        "\n",
        "Traditionally, access to bank accounts has been regarded as an indicator of financial inclusion. Despite the proliferation of mobile money in Africa and the growth of innovative fintech solutions, banks still play a pivotal role in facilitating access to financial services. Access to bank accounts enables households to save and facilitate payments while also helping businesses build up their credit-worthiness and improve their access to other financial services. Therefore, access to bank accounts is an essential contributor to long-term economic growth.\n",
        "\n",
        "The research problem is to figure out how we can predict which individuals are most likely to have or use a bank account. Your solution will help provide an indication of the state of financial inclusion in Kenya, Rwanda, Tanzania, and Uganda, while providing insights into some of the key demographic factors that might drive individuals’ financial outcomes."
      ]
    },
    {
      "cell_type": "markdown",
      "metadata": {
        "id": "K_cA_uDGUZOA",
        "colab_type": "text"
      },
      "source": [
        "Defining the question "
      ]
    },
    {
      "cell_type": "markdown",
      "metadata": {
        "id": "SNwvoph2SbNW",
        "colab_type": "text"
      },
      "source": [
        "This workbook then will look into predicting the nature of individuals in relation to whether they have bank accounts and what factors could hinder them from seeking to own a bank account. Therefore, we will be looking into the relation of an individual to having a bank account to other factors such as thier area of residence i.e. rural or urban, thier age, type of jobs, among others since such factors significantly affect the possibility of an individual owning a bank account.  "
      ]
    },
    {
      "cell_type": "markdown",
      "metadata": {
        "id": "MyUdho77QjET",
        "colab_type": "text"
      },
      "source": [
        "# Importing relevant libraries "
      ]
    },
    {
      "cell_type": "code",
      "metadata": {
        "id": "Vibrqs8xsBck",
        "colab_type": "code",
        "colab": {}
      },
      "source": [
        "import pandas as pd \n",
        "import numpy as np \n",
        "import matplotlib.pyplot as plt \n",
        "import seaborn as sns \n",
        "from sklearn.model_selection import train_test_split\n",
        "from sklearn.preprocessing import StandardScaler\n",
        "from sklearn.discriminant_analysis import LinearDiscriminantAnalysis as LDA\n",
        "from sklearn.ensemble import RandomForestClassifier\n",
        "from sklearn.metrics import confusion_matrix\n",
        "from sklearn.metrics import accuracy_score\n",
        "#from factor_analyzer.factor_analyzer import calculate_kmo\n",
        "#from factor_analyzer.factor_analyzer import calculate_bartlett_sphericity"
      ],
      "execution_count": 0,
      "outputs": []
    },
    {
      "cell_type": "markdown",
      "metadata": {
        "id": "De_PqiAijVgC",
        "colab_type": "text"
      },
      "source": [
        "## Reading our dataset "
      ]
    },
    {
      "cell_type": "markdown",
      "metadata": {
        "id": "hFf4ZomFje4Z",
        "colab_type": "text"
      },
      "source": [
        "Loading data from source and previewing "
      ]
    },
    {
      "cell_type": "code",
      "metadata": {
        "id": "Ykg0O_52jm-L",
        "colab_type": "code",
        "colab": {
          "base_uri": "https://localhost:8080/",
          "height": 265
        },
        "outputId": "426e01db-502d-475e-ca12-baa289151d94"
      },
      "source": [
        "Finance_df = pd.read_csv('Financial Dataset - 1.csv')\n",
        "Finance_df.head(3)"
      ],
      "execution_count": 89,
      "outputs": [
        {
          "output_type": "execute_result",
          "data": {
            "text/html": [
              "<div>\n",
              "<style scoped>\n",
              "    .dataframe tbody tr th:only-of-type {\n",
              "        vertical-align: middle;\n",
              "    }\n",
              "\n",
              "    .dataframe tbody tr th {\n",
              "        vertical-align: top;\n",
              "    }\n",
              "\n",
              "    .dataframe thead th {\n",
              "        text-align: right;\n",
              "    }\n",
              "</style>\n",
              "<table border=\"1\" class=\"dataframe\">\n",
              "  <thead>\n",
              "    <tr style=\"text-align: right;\">\n",
              "      <th></th>\n",
              "      <th>country</th>\n",
              "      <th>year</th>\n",
              "      <th>uniqueid</th>\n",
              "      <th>Has a Bank account</th>\n",
              "      <th>Type of Location</th>\n",
              "      <th>Cell Phone Access</th>\n",
              "      <th>household_size</th>\n",
              "      <th>Respondent Age</th>\n",
              "      <th>gender_of_respondent</th>\n",
              "      <th>The relathip with head</th>\n",
              "      <th>marital_status</th>\n",
              "      <th>Level of Educuation</th>\n",
              "      <th>Type of Job</th>\n",
              "    </tr>\n",
              "  </thead>\n",
              "  <tbody>\n",
              "    <tr>\n",
              "      <th>0</th>\n",
              "      <td>Kenya</td>\n",
              "      <td>2018</td>\n",
              "      <td>uniqueid_1</td>\n",
              "      <td>Yes</td>\n",
              "      <td>Rural</td>\n",
              "      <td>Yes</td>\n",
              "      <td>3.0</td>\n",
              "      <td>24.0</td>\n",
              "      <td>Female</td>\n",
              "      <td>Spouse</td>\n",
              "      <td>Married/Living together</td>\n",
              "      <td>Secondary education</td>\n",
              "      <td>Self employed</td>\n",
              "    </tr>\n",
              "    <tr>\n",
              "      <th>1</th>\n",
              "      <td>Kenya</td>\n",
              "      <td>2018</td>\n",
              "      <td>uniqueid_2</td>\n",
              "      <td>No</td>\n",
              "      <td>Rural</td>\n",
              "      <td>No</td>\n",
              "      <td>5.0</td>\n",
              "      <td>70.0</td>\n",
              "      <td>Female</td>\n",
              "      <td>Head of Household</td>\n",
              "      <td>Widowed</td>\n",
              "      <td>No formal education</td>\n",
              "      <td>Government Dependent</td>\n",
              "    </tr>\n",
              "    <tr>\n",
              "      <th>2</th>\n",
              "      <td>Kenya</td>\n",
              "      <td>2018</td>\n",
              "      <td>uniqueid_3</td>\n",
              "      <td>Yes</td>\n",
              "      <td>Urban</td>\n",
              "      <td>Yes</td>\n",
              "      <td>5.0</td>\n",
              "      <td>26.0</td>\n",
              "      <td>Male</td>\n",
              "      <td>Other relative</td>\n",
              "      <td>Single/Never Married</td>\n",
              "      <td>Vocational/Specialised training</td>\n",
              "      <td>Self employed</td>\n",
              "    </tr>\n",
              "  </tbody>\n",
              "</table>\n",
              "</div>"
            ],
            "text/plain": [
              "  country  year  ...              Level of Educuation           Type of Job\n",
              "0   Kenya  2018  ...              Secondary education         Self employed\n",
              "1   Kenya  2018  ...              No formal education  Government Dependent\n",
              "2   Kenya  2018  ...  Vocational/Specialised training         Self employed\n",
              "\n",
              "[3 rows x 13 columns]"
            ]
          },
          "metadata": {
            "tags": []
          },
          "execution_count": 89
        }
      ]
    },
    {
      "cell_type": "markdown",
      "metadata": {
        "id": "dr_l9ChakaU5",
        "colab_type": "text"
      },
      "source": [
        "Checking the nature of our dataset "
      ]
    },
    {
      "cell_type": "code",
      "metadata": {
        "id": "j_AV-poukciZ",
        "colab_type": "code",
        "colab": {
          "base_uri": "https://localhost:8080/",
          "height": 294
        },
        "outputId": "c624f6b6-c2cb-478d-8397-31a26abad7d5"
      },
      "source": [
        "Finance_df.describe()"
      ],
      "execution_count": 5,
      "outputs": [
        {
          "output_type": "execute_result",
          "data": {
            "text/html": [
              "<div>\n",
              "<style scoped>\n",
              "    .dataframe tbody tr th:only-of-type {\n",
              "        vertical-align: middle;\n",
              "    }\n",
              "\n",
              "    .dataframe tbody tr th {\n",
              "        vertical-align: top;\n",
              "    }\n",
              "\n",
              "    .dataframe thead th {\n",
              "        text-align: right;\n",
              "    }\n",
              "</style>\n",
              "<table border=\"1\" class=\"dataframe\">\n",
              "  <thead>\n",
              "    <tr style=\"text-align: right;\">\n",
              "      <th></th>\n",
              "      <th>year</th>\n",
              "      <th>household_size</th>\n",
              "      <th>Respondent Age</th>\n",
              "    </tr>\n",
              "  </thead>\n",
              "  <tbody>\n",
              "    <tr>\n",
              "      <th>count</th>\n",
              "      <td>23524.000000</td>\n",
              "      <td>23496.000000</td>\n",
              "      <td>23490.000000</td>\n",
              "    </tr>\n",
              "    <tr>\n",
              "      <th>mean</th>\n",
              "      <td>2016.979000</td>\n",
              "      <td>3.681818</td>\n",
              "      <td>38.804300</td>\n",
              "    </tr>\n",
              "    <tr>\n",
              "      <th>std</th>\n",
              "      <td>0.899669</td>\n",
              "      <td>2.279933</td>\n",
              "      <td>16.519996</td>\n",
              "    </tr>\n",
              "    <tr>\n",
              "      <th>min</th>\n",
              "      <td>2016.000000</td>\n",
              "      <td>0.000000</td>\n",
              "      <td>16.000000</td>\n",
              "    </tr>\n",
              "    <tr>\n",
              "      <th>25%</th>\n",
              "      <td>2016.000000</td>\n",
              "      <td>2.000000</td>\n",
              "      <td>26.000000</td>\n",
              "    </tr>\n",
              "    <tr>\n",
              "      <th>50%</th>\n",
              "      <td>2017.000000</td>\n",
              "      <td>3.000000</td>\n",
              "      <td>35.000000</td>\n",
              "    </tr>\n",
              "    <tr>\n",
              "      <th>75%</th>\n",
              "      <td>2018.000000</td>\n",
              "      <td>5.000000</td>\n",
              "      <td>49.000000</td>\n",
              "    </tr>\n",
              "    <tr>\n",
              "      <th>max</th>\n",
              "      <td>2056.000000</td>\n",
              "      <td>21.000000</td>\n",
              "      <td>100.000000</td>\n",
              "    </tr>\n",
              "  </tbody>\n",
              "</table>\n",
              "</div>"
            ],
            "text/plain": [
              "               year  household_size  Respondent Age\n",
              "count  23524.000000    23496.000000    23490.000000\n",
              "mean    2016.979000        3.681818       38.804300\n",
              "std        0.899669        2.279933       16.519996\n",
              "min     2016.000000        0.000000       16.000000\n",
              "25%     2016.000000        2.000000       26.000000\n",
              "50%     2017.000000        3.000000       35.000000\n",
              "75%     2018.000000        5.000000       49.000000\n",
              "max     2056.000000       21.000000      100.000000"
            ]
          },
          "metadata": {
            "tags": []
          },
          "execution_count": 5
        }
      ]
    },
    {
      "cell_type": "code",
      "metadata": {
        "id": "U2OloP6gkode",
        "colab_type": "code",
        "colab": {
          "base_uri": "https://localhost:8080/",
          "height": 260
        },
        "outputId": "4fea74d6-dc7a-48cd-fc4f-00fca711d964"
      },
      "source": [
        "Finance_df.dtypes "
      ],
      "execution_count": 6,
      "outputs": [
        {
          "output_type": "execute_result",
          "data": {
            "text/plain": [
              "country                    object\n",
              "year                        int64\n",
              "uniqueid                   object\n",
              "Has a Bank account         object\n",
              "Type of Location           object\n",
              "Cell Phone Access          object\n",
              "household_size            float64\n",
              "Respondent Age            float64\n",
              "gender_of_respondent       object\n",
              "The relathip with head     object\n",
              "marital_status             object\n",
              "Level of Educuation        object\n",
              "Type of Job                object\n",
              "dtype: object"
            ]
          },
          "metadata": {
            "tags": []
          },
          "execution_count": 6
        }
      ]
    },
    {
      "cell_type": "code",
      "metadata": {
        "id": "IwgL9Zb7VJgr",
        "colab_type": "code",
        "colab": {
          "base_uri": "https://localhost:8080/",
          "height": 260
        },
        "outputId": "22aece13-3f7c-43f5-994d-1b08caab2496"
      },
      "source": [
        "Finance_df.count()"
      ],
      "execution_count": 7,
      "outputs": [
        {
          "output_type": "execute_result",
          "data": {
            "text/plain": [
              "country                   8432\n",
              "year                      8432\n",
              "uniqueid                  8432\n",
              "Has a Bank account        8432\n",
              "Type of Location          8432\n",
              "Cell Phone Access         8432\n",
              "household_size            8432\n",
              "Respondent Age            8425\n",
              "gender_of_respondent      8428\n",
              "The relathip with head    8432\n",
              "marital_status            8432\n",
              "Level of Educuation       8431\n",
              "Type of Job               8431\n",
              "dtype: int64"
            ]
          },
          "metadata": {
            "tags": []
          },
          "execution_count": 7
        }
      ]
    },
    {
      "cell_type": "code",
      "metadata": {
        "id": "cR5HuJyJVpsV",
        "colab_type": "code",
        "colab": {
          "base_uri": "https://localhost:8080/",
          "height": 364
        },
        "outputId": "90209ae3-2228-45e5-d9c6-4111ed973931"
      },
      "source": [
        "Finance_df.info()"
      ],
      "execution_count": 8,
      "outputs": [
        {
          "output_type": "stream",
          "text": [
            "<class 'pandas.core.frame.DataFrame'>\n",
            "RangeIndex: 8432 entries, 0 to 8431\n",
            "Data columns (total 13 columns):\n",
            " #   Column                  Non-Null Count  Dtype  \n",
            "---  ------                  --------------  -----  \n",
            " 0   country                 8432 non-null   object \n",
            " 1   year                    8432 non-null   int64  \n",
            " 2   uniqueid                8432 non-null   object \n",
            " 3   Has a Bank account      8432 non-null   object \n",
            " 4   Type of Location        8432 non-null   object \n",
            " 5   Cell Phone Access       8432 non-null   object \n",
            " 6   household_size          8432 non-null   int64  \n",
            " 7   Respondent Age          8425 non-null   float64\n",
            " 8   gender_of_respondent    8428 non-null   object \n",
            " 9   The relathip with head  8432 non-null   object \n",
            " 10  marital_status          8432 non-null   object \n",
            " 11  Level of Educuation     8431 non-null   object \n",
            " 12  Type of Job             8431 non-null   object \n",
            "dtypes: float64(1), int64(2), object(10)\n",
            "memory usage: 856.5+ KB\n"
          ],
          "name": "stdout"
        }
      ]
    },
    {
      "cell_type": "code",
      "metadata": {
        "id": "QH34gmeCV7Cq",
        "colab_type": "code",
        "colab": {
          "base_uri": "https://localhost:8080/",
          "height": 104
        },
        "outputId": "b68fd50b-7ebb-4adf-c771-01d70edb7b5b"
      },
      "source": [
        "Finance_df.columns"
      ],
      "execution_count": 10,
      "outputs": [
        {
          "output_type": "execute_result",
          "data": {
            "text/plain": [
              "Index(['country', 'year', 'uniqueid', 'Has a Bank account', 'Type of Location',\n",
              "       'Cell Phone Access', 'household_size', 'Respondent Age',\n",
              "       'gender_of_respondent', 'The relathip with head', 'marital_status',\n",
              "       'Level of Educuation', 'Type of Job'],\n",
              "      dtype='object')"
            ]
          },
          "metadata": {
            "tags": []
          },
          "execution_count": 10
        }
      ]
    },
    {
      "cell_type": "code",
      "metadata": {
        "id": "lsfxNTpQWPIe",
        "colab_type": "code",
        "colab": {
          "base_uri": "https://localhost:8080/",
          "height": 260
        },
        "outputId": "a0e3fb79-c273-402b-a84a-a0fd1cb3646a"
      },
      "source": [
        "Finance_df.nunique()"
      ],
      "execution_count": 13,
      "outputs": [
        {
          "output_type": "execute_result",
          "data": {
            "text/plain": [
              "country                      2\n",
              "year                         5\n",
              "uniqueid                  6068\n",
              "Has a Bank account           2\n",
              "Type of Location             2\n",
              "Cell Phone Access            2\n",
              "household_size              17\n",
              "Respondent Age              82\n",
              "gender_of_respondent         2\n",
              "The relathip with head       6\n",
              "marital_status               6\n",
              "Level of Educuation          7\n",
              "Type of Job                  9\n",
              "dtype: int64"
            ]
          },
          "metadata": {
            "tags": []
          },
          "execution_count": 13
        }
      ]
    },
    {
      "cell_type": "markdown",
      "metadata": {
        "id": "0BJ-e4FUWoLm",
        "colab_type": "text"
      },
      "source": [
        "Checking the particulars of our columns "
      ]
    },
    {
      "cell_type": "code",
      "metadata": {
        "id": "m_ArOJTdWvFE",
        "colab_type": "code",
        "colab": {
          "base_uri": "https://localhost:8080/",
          "height": 35
        },
        "outputId": "cbcd6a45-0198-4bf2-babf-541966c08608"
      },
      "source": [
        "Finance_df['country'].unique()"
      ],
      "execution_count": 22,
      "outputs": [
        {
          "output_type": "execute_result",
          "data": {
            "text/plain": [
              "array(['Kenya', 'Rwanda'], dtype=object)"
            ]
          },
          "metadata": {
            "tags": []
          },
          "execution_count": 22
        }
      ]
    },
    {
      "cell_type": "code",
      "metadata": {
        "id": "TZxGytnoYDwx",
        "colab_type": "code",
        "colab": {
          "base_uri": "https://localhost:8080/",
          "height": 35
        },
        "outputId": "fe547bb4-5ef8-410b-e853-3739735b74a8"
      },
      "source": [
        "Finance_df['Has a Bank account'].unique()"
      ],
      "execution_count": 16,
      "outputs": [
        {
          "output_type": "execute_result",
          "data": {
            "text/plain": [
              "array(['Yes', 'No'], dtype=object)"
            ]
          },
          "metadata": {
            "tags": []
          },
          "execution_count": 16
        }
      ]
    },
    {
      "cell_type": "code",
      "metadata": {
        "id": "YM-M4hYfYOoI",
        "colab_type": "code",
        "colab": {
          "base_uri": "https://localhost:8080/",
          "height": 104
        },
        "outputId": "ef856ffc-170b-4b7f-82ad-cad8c39017bc"
      },
      "source": [
        "Finance_df['Type of Job'].unique()"
      ],
      "execution_count": 17,
      "outputs": [
        {
          "output_type": "execute_result",
          "data": {
            "text/plain": [
              "array(['Self employed', 'Government Dependent',\n",
              "       'Formally employed Private', 'Informally employed',\n",
              "       'Formally employed Government', 'Farming and Fishing',\n",
              "       'Remittance Dependent', 'Other Income',\n",
              "       'Dont Know/Refuse to answer', nan], dtype=object)"
            ]
          },
          "metadata": {
            "tags": []
          },
          "execution_count": 17
        }
      ]
    },
    {
      "cell_type": "code",
      "metadata": {
        "id": "MbE5awcQYXew",
        "colab_type": "code",
        "colab": {
          "base_uri": "https://localhost:8080/",
          "height": 35
        },
        "outputId": "ec924696-71c4-4a0d-95bf-c4e60d95ab86"
      },
      "source": [
        "Finance_df['Type of Location'].unique()"
      ],
      "execution_count": 18,
      "outputs": [
        {
          "output_type": "execute_result",
          "data": {
            "text/plain": [
              "array(['Rural', 'Urban'], dtype=object)"
            ]
          },
          "metadata": {
            "tags": []
          },
          "execution_count": 18
        }
      ]
    },
    {
      "cell_type": "code",
      "metadata": {
        "id": "LG8QnjBHYeVm",
        "colab_type": "code",
        "colab": {
          "base_uri": "https://localhost:8080/",
          "height": 139
        },
        "outputId": "976fb99f-1a85-45ab-a2c7-060e08c76c8f"
      },
      "source": [
        "Finance_df['Respondent Age'].unique()"
      ],
      "execution_count": 29,
      "outputs": [
        {
          "output_type": "execute_result",
          "data": {
            "text/plain": [
              "array([24., 70., 26., 34., 32., 42., 54., 76., 40., 69., 64., 31., 38.,\n",
              "       47., 27., 48., 25., 21., 18., 22., 58., 55., 62., 29., 35., 45.,\n",
              "       67., 19., 80., 66., 50., 33., 28., 51., 16., 17., 30., 37., 59.,\n",
              "       65., 46., 56., 52., 23., 43., 49., 44., 72., 53., 63., 39., 81.,\n",
              "       78., 36., 20., 60., 95., 71., 57., 85., 68., 41., 61., 75., 86.,\n",
              "       73., nan, 93., 74., 88., 90., 77., 84., 82., 89., 79., 83., 94.,\n",
              "       87., 92., 91., 98., 97.])"
            ]
          },
          "metadata": {
            "tags": []
          },
          "execution_count": 29
        }
      ]
    },
    {
      "cell_type": "code",
      "metadata": {
        "id": "kaRi0FMZxg02",
        "colab_type": "code",
        "colab": {
          "base_uri": "https://localhost:8080/",
          "height": 35
        },
        "outputId": "401e253a-010a-422d-a3aa-21be4e10d85b"
      },
      "source": [
        "Finance_df['gender_of_respondent'].unique()"
      ],
      "execution_count": 31,
      "outputs": [
        {
          "output_type": "execute_result",
          "data": {
            "text/plain": [
              "array(['Female', 'Male', nan], dtype=object)"
            ]
          },
          "metadata": {
            "tags": []
          },
          "execution_count": 31
        }
      ]
    },
    {
      "cell_type": "markdown",
      "metadata": {
        "id": "cvbkrjF6tik-",
        "colab_type": "text"
      },
      "source": [
        "# Data Cleaning "
      ]
    },
    {
      "cell_type": "markdown",
      "metadata": {
        "id": "GCbE4z7ftnBA",
        "colab_type": "text"
      },
      "source": [
        "We will carry out data cleaning \n",
        "\n",
        "For instance, to check for outliers we will need to have our columns in a float format  "
      ]
    },
    {
      "cell_type": "markdown",
      "metadata": {
        "id": "GDCYsey6rGEb",
        "colab_type": "text"
      },
      "source": [
        "Changing column names with object to float \n",
        "\n",
        "NB: we will only chnage the columns that we will be working with "
      ]
    },
    {
      "cell_type": "code",
      "metadata": {
        "id": "vNjWC6BJrMs0",
        "colab_type": "code",
        "colab": {}
      },
      "source": [
        "bank = {'Yes': 1, 'No': 0}\n",
        "location = {\"Urban\":1, \"Rural\":0}\n",
        "gender = {\"Male\":1, \"Female\":0}\n",
        "job = {\"Self employed\": 1, \"Government Dependent\": 2, \"Formally employed Private\": 3, \"Informally employed\": 4, \"Formally employed Government\": 5, \"Farming and Fishing\": 6, \"Remittance Dependent\": 7, \"Other Income\": 8, \"Dont Know/Refuse to answer\": 9 }\n",
        "\n",
        "Finance_df['Has a Bank account'] = Finance_df['Has a Bank account'].map(bank)\n",
        "Finance_df['Type of Location'] = Finance_df['Type of Location'].map(location)\n",
        "Finance_df['Type of Job'] = Finance_df['Type of Job'].map(job)\n",
        "Finance_df['gender_of_respondent'] = Finance_df['gender_of_respondent'].map(gender)"
      ],
      "execution_count": 0,
      "outputs": []
    },
    {
      "cell_type": "code",
      "metadata": {
        "id": "bb54haQA0VLD",
        "colab_type": "code",
        "colab": {
          "base_uri": "https://localhost:8080/",
          "height": 35
        },
        "outputId": "73b0fe85-f4b4-4728-e598-b8347fa37768"
      },
      "source": [
        "Finance_df.isnull().values.any()"
      ],
      "execution_count": 36,
      "outputs": [
        {
          "output_type": "execute_result",
          "data": {
            "text/plain": [
              "True"
            ]
          },
          "metadata": {
            "tags": []
          },
          "execution_count": 36
        }
      ]
    },
    {
      "cell_type": "markdown",
      "metadata": {
        "id": "INI23kiVk5qu",
        "colab_type": "text"
      },
      "source": [
        "# Univariate analysis "
      ]
    },
    {
      "cell_type": "markdown",
      "metadata": {
        "id": "VMcOG88_lDDL",
        "colab_type": "text"
      },
      "source": [
        "Checking for outliers "
      ]
    },
    {
      "cell_type": "code",
      "metadata": {
        "id": "9QiCxY9ezfM7",
        "colab_type": "code",
        "colab": {
          "base_uri": "https://localhost:8080/",
          "height": 608
        },
        "outputId": "4ed70785-ce43-4b10-9b33-8d5cd445fe71"
      },
      "source": [
        "col_names = ['household_size', 'Respondent Age']\n",
        "\n",
        "fig, ax = plt.subplots(len(col_names), figsize=(8,10))\n",
        "\n",
        "for i, col_val in enumerate(col_names):\n",
        "  sns.boxplot(y=Finance_df[col_val], notch=True, ax=ax[i])\n",
        "  ax[i].set_title(\"Box plot - {}\".format(col_val), fontsize=10)\n",
        "  ax[i].set_xlabel(col_val, fontsize=8)\n",
        "\n",
        "plt.show()"
      ],
      "execution_count": 58,
      "outputs": [
        {
          "output_type": "display_data",
          "data": {
            "image/png": "[encoded data removed]",
            "text/plain": [
              "<Figure size 576x720 with 2 Axes>"
            ]
          },
          "metadata": {
            "tags": [],
            "needs_background": "light"
          }
        }
      ]
    },
    {
      "cell_type": "markdown",
      "metadata": {
        "id": "dBFTIpd_C5IG",
        "colab_type": "text"
      },
      "source": [
        "Household size versus country "
      ]
    },
    {
      "cell_type": "code",
      "metadata": {
        "id": "NlXa3MiDC8tQ",
        "colab_type": "code",
        "colab": {
          "base_uri": "https://localhost:8080/",
          "height": 264
        },
        "outputId": "5e9aad1b-2175-4705-d349-b43efdc59412"
      },
      "source": [
        "country = Finance_df.groupby(['country'])['household_size'].sum()\n",
        "labels = ['Kenya', 'Rwanda', 'Tanzania', 'Uganda']\n",
        "plt.pie(country, labels = labels, autopct = '%1.1f%%', shadow = True, startangle = 140)\n",
        "plt.axis('equal')\n",
        "plt.title('Pie Chart of Household Size per Country')\n",
        "plt.show()"
      ],
      "execution_count": 61,
      "outputs": [
        {
          "output_type": "display_data",
          "data": {
            "image/png": "[encoded data removed]",
            "text/plain": [
              "<Figure size 432x288 with 1 Axes>"
            ]
          },
          "metadata": {
            "tags": []
          }
        }
      ]
    },
    {
      "cell_type": "markdown",
      "metadata": {
        "id": "yiuM9f6QDZxl",
        "colab_type": "text"
      },
      "source": [
        "Respondent's age versus relation to country  "
      ]
    },
    {
      "cell_type": "code",
      "metadata": {
        "id": "Vr02_THsDmVa",
        "colab_type": "code",
        "colab": {
          "base_uri": "https://localhost:8080/",
          "height": 264
        },
        "outputId": "93853ee4-f121-4e5a-f90a-57383fc9d151"
      },
      "source": [
        "country = Finance_df.groupby(['country'])['Respondent Age'].sum()\n",
        "labels = ['Kenya', 'Rwanda', 'Tanzania', 'Uganda']\n",
        "plt.pie(country, labels = labels, autopct = '%1.1f%%', shadow = True, startangle = 140)\n",
        "plt.axis('equal')\n",
        "plt.title('Pie Chart of Respondent Age per Country')\n",
        "plt.show()"
      ],
      "execution_count": 63,
      "outputs": [
        {
          "output_type": "display_data",
          "data": {
            "image/png": "[encoded data removed]",
            "text/plain": [
              "<Figure size 432x288 with 1 Axes>"
            ]
          },
          "metadata": {
            "tags": []
          }
        }
      ]
    },
    {
      "cell_type": "markdown",
      "metadata": {
        "id": "gPFd2YA8FB18",
        "colab_type": "text"
      },
      "source": [
        "Exploratory analysis"
      ]
    },
    {
      "cell_type": "code",
      "metadata": {
        "id": "pAeoixOX9oqn",
        "colab_type": "code",
        "colab": {
          "base_uri": "https://localhost:8080/",
          "height": 618
        },
        "outputId": "311e997f-a475-421a-dc70-555f26a249f7"
      },
      "source": [
        "col_names = ['household_size', 'Respondent Age']\n",
        "\n",
        "fig, ax = plt.subplots(len(col_names), figsize=(8,10))\n",
        "\n",
        "for i, col_val in enumerate(col_names):\n",
        "  sns.distplot(Finance_df[col_val], hist=True, ax=ax[i])\n",
        "  ax[i].set_title(\"Box plot - {}\".format(col_val), fontsize=10)\n",
        "  ax[i].set_xlabel(col_val, fontsize=8)\n",
        "\n",
        "plt.show()"
      ],
      "execution_count": 56,
      "outputs": [
        {
          "output_type": "display_data",
          "data": {
            "image/png": "[encoded data removed]",
            "text/plain": [
              "<Figure size 576x720 with 2 Axes>"
            ]
          },
          "metadata": {
            "tags": [],
            "needs_background": "light"
          }
        }
      ]
    },
    {
      "cell_type": "markdown",
      "metadata": {
        "id": "q9exlLcaFQG6",
        "colab_type": "text"
      },
      "source": [
        "Implementing the solution "
      ]
    },
    {
      "cell_type": "code",
      "metadata": {
        "id": "DnnNQ8AwFTmR",
        "colab_type": "code",
        "colab": {
          "base_uri": "https://localhost:8080/",
          "height": 618
        },
        "outputId": "82d7a329-855c-4d8c-e4c3-3f4464acfe94"
      },
      "source": [
        "def percentile_outlier(data, threshold=95):\n",
        "  diff = (100 - threshold)/2\n",
        "  minval, maxval = np.percentile(data, [diff, 100-diff])\n",
        "  return (data<minval) | (data>maxval)\n",
        "col_names = ['household_size', 'Respondent Age']\n",
        "fig, ax = plt.subplots(len(col_names), figsize=(8,10))\n",
        "for i, col_val in enumerate(col_names):\n",
        "  x = Finance_df[col_val][:100]\n",
        "  sns.distplot(Finance_df[col_val], hist=True, ax=ax[i])\n",
        "  outliers = x[percentile_based_outlier(x)]\n",
        "  ax[i].plot(outliers, np.zeros_like(outliers), 'ro', clip_on=False)\n",
        "  ax[i].set_title(\"Box plot - {}\".format(col_val), fontsize=10)\n",
        "  ax[i].set_xlabel(col_val, fontsize=8)\n",
        "plt.show()"
      ],
      "execution_count": 68,
      "outputs": [
        {
          "output_type": "display_data",
          "data": {
            "image/png": "[encoded data removed]",
            "text/plain": [
              "<Figure size 576x720 with 2 Axes>"
            ]
          },
          "metadata": {
            "tags": [],
            "needs_background": "light"
          }
        }
      ]
    },
    {
      "cell_type": "markdown",
      "metadata": {
        "id": "3-zIjeb5GenN",
        "colab_type": "text"
      },
      "source": [
        "# Bivariate analysis "
      ]
    },
    {
      "cell_type": "markdown",
      "metadata": {
        "id": "4E6PFcbXGi08",
        "colab_type": "text"
      },
      "source": [
        "Tidying the dataset "
      ]
    },
    {
      "cell_type": "code",
      "metadata": {
        "id": "Lt4uGC7hHoJS",
        "colab_type": "code",
        "colab": {
          "base_uri": "https://localhost:8080/",
          "height": 222
        },
        "outputId": "382e0485-b67a-4004-9453-05822df9102b"
      },
      "source": [
        "Finance_df.columns = Finance_df.columns.str.replace(\" \", \"_\")\n",
        "Finance_df.head(5)"
      ],
      "execution_count": 87,
      "outputs": [
        {
          "output_type": "execute_result",
          "data": {
            "text/html": [
              "<div>\n",
              "<style scoped>\n",
              "    .dataframe tbody tr th:only-of-type {\n",
              "        vertical-align: middle;\n",
              "    }\n",
              "\n",
              "    .dataframe tbody tr th {\n",
              "        vertical-align: top;\n",
              "    }\n",
              "\n",
              "    .dataframe thead th {\n",
              "        text-align: right;\n",
              "    }\n",
              "</style>\n",
              "<table border=\"1\" class=\"dataframe\">\n",
              "  <thead>\n",
              "    <tr style=\"text-align: right;\">\n",
              "      <th></th>\n",
              "      <th>country</th>\n",
              "      <th>Has_a_Bank_account</th>\n",
              "      <th>Type_of_Location</th>\n",
              "      <th>Cell_Phone_Access</th>\n",
              "      <th>household_size</th>\n",
              "      <th>Respondent_Age</th>\n",
              "      <th>gender_of_respondent</th>\n",
              "    </tr>\n",
              "  </thead>\n",
              "  <tbody>\n",
              "    <tr>\n",
              "      <th>0</th>\n",
              "      <td>Kenya</td>\n",
              "      <td>1.0</td>\n",
              "      <td>0.0</td>\n",
              "      <td>Yes</td>\n",
              "      <td>3.0</td>\n",
              "      <td>24.0</td>\n",
              "      <td>0.0</td>\n",
              "    </tr>\n",
              "    <tr>\n",
              "      <th>1</th>\n",
              "      <td>Kenya</td>\n",
              "      <td>0.0</td>\n",
              "      <td>0.0</td>\n",
              "      <td>No</td>\n",
              "      <td>5.0</td>\n",
              "      <td>70.0</td>\n",
              "      <td>0.0</td>\n",
              "    </tr>\n",
              "    <tr>\n",
              "      <th>2</th>\n",
              "      <td>Kenya</td>\n",
              "      <td>1.0</td>\n",
              "      <td>1.0</td>\n",
              "      <td>Yes</td>\n",
              "      <td>5.0</td>\n",
              "      <td>26.0</td>\n",
              "      <td>1.0</td>\n",
              "    </tr>\n",
              "    <tr>\n",
              "      <th>3</th>\n",
              "      <td>Kenya</td>\n",
              "      <td>0.0</td>\n",
              "      <td>0.0</td>\n",
              "      <td>Yes</td>\n",
              "      <td>5.0</td>\n",
              "      <td>34.0</td>\n",
              "      <td>0.0</td>\n",
              "    </tr>\n",
              "    <tr>\n",
              "      <th>4</th>\n",
              "      <td>Kenya</td>\n",
              "      <td>0.0</td>\n",
              "      <td>1.0</td>\n",
              "      <td>No</td>\n",
              "      <td>8.0</td>\n",
              "      <td>26.0</td>\n",
              "      <td>1.0</td>\n",
              "    </tr>\n",
              "  </tbody>\n",
              "</table>\n",
              "</div>"
            ],
            "text/plain": [
              "  country  Has_a_Bank_account  ...  Respondent_Age gender_of_respondent\n",
              "0   Kenya                 1.0  ...            24.0                  0.0\n",
              "1   Kenya                 0.0  ...            70.0                  0.0\n",
              "2   Kenya                 1.0  ...            26.0                  1.0\n",
              "3   Kenya                 0.0  ...            34.0                  0.0\n",
              "4   Kenya                 0.0  ...            26.0                  1.0\n",
              "\n",
              "[5 rows x 7 columns]"
            ]
          },
          "metadata": {
            "tags": []
          },
          "execution_count": 87
        }
      ]
    },
    {
      "cell_type": "markdown",
      "metadata": {
        "id": "aQ1yKZsJIZ59",
        "colab_type": "text"
      },
      "source": [
        "Checking for outliers "
      ]
    },
    {
      "cell_type": "code",
      "metadata": {
        "id": "zqY2tFw5Ic0q",
        "colab_type": "code",
        "colab": {
          "base_uri": "https://localhost:8080/",
          "height": 606
        },
        "outputId": "f11baf90-060e-42fc-99de-196c9550535f"
      },
      "source": [
        "col_names = ['household_size', 'Respondent_Age']\n",
        "fig, ax = plt.subplots(len(col_names), figsize=(7,10))\n",
        "for i, col_val in enumerate(col_names):\n",
        "  sns.boxplot(Finance_df[col_val], ax=ax[i])\n",
        "plt.show()"
      ],
      "execution_count": 78,
      "outputs": [
        {
          "output_type": "display_data",
          "data": {
            "image/png": "[encoded data removed]",
            "text/plain": [
              "<Figure size 504x720 with 2 Axes>"
            ]
          },
          "metadata": {
            "tags": [],
            "needs_background": "light"
          }
        }
      ]
    },
    {
      "cell_type": "markdown",
      "metadata": {
        "id": "y4efSPQFJLlS",
        "colab_type": "text"
      },
      "source": [
        "Selecting numerical columns "
      ]
    },
    {
      "cell_type": "code",
      "metadata": {
        "id": "NASvzUvFJTAm",
        "colab_type": "code",
        "colab": {}
      },
      "source": [
        "Finance_df.n = Finance_df.iloc[:, 6:8]"
      ],
      "execution_count": 0,
      "outputs": []
    },
    {
      "cell_type": "markdown",
      "metadata": {
        "id": "bLX5m8ETJxnq",
        "colab_type": "text"
      },
      "source": [
        "Exploratory Analysis "
      ]
    },
    {
      "cell_type": "markdown",
      "metadata": {
        "id": "v8xizEtqJ60F",
        "colab_type": "text"
      },
      "source": [
        "Bivariate summaries "
      ]
    },
    {
      "cell_type": "code",
      "metadata": {
        "id": "rgs_3qN7J_xG",
        "colab_type": "code",
        "colab": {
          "base_uri": "https://localhost:8080/",
          "height": 387
        },
        "outputId": "53f789b3-63e4-46b3-de70-605eb2064c47"
      },
      "source": [
        "sns.pairplot(Finance_df.n)\n",
        "plt.show()"
      ],
      "execution_count": 81,
      "outputs": [
        {
          "output_type": "display_data",
          "data": {
            "image/png": "[encoded data removed]",
            "text/plain": [
              "<Figure size 360x360 with 6 Axes>"
            ]
          },
          "metadata": {
            "tags": [],
            "needs_background": "light"
          }
        }
      ]
    },
    {
      "cell_type": "markdown",
      "metadata": {
        "id": "QZGgewrrLEYA",
        "colab_type": "text"
      },
      "source": [
        "Implementing the solution "
      ]
    },
    {
      "cell_type": "markdown",
      "metadata": {
        "id": "5TngC_TgLMcX",
        "colab_type": "text"
      },
      "source": [
        "Checking for anomalies"
      ]
    },
    {
      "cell_type": "code",
      "metadata": {
        "id": "teS-VUsFLe06",
        "colab_type": "code",
        "colab": {
          "base_uri": "https://localhost:8080/",
          "height": 87
        },
        "outputId": "8de4649f-13b4-4c36-ab8a-b389832fed0a"
      },
      "source": [
        "w, z = np.percentile(Finance_df.n['household_size'], [25, 75]) \n",
        "a = w - z\n",
        "x = a - (1.5*a)\n",
        "y = z + (1.5 * a)\n",
        "\n",
        "print(f\"   household_size\\nLower - {x}\\nUpper - {y}\\nIQR - {a}\")"
      ],
      "execution_count": 83,
      "outputs": [
        {
          "output_type": "stream",
          "text": [
            "   household_size\n",
            "Lower - nan\n",
            "Upper - nan\n",
            "IQR - nan\n"
          ],
          "name": "stdout"
        }
      ]
    },
    {
      "cell_type": "markdown",
      "metadata": {
        "id": "xmoizYvTMz6B",
        "colab_type": "text"
      },
      "source": [
        "Heatmap"
      ]
    },
    {
      "cell_type": "code",
      "metadata": {
        "id": "fDUVb7PJMoux",
        "colab_type": "code",
        "colab": {
          "base_uri": "https://localhost:8080/",
          "height": 277
        },
        "outputId": "892ec595-7aa9-4509-8272-a0cd61b75ca2"
      },
      "source": [
        "sns.heatmap(Finance_df.n.corr(), annot=True)\n",
        "plt.show()"
      ],
      "execution_count": 84,
      "outputs": [
        {
          "output_type": "display_data",
          "data": {
            "image/png": "[encoded data removed]",
            "text/plain": [
              "<Figure size 432x288 with 2 Axes>"
            ]
          },
          "metadata": {
            "tags": [],
            "needs_background": "light"
          }
        }
      ]
    },
    {
      "cell_type": "markdown",
      "metadata": {
        "id": "lUrEcZeeM9gn",
        "colab_type": "text"
      },
      "source": [
        "# Mulitivariate analysis "
      ]
    },
    {
      "cell_type": "markdown",
      "metadata": {
        "id": "iabF6kCCNFbI",
        "colab_type": "text"
      },
      "source": [
        "Principal Component analysis (PCA)"
      ]
    },
    {
      "cell_type": "markdown",
      "metadata": {
        "id": "QQ5xGVAzOEl-",
        "colab_type": "text"
      },
      "source": [
        "Droping uncessary columns "
      ]
    },
    {
      "cell_type": "code",
      "metadata": {
        "id": "0hGtt79XN3Wo",
        "colab_type": "code",
        "colab": {}
      },
      "source": [
        "Finance_df.drop(['year', 'uniqueid','The_relathip_with_head', 'marital_status', 'Level_of_Educuation', 'Type_of_Job'],axis=1,inplace=True)\n"
      ],
      "execution_count": 0,
      "outputs": []
    },
    {
      "cell_type": "markdown",
      "metadata": {
        "id": "Sq2iWy0LPI9Z",
        "colab_type": "text"
      },
      "source": [
        "Feature set and corresponding label "
      ]
    },
    {
      "cell_type": "code",
      "metadata": {
        "id": "HxO66xGuPURS",
        "colab_type": "code",
        "colab": {}
      },
      "source": [
        "X = Finance_df.iloc[:, 4:9]\n",
        "Y = Finance_df['Has a Bank account']"
      ],
      "execution_count": 0,
      "outputs": []
    },
    {
      "cell_type": "markdown",
      "metadata": {
        "id": "DXgIek2NOp_d",
        "colab_type": "text"
      },
      "source": [
        "spliting dataset into training set and test set "
      ]
    },
    {
      "cell_type": "code",
      "metadata": {
        "id": "OWRZWTm6PAhd",
        "colab_type": "code",
        "colab": {}
      },
      "source": [
        "from sklearn.model_selection import train_test_split\n",
        "X_train, X_test, y_train, y_test = train_test_split(X, y, test_size=0.2, random_state=0)"
      ],
      "execution_count": 0,
      "outputs": []
    },
    {
      "cell_type": "markdown",
      "metadata": {
        "id": "mzGqowg7QANG",
        "colab_type": "text"
      },
      "source": [
        "Normalizaion "
      ]
    },
    {
      "cell_type": "code",
      "metadata": {
        "id": "F-0pSQkZP61u",
        "colab_type": "code",
        "colab": {}
      },
      "source": [
        "from sklearn.preprocessing import StandardScaler\n",
        "sc = StandardScaler()\n",
        "X_train = sc.fit_transform(X_train)\n",
        "X_test = sc.transform(X_test)"
      ],
      "execution_count": 0,
      "outputs": []
    },
    {
      "cell_type": "markdown",
      "metadata": {
        "id": "2SHzS4MwQHbG",
        "colab_type": "text"
      },
      "source": [
        "Applying PCA "
      ]
    },
    {
      "cell_type": "code",
      "metadata": {
        "id": "F1y9AIS-QN4X",
        "colab_type": "code",
        "colab": {}
      },
      "source": [
        "from sklearn.preprocessing import StandardScaler\n",
        "\n",
        "sc = StandardScaler()\n",
        "X_train = sc.fit_transform(X_train)\n",
        "X_test = sc.transform(X_test)"
      ],
      "execution_count": 0,
      "outputs": []
    },
    {
      "cell_type": "markdown",
      "metadata": {
        "id": "qfCHhL8vRM_1",
        "colab_type": "text"
      },
      "source": [
        "Factor analysis "
      ]
    },
    {
      "cell_type": "markdown",
      "metadata": {
        "id": "8qlSI0wxRQC-",
        "colab_type": "text"
      },
      "source": [
        "Preprocessing "
      ]
    },
    {
      "cell_type": "code",
      "metadata": {
        "id": "VtWmg6qsRy1J",
        "colab_type": "code",
        "colab": {}
      },
      "source": [
        "X = Finance_df.iloc[:, 1:6]\n",
        "y = Finance_df[\"Has a Bank account\"]"
      ],
      "execution_count": 0,
      "outputs": []
    },
    {
      "cell_type": "markdown",
      "metadata": {
        "id": "I66VQzTUSBKj",
        "colab_type": "text"
      },
      "source": [
        "sphericity check"
      ]
    },
    {
      "cell_type": "code",
      "metadata": {
        "id": "Q1mGfB71SHVC",
        "colab_type": "code",
        "colab": {
          "base_uri": "https://localhost:8080/",
          "height": 35
        },
        "outputId": "8e745b0d-eb8b-4d86-9cad-52ac8bd82df1"
      },
      "source": [
        "from factor_analyzer.factor_analyzer import calculate_bartlett_sphericity\n",
        "chi_square_value,p_value=calculate_bartlett_sphericity(Finance_df)\n",
        "chi_square_value, p_value"
      ],
      "execution_count": 116,
      "outputs": [
        {
          "output_type": "execute_result",
          "data": {
            "text/plain": [
              "(6812.5605857337005, 0.0)"
            ]
          },
          "metadata": {
            "tags": []
          },
          "execution_count": 116
        }
      ]
    },
    {
      "cell_type": "code",
      "metadata": {
        "id": "Tl0Ejz4CSxJ5",
        "colab_type": "code",
        "colab": {
          "base_uri": "https://localhost:8080/",
          "height": 211
        },
        "outputId": "8137bc9b-ee00-484a-f906-2fa492b621e0"
      },
      "source": [
        "pip install factor_analyzer==0.2.3"
      ],
      "execution_count": 115,
      "outputs": [
        {
          "output_type": "stream",
          "text": [
            "Collecting factor_analyzer==0.2.3\n",
            "  Downloading https://files.pythonhosted.org/packages/79/1b/84808bbeee0f3a8753c3d8034baf0aa0013cf08957eff750f366ce83f04a/factor_analyzer-0.2.3-py2.py3-none-any.whl\n",
            "Requirement already satisfied: scipy in /usr/local/lib/python3.6/dist-packages (from factor_analyzer==0.2.3) (1.4.1)\n",
            "Requirement already satisfied: pandas in /usr/local/lib/python3.6/dist-packages (from factor_analyzer==0.2.3) (1.0.3)\n",
            "Requirement already satisfied: numpy in /usr/local/lib/python3.6/dist-packages (from factor_analyzer==0.2.3) (1.18.3)\n",
            "Requirement already satisfied: pytz>=2017.2 in /usr/local/lib/python3.6/dist-packages (from pandas->factor_analyzer==0.2.3) (2018.9)\n",
            "Requirement already satisfied: python-dateutil>=2.6.1 in /usr/local/lib/python3.6/dist-packages (from pandas->factor_analyzer==0.2.3) (2.8.1)\n",
            "Requirement already satisfied: six>=1.5 in /usr/local/lib/python3.6/dist-packages (from python-dateutil>=2.6.1->pandas->factor_analyzer==0.2.3) (1.12.0)\n",
            "Installing collected packages: factor-analyzer\n",
            "Successfully installed factor-analyzer-0.2.3\n"
          ],
          "name": "stdout"
        }
      ]
    },
    {
      "cell_type": "markdown",
      "metadata": {
        "id": "gq1wTWGHS9R7",
        "colab_type": "text"
      },
      "source": [
        "KMO test "
      ]
    },
    {
      "cell_type": "code",
      "metadata": {
        "id": "2Uz6n1z8S-6q",
        "colab_type": "code",
        "colab": {}
      },
      "source": [
        "from factor_analyzer.factor_analyzer import calculate_kmo\n",
        "kmo_all,kmo_model=calculate_kmo(Finance_df)"
      ],
      "execution_count": 0,
      "outputs": []
    },
    {
      "cell_type": "markdown",
      "metadata": {
        "id": "-AKgnueDTQYr",
        "colab_type": "text"
      },
      "source": [
        "Number factors "
      ]
    },
    {
      "cell_type": "code",
      "metadata": {
        "id": "440csNATTTAC",
        "colab_type": "code",
        "colab": {
          "base_uri": "https://localhost:8080/",
          "height": 263
        },
        "outputId": "28f18c82-bfcd-4f1c-aaa6-ca80c0db1df3"
      },
      "source": [
        "from factor_analyzer import FactorAnalyzer\n",
        "fa = FactorAnalyzer()\n",
        "fa.analyze(Finance_df, 5, rotation='varimax')\n",
        "fa.loadings"
      ],
      "execution_count": 119,
      "outputs": [
        {
          "output_type": "execute_result",
          "data": {
            "text/html": [
              "<div>\n",
              "<style scoped>\n",
              "    .dataframe tbody tr th:only-of-type {\n",
              "        vertical-align: middle;\n",
              "    }\n",
              "\n",
              "    .dataframe tbody tr th {\n",
              "        vertical-align: top;\n",
              "    }\n",
              "\n",
              "    .dataframe thead th {\n",
              "        text-align: right;\n",
              "    }\n",
              "</style>\n",
              "<table border=\"1\" class=\"dataframe\">\n",
              "  <thead>\n",
              "    <tr style=\"text-align: right;\">\n",
              "      <th></th>\n",
              "      <th>Factor1</th>\n",
              "      <th>Factor2</th>\n",
              "      <th>Factor3</th>\n",
              "      <th>Factor4</th>\n",
              "      <th>Factor5</th>\n",
              "    </tr>\n",
              "  </thead>\n",
              "  <tbody>\n",
              "    <tr>\n",
              "      <th>year</th>\n",
              "      <td>-0.115858</td>\n",
              "      <td>-0.028474</td>\n",
              "      <td>0.022352</td>\n",
              "      <td>0.480218</td>\n",
              "      <td>-0.007085</td>\n",
              "    </tr>\n",
              "    <tr>\n",
              "      <th>Has a Bank account</th>\n",
              "      <td>-0.033185</td>\n",
              "      <td>0.034589</td>\n",
              "      <td>0.307770</td>\n",
              "      <td>0.211002</td>\n",
              "      <td>0.205800</td>\n",
              "    </tr>\n",
              "    <tr>\n",
              "      <th>Type of Location</th>\n",
              "      <td>-0.556484</td>\n",
              "      <td>-0.126849</td>\n",
              "      <td>0.028433</td>\n",
              "      <td>0.282497</td>\n",
              "      <td>0.026955</td>\n",
              "    </tr>\n",
              "    <tr>\n",
              "      <th>household_size</th>\n",
              "      <td>0.559704</td>\n",
              "      <td>-0.266226</td>\n",
              "      <td>0.046593</td>\n",
              "      <td>0.013621</td>\n",
              "      <td>-0.053840</td>\n",
              "    </tr>\n",
              "    <tr>\n",
              "      <th>Respondent Age</th>\n",
              "      <td>-0.017596</td>\n",
              "      <td>0.411909</td>\n",
              "      <td>0.021730</td>\n",
              "      <td>-0.021195</td>\n",
              "      <td>0.012274</td>\n",
              "    </tr>\n",
              "    <tr>\n",
              "      <th>gender_of_respondent</th>\n",
              "      <td>-0.014742</td>\n",
              "      <td>0.009086</td>\n",
              "      <td>0.421092</td>\n",
              "      <td>-0.019278</td>\n",
              "      <td>-0.048109</td>\n",
              "    </tr>\n",
              "    <tr>\n",
              "      <th>Type of Job</th>\n",
              "      <td>0.432094</td>\n",
              "      <td>0.053047</td>\n",
              "      <td>-0.141980</td>\n",
              "      <td>-0.124590</td>\n",
              "      <td>0.276028</td>\n",
              "    </tr>\n",
              "  </tbody>\n",
              "</table>\n",
              "</div>"
            ],
            "text/plain": [
              "                       Factor1   Factor2   Factor3   Factor4   Factor5\n",
              "year                 -0.115858 -0.028474  0.022352  0.480218 -0.007085\n",
              "Has a Bank account   -0.033185  0.034589  0.307770  0.211002  0.205800\n",
              "Type of Location     -0.556484 -0.126849  0.028433  0.282497  0.026955\n",
              "household_size        0.559704 -0.266226  0.046593  0.013621 -0.053840\n",
              "Respondent Age       -0.017596  0.411909  0.021730 -0.021195  0.012274\n",
              "gender_of_respondent -0.014742  0.009086  0.421092 -0.019278 -0.048109\n",
              "Type of Job           0.432094  0.053047 -0.141980 -0.124590  0.276028"
            ]
          },
          "metadata": {
            "tags": []
          },
          "execution_count": 119
        }
      ]
    },
    {
      "cell_type": "markdown",
      "metadata": {
        "id": "v98WxMjETjqb",
        "colab_type": "text"
      },
      "source": [
        "Eigenvalues"
      ]
    },
    {
      "cell_type": "code",
      "metadata": {
        "id": "WAIXAuPtTlOv",
        "colab_type": "code",
        "colab": {
          "base_uri": "https://localhost:8080/",
          "height": 263
        },
        "outputId": "4f020957-35c6-417e-df7f-ab6da765cfcf"
      },
      "source": [
        "ev, v = fa.get_eigenvalues()\n",
        "ev"
      ],
      "execution_count": 120,
      "outputs": [
        {
          "output_type": "execute_result",
          "data": {
            "text/html": [
              "<div>\n",
              "<style scoped>\n",
              "    .dataframe tbody tr th:only-of-type {\n",
              "        vertical-align: middle;\n",
              "    }\n",
              "\n",
              "    .dataframe tbody tr th {\n",
              "        vertical-align: top;\n",
              "    }\n",
              "\n",
              "    .dataframe thead th {\n",
              "        text-align: right;\n",
              "    }\n",
              "</style>\n",
              "<table border=\"1\" class=\"dataframe\">\n",
              "  <thead>\n",
              "    <tr style=\"text-align: right;\">\n",
              "      <th></th>\n",
              "      <th>Original_Eigenvalues</th>\n",
              "    </tr>\n",
              "  </thead>\n",
              "  <tbody>\n",
              "    <tr>\n",
              "      <th>0</th>\n",
              "      <td>1.618141</td>\n",
              "    </tr>\n",
              "    <tr>\n",
              "      <th>1</th>\n",
              "      <td>1.116533</td>\n",
              "    </tr>\n",
              "    <tr>\n",
              "      <th>2</th>\n",
              "      <td>1.071854</td>\n",
              "    </tr>\n",
              "    <tr>\n",
              "      <th>3</th>\n",
              "      <td>0.968915</td>\n",
              "    </tr>\n",
              "    <tr>\n",
              "      <th>4</th>\n",
              "      <td>0.841585</td>\n",
              "    </tr>\n",
              "    <tr>\n",
              "      <th>5</th>\n",
              "      <td>0.737641</td>\n",
              "    </tr>\n",
              "    <tr>\n",
              "      <th>6</th>\n",
              "      <td>0.645331</td>\n",
              "    </tr>\n",
              "  </tbody>\n",
              "</table>\n",
              "</div>"
            ],
            "text/plain": [
              "   Original_Eigenvalues\n",
              "0              1.618141\n",
              "1              1.116533\n",
              "2              1.071854\n",
              "3              0.968915\n",
              "4              0.841585\n",
              "5              0.737641\n",
              "6              0.645331"
            ]
          },
          "metadata": {
            "tags": []
          },
          "execution_count": 120
        }
      ]
    },
    {
      "cell_type": "markdown",
      "metadata": {
        "id": "SFNq8Ck1TqfX",
        "colab_type": "text"
      },
      "source": [
        "Factor anlysis object "
      ]
    },
    {
      "cell_type": "code",
      "metadata": {
        "id": "GBsreHRCUFVP",
        "colab_type": "code",
        "colab": {
          "base_uri": "https://localhost:8080/",
          "height": 263
        },
        "outputId": "2cb5d399-a1d9-4084-ca52-7433df64078f"
      },
      "source": [
        "fa = FactorAnalyzer()\n",
        "fa.analyze(Finance_df, 5, rotation='varimax')\n",
        "fa.loadings"
      ],
      "execution_count": 124,
      "outputs": [
        {
          "output_type": "execute_result",
          "data": {
            "text/html": [
              "<div>\n",
              "<style scoped>\n",
              "    .dataframe tbody tr th:only-of-type {\n",
              "        vertical-align: middle;\n",
              "    }\n",
              "\n",
              "    .dataframe tbody tr th {\n",
              "        vertical-align: top;\n",
              "    }\n",
              "\n",
              "    .dataframe thead th {\n",
              "        text-align: right;\n",
              "    }\n",
              "</style>\n",
              "<table border=\"1\" class=\"dataframe\">\n",
              "  <thead>\n",
              "    <tr style=\"text-align: right;\">\n",
              "      <th></th>\n",
              "      <th>Factor1</th>\n",
              "      <th>Factor2</th>\n",
              "      <th>Factor3</th>\n",
              "      <th>Factor4</th>\n",
              "      <th>Factor5</th>\n",
              "    </tr>\n",
              "  </thead>\n",
              "  <tbody>\n",
              "    <tr>\n",
              "      <th>year</th>\n",
              "      <td>-0.115858</td>\n",
              "      <td>-0.028474</td>\n",
              "      <td>0.022352</td>\n",
              "      <td>0.480218</td>\n",
              "      <td>-0.007085</td>\n",
              "    </tr>\n",
              "    <tr>\n",
              "      <th>Has a Bank account</th>\n",
              "      <td>-0.033185</td>\n",
              "      <td>0.034589</td>\n",
              "      <td>0.307770</td>\n",
              "      <td>0.211002</td>\n",
              "      <td>0.205800</td>\n",
              "    </tr>\n",
              "    <tr>\n",
              "      <th>Type of Location</th>\n",
              "      <td>-0.556484</td>\n",
              "      <td>-0.126849</td>\n",
              "      <td>0.028433</td>\n",
              "      <td>0.282497</td>\n",
              "      <td>0.026955</td>\n",
              "    </tr>\n",
              "    <tr>\n",
              "      <th>household_size</th>\n",
              "      <td>0.559704</td>\n",
              "      <td>-0.266226</td>\n",
              "      <td>0.046593</td>\n",
              "      <td>0.013621</td>\n",
              "      <td>-0.053840</td>\n",
              "    </tr>\n",
              "    <tr>\n",
              "      <th>Respondent Age</th>\n",
              "      <td>-0.017596</td>\n",
              "      <td>0.411909</td>\n",
              "      <td>0.021730</td>\n",
              "      <td>-0.021195</td>\n",
              "      <td>0.012274</td>\n",
              "    </tr>\n",
              "    <tr>\n",
              "      <th>gender_of_respondent</th>\n",
              "      <td>-0.014742</td>\n",
              "      <td>0.009086</td>\n",
              "      <td>0.421092</td>\n",
              "      <td>-0.019278</td>\n",
              "      <td>-0.048109</td>\n",
              "    </tr>\n",
              "    <tr>\n",
              "      <th>Type of Job</th>\n",
              "      <td>0.432094</td>\n",
              "      <td>0.053047</td>\n",
              "      <td>-0.141980</td>\n",
              "      <td>-0.124590</td>\n",
              "      <td>0.276028</td>\n",
              "    </tr>\n",
              "  </tbody>\n",
              "</table>\n",
              "</div>"
            ],
            "text/plain": [
              "                       Factor1   Factor2   Factor3   Factor4   Factor5\n",
              "year                 -0.115858 -0.028474  0.022352  0.480218 -0.007085\n",
              "Has a Bank account   -0.033185  0.034589  0.307770  0.211002  0.205800\n",
              "Type of Location     -0.556484 -0.126849  0.028433  0.282497  0.026955\n",
              "household_size        0.559704 -0.266226  0.046593  0.013621 -0.053840\n",
              "Respondent Age       -0.017596  0.411909  0.021730 -0.021195  0.012274\n",
              "gender_of_respondent -0.014742  0.009086  0.421092 -0.019278 -0.048109\n",
              "Type of Job           0.432094  0.053047 -0.141980 -0.124590  0.276028"
            ]
          },
          "metadata": {
            "tags": []
          },
          "execution_count": 124
        }
      ]
    },
    {
      "cell_type": "markdown",
      "metadata": {
        "id": "-FAydN1WUbZx",
        "colab_type": "text"
      },
      "source": [
        "Discriminant Analysis"
      ]
    },
    {
      "cell_type": "markdown",
      "metadata": {
        "id": "fLm_alD3UeDp",
        "colab_type": "text"
      },
      "source": [
        "prepocessing "
      ]
    },
    {
      "cell_type": "code",
      "metadata": {
        "id": "qfYCSxb_UlnB",
        "colab_type": "code",
        "colab": {}
      },
      "source": [
        "X = Finance_df.iloc[:, 1:6]\n",
        "y = Finance_df[\"Has a Bank account\"]"
      ],
      "execution_count": 0,
      "outputs": []
    },
    {
      "cell_type": "markdown",
      "metadata": {
        "id": "Y_6cVs_kUxbR",
        "colab_type": "text"
      },
      "source": [
        "Divide data "
      ]
    },
    {
      "cell_type": "code",
      "metadata": {
        "id": "dANMHrCuU0Eh",
        "colab_type": "code",
        "colab": {}
      },
      "source": [
        "from sklearn.model_selection import train_test_split\n",
        "X_train, X_test, y_train, y_test = train_test_split(X, y, test_size=0.2, random_state=0)"
      ],
      "execution_count": 0,
      "outputs": []
    },
    {
      "cell_type": "markdown",
      "metadata": {
        "id": "2WZ7iNDCU5LJ",
        "colab_type": "text"
      },
      "source": [
        "Scaling "
      ]
    },
    {
      "cell_type": "code",
      "metadata": {
        "id": "FIodBNZmU6np",
        "colab_type": "code",
        "colab": {}
      },
      "source": [
        "from sklearn.preprocessing import StandardScaler\n",
        "sc = StandardScaler()\n",
        "X_train = sc.fit_transform(X_train)\n",
        "X_test = sc.transform(X_test)"
      ],
      "execution_count": 0,
      "outputs": []
    },
    {
      "cell_type": "markdown",
      "metadata": {
        "id": "FzVYWE1NU7xb",
        "colab_type": "text"
      },
      "source": [
        "Linear analysis "
      ]
    },
    {
      "cell_type": "code",
      "metadata": {
        "id": "k7g3-pXDVBL6",
        "colab_type": "code",
        "colab": {}
      },
      "source": [
        "from sklearn.discriminant_analysis import LinearDiscriminantAnalysis as LDA\n",
        "lda = LDA(n_components=1)\n",
        "X_train = lda.fit_transform(X_train, y_train)\n",
        "X_test = lda.transform(X_test)"
      ],
      "execution_count": 0,
      "outputs": []
    }
  ]
}